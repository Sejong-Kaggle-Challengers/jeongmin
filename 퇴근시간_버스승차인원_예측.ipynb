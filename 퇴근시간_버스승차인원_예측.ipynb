{
  "nbformat": 4,
  "nbformat_minor": 0,
  "metadata": {
    "colab": {
      "name": "퇴근시간 버스승차인원 예측",
      "provenance": [],
      "authorship_tag": "ABX9TyMwWI6gPlggLHHP+AyBW9zC",
      "include_colab_link": true
    },
    "kernelspec": {
      "name": "python3",
      "display_name": "Python 3"
    },
    "accelerator": "GPU"
  },
  "cells": [
    {
      "cell_type": "markdown",
      "metadata": {
        "id": "view-in-github",
        "colab_type": "text"
      },
      "source": [
        "<a href=\"https://colab.research.google.com/github/Sejong-Kaggle-Challengers/jeongmin/blob/main/%ED%87%B4%EA%B7%BC%EC%8B%9C%EA%B0%84_%EB%B2%84%EC%8A%A4%EC%8A%B9%EC%B0%A8%EC%9D%B8%EC%9B%90_%EC%98%88%EC%B8%A1.ipynb\" target=\"_parent\"><img src=\"https://colab.research.google.com/assets/colab-badge.svg\" alt=\"Open In Colab\"/></a>"
      ]
    },
    {
      "cell_type": "markdown",
      "metadata": {
        "id": "hvLFXFxR1nzt"
      },
      "source": [
        "- id : 해당 데이터에서의 고유한 ID(train, test와의 중복은 없음)\r\n",
        "- date : 날짜\r\n",
        "- bus_route_id : 노선ID\r\n",
        "- in_out : 시내버스, 시외버스 구분\r\n",
        "- station_code : 해당 승하차 정류소의 ID\r\n",
        "- station_name : 해당 승하차 정류소의 이름\r\n",
        "- latitude : 해당 버스 정류장의 위도 (같은 정류장 이름이어도 버스의 진행 방향에 따라 다를 수 있음)\r\n",
        "- longitude : 해당 버스 정류장의 경도 (같은 정류장 이름이어도 버스의 진행 방향에 따라 다를 수 있음)\r\n",
        "- X~Y_ride : X:00:00부터 X:59:59까지 승차한 인원 수\r\n",
        "- X~Y_takeoff : X:00:00부터 X:59:59까지 하차한 인원 수\r\n",
        "- 18~20_ride : 18:00:00부터 19:59:59까지 승차한 인원 수 (train data에만 존재)"
      ]
    },
    {
      "cell_type": "markdown",
      "metadata": {
        "id": "sY_C3Zr09uPi"
      },
      "source": [
        "#데이터 업로드"
      ]
    },
    {
      "cell_type": "code",
      "metadata": {
        "colab": {
          "base_uri": "https://localhost:8080/"
        },
        "id": "Jg3Kyg_t1doF",
        "outputId": "6544d78d-9a6c-419f-81ff-f26501429de6"
      },
      "source": [
        "!unzip data13.zip"
      ],
      "execution_count": 294,
      "outputs": [
        {
          "output_type": "stream",
          "text": [
            "Archive:  data13.zip\n",
            "replace 행정_법정동 중심좌표.xlsx? [y]es, [n]o, [A]ll, [N]one, [r]ename: ㅜ\n",
            "error:  invalid response [ㅜ]\n",
            "replace 행정_법정동 중심좌표.xlsx? [y]es, [n]o, [A]ll, [N]one, [r]ename: ㅜ\n",
            "error:  invalid response [ㅜ]\n",
            "replace 행정_법정동 중심좌표.xlsx? [y]es, [n]o, [A]ll, [N]one, [r]ename: n\n",
            "replace test.csv? [y]es, [n]o, [A]ll, [N]one, [r]ename: n\n",
            "replace train.csv? [y]es, [n]o, [A]ll, [N]one, [r]ename: n\n",
            "replace submission_sample.csv? [y]es, [n]o, [A]ll, [N]one, [r]ename: n\n",
            "replace bus_bts.csv? [y]es, [n]o, [A]ll, [N]one, [r]ename: n\n"
          ],
          "name": "stdout"
        }
      ]
    },
    {
      "cell_type": "code",
      "metadata": {
        "colab": {
          "base_uri": "https://localhost:8080/",
          "height": 299
        },
        "id": "biHqZmY13KzL",
        "outputId": "44cf826f-fe86-4794-cae4-33801bd1100e"
      },
      "source": [
        "import pandas as pd\r\n",
        "\r\n",
        "train = pd.read_csv(\"train.csv\")\r\n",
        "test = pd.read_csv(\"test.csv\")\r\n",
        "test.head()"
      ],
      "execution_count": 295,
      "outputs": [
        {
          "output_type": "execute_result",
          "data": {
            "text/html": [
              "<div>\n",
              "<style scoped>\n",
              "    .dataframe tbody tr th:only-of-type {\n",
              "        vertical-align: middle;\n",
              "    }\n",
              "\n",
              "    .dataframe tbody tr th {\n",
              "        vertical-align: top;\n",
              "    }\n",
              "\n",
              "    .dataframe thead th {\n",
              "        text-align: right;\n",
              "    }\n",
              "</style>\n",
              "<table border=\"1\" class=\"dataframe\">\n",
              "  <thead>\n",
              "    <tr style=\"text-align: right;\">\n",
              "      <th></th>\n",
              "      <th>id</th>\n",
              "      <th>date</th>\n",
              "      <th>bus_route_id</th>\n",
              "      <th>in_out</th>\n",
              "      <th>station_code</th>\n",
              "      <th>station_name</th>\n",
              "      <th>latitude</th>\n",
              "      <th>longitude</th>\n",
              "      <th>6~7_ride</th>\n",
              "      <th>7~8_ride</th>\n",
              "      <th>8~9_ride</th>\n",
              "      <th>9~10_ride</th>\n",
              "      <th>10~11_ride</th>\n",
              "      <th>11~12_ride</th>\n",
              "      <th>6~7_takeoff</th>\n",
              "      <th>7~8_takeoff</th>\n",
              "      <th>8~9_takeoff</th>\n",
              "      <th>9~10_takeoff</th>\n",
              "      <th>10~11_takeoff</th>\n",
              "      <th>11~12_takeoff</th>\n",
              "    </tr>\n",
              "  </thead>\n",
              "  <tbody>\n",
              "    <tr>\n",
              "      <th>0</th>\n",
              "      <td>415423</td>\n",
              "      <td>2019-10-01</td>\n",
              "      <td>4270000</td>\n",
              "      <td>시외</td>\n",
              "      <td>344</td>\n",
              "      <td>제주썬호텔</td>\n",
              "      <td>33.48990</td>\n",
              "      <td>126.49373</td>\n",
              "      <td>4.0</td>\n",
              "      <td>4.0</td>\n",
              "      <td>7.0</td>\n",
              "      <td>2.0</td>\n",
              "      <td>9.0</td>\n",
              "      <td>1.0</td>\n",
              "      <td>0.0</td>\n",
              "      <td>0.0</td>\n",
              "      <td>0.0</td>\n",
              "      <td>0.0</td>\n",
              "      <td>0.0</td>\n",
              "      <td>1.0</td>\n",
              "    </tr>\n",
              "    <tr>\n",
              "      <th>1</th>\n",
              "      <td>415424</td>\n",
              "      <td>2019-10-01</td>\n",
              "      <td>4270000</td>\n",
              "      <td>시외</td>\n",
              "      <td>357</td>\n",
              "      <td>한라병원</td>\n",
              "      <td>33.48944</td>\n",
              "      <td>126.48508</td>\n",
              "      <td>1.0</td>\n",
              "      <td>6.0</td>\n",
              "      <td>6.0</td>\n",
              "      <td>1.0</td>\n",
              "      <td>8.0</td>\n",
              "      <td>11.0</td>\n",
              "      <td>0.0</td>\n",
              "      <td>0.0</td>\n",
              "      <td>0.0</td>\n",
              "      <td>0.0</td>\n",
              "      <td>0.0</td>\n",
              "      <td>0.0</td>\n",
              "    </tr>\n",
              "    <tr>\n",
              "      <th>2</th>\n",
              "      <td>415425</td>\n",
              "      <td>2019-10-01</td>\n",
              "      <td>4270000</td>\n",
              "      <td>시외</td>\n",
              "      <td>432</td>\n",
              "      <td>정존마을</td>\n",
              "      <td>33.48181</td>\n",
              "      <td>126.47352</td>\n",
              "      <td>2.0</td>\n",
              "      <td>4.0</td>\n",
              "      <td>2.0</td>\n",
              "      <td>2.0</td>\n",
              "      <td>2.0</td>\n",
              "      <td>1.0</td>\n",
              "      <td>0.0</td>\n",
              "      <td>0.0</td>\n",
              "      <td>0.0</td>\n",
              "      <td>0.0</td>\n",
              "      <td>0.0</td>\n",
              "      <td>0.0</td>\n",
              "    </tr>\n",
              "    <tr>\n",
              "      <th>3</th>\n",
              "      <td>415426</td>\n",
              "      <td>2019-10-01</td>\n",
              "      <td>4270000</td>\n",
              "      <td>시내</td>\n",
              "      <td>1579</td>\n",
              "      <td>제주국제공항(600번)</td>\n",
              "      <td>33.50577</td>\n",
              "      <td>126.49252</td>\n",
              "      <td>1.0</td>\n",
              "      <td>11.0</td>\n",
              "      <td>18.0</td>\n",
              "      <td>8.0</td>\n",
              "      <td>26.0</td>\n",
              "      <td>20.0</td>\n",
              "      <td>0.0</td>\n",
              "      <td>0.0</td>\n",
              "      <td>0.0</td>\n",
              "      <td>0.0</td>\n",
              "      <td>0.0</td>\n",
              "      <td>0.0</td>\n",
              "    </tr>\n",
              "    <tr>\n",
              "      <th>4</th>\n",
              "      <td>415427</td>\n",
              "      <td>2019-10-01</td>\n",
              "      <td>4270000</td>\n",
              "      <td>시내</td>\n",
              "      <td>1636</td>\n",
              "      <td>롯데호텔</td>\n",
              "      <td>33.24872</td>\n",
              "      <td>126.41032</td>\n",
              "      <td>0.0</td>\n",
              "      <td>0.0</td>\n",
              "      <td>0.0</td>\n",
              "      <td>0.0</td>\n",
              "      <td>0.0</td>\n",
              "      <td>0.0</td>\n",
              "      <td>0.0</td>\n",
              "      <td>0.0</td>\n",
              "      <td>0.0</td>\n",
              "      <td>1.0</td>\n",
              "      <td>0.0</td>\n",
              "      <td>0.0</td>\n",
              "    </tr>\n",
              "  </tbody>\n",
              "</table>\n",
              "</div>"
            ],
            "text/plain": [
              "       id        date  bus_route_id  ... 9~10_takeoff  10~11_takeoff 11~12_takeoff\n",
              "0  415423  2019-10-01       4270000  ...          0.0            0.0           1.0\n",
              "1  415424  2019-10-01       4270000  ...          0.0            0.0           0.0\n",
              "2  415425  2019-10-01       4270000  ...          0.0            0.0           0.0\n",
              "3  415426  2019-10-01       4270000  ...          0.0            0.0           0.0\n",
              "4  415427  2019-10-01       4270000  ...          1.0            0.0           0.0\n",
              "\n",
              "[5 rows x 20 columns]"
            ]
          },
          "metadata": {
            "tags": []
          },
          "execution_count": 295
        }
      ]
    },
    {
      "cell_type": "code",
      "metadata": {
        "colab": {
          "base_uri": "https://localhost:8080/"
        },
        "id": "TgV6PYLTOakL",
        "outputId": "045c11f2-bfd2-42d1-bb3c-b9a6df2ab0e6"
      },
      "source": [
        "train.shape"
      ],
      "execution_count": 296,
      "outputs": [
        {
          "output_type": "execute_result",
          "data": {
            "text/plain": [
              "(415423, 21)"
            ]
          },
          "metadata": {
            "tags": []
          },
          "execution_count": 296
        }
      ]
    },
    {
      "cell_type": "code",
      "metadata": {
        "colab": {
          "base_uri": "https://localhost:8080/",
          "height": 1000
        },
        "id": "eu0NDVTO5tPr",
        "outputId": "63b8277e-91a7-4967-f398-189b8cf68eff"
      },
      "source": [
        "weather = pd.read_csv(\"제주시_기온강수량.csv\")\r\n",
        "weather['rain'] = weather['rain'].fillna(0)\r\n",
        "weather"
      ],
      "execution_count": 297,
      "outputs": [
        {
          "output_type": "execute_result",
          "data": {
            "text/html": [
              "<div>\n",
              "<style scoped>\n",
              "    .dataframe tbody tr th:only-of-type {\n",
              "        vertical-align: middle;\n",
              "    }\n",
              "\n",
              "    .dataframe tbody tr th {\n",
              "        vertical-align: top;\n",
              "    }\n",
              "\n",
              "    .dataframe thead th {\n",
              "        text-align: right;\n",
              "    }\n",
              "</style>\n",
              "<table border=\"1\" class=\"dataframe\">\n",
              "  <thead>\n",
              "    <tr style=\"text-align: right;\">\n",
              "      <th></th>\n",
              "      <th>date</th>\n",
              "      <th>avgTemp</th>\n",
              "      <th>minTemp</th>\n",
              "      <th>maxTemp</th>\n",
              "      <th>rain</th>\n",
              "    </tr>\n",
              "  </thead>\n",
              "  <tbody>\n",
              "    <tr>\n",
              "      <th>0</th>\n",
              "      <td>2019-09-01</td>\n",
              "      <td>23.3</td>\n",
              "      <td>20.6</td>\n",
              "      <td>26.3</td>\n",
              "      <td>26.1</td>\n",
              "    </tr>\n",
              "    <tr>\n",
              "      <th>1</th>\n",
              "      <td>2019-09-02</td>\n",
              "      <td>24.1</td>\n",
              "      <td>21.9</td>\n",
              "      <td>26.6</td>\n",
              "      <td>25.7</td>\n",
              "    </tr>\n",
              "    <tr>\n",
              "      <th>2</th>\n",
              "      <td>2019-09-03</td>\n",
              "      <td>24.8</td>\n",
              "      <td>22.4</td>\n",
              "      <td>26.7</td>\n",
              "      <td>13.9</td>\n",
              "    </tr>\n",
              "    <tr>\n",
              "      <th>3</th>\n",
              "      <td>2019-09-04</td>\n",
              "      <td>24.7</td>\n",
              "      <td>23.7</td>\n",
              "      <td>27.9</td>\n",
              "      <td>43.0</td>\n",
              "    </tr>\n",
              "    <tr>\n",
              "      <th>4</th>\n",
              "      <td>2019-09-05</td>\n",
              "      <td>26.2</td>\n",
              "      <td>23.4</td>\n",
              "      <td>30.4</td>\n",
              "      <td>7.0</td>\n",
              "    </tr>\n",
              "    <tr>\n",
              "      <th>5</th>\n",
              "      <td>2019-09-06</td>\n",
              "      <td>26.8</td>\n",
              "      <td>25.1</td>\n",
              "      <td>28.6</td>\n",
              "      <td>68.8</td>\n",
              "    </tr>\n",
              "    <tr>\n",
              "      <th>6</th>\n",
              "      <td>2019-09-07</td>\n",
              "      <td>27.6</td>\n",
              "      <td>24.9</td>\n",
              "      <td>30.3</td>\n",
              "      <td>34.3</td>\n",
              "    </tr>\n",
              "    <tr>\n",
              "      <th>7</th>\n",
              "      <td>2019-09-08</td>\n",
              "      <td>24.5</td>\n",
              "      <td>23.4</td>\n",
              "      <td>26.3</td>\n",
              "      <td>19.0</td>\n",
              "    </tr>\n",
              "    <tr>\n",
              "      <th>8</th>\n",
              "      <td>2019-09-09</td>\n",
              "      <td>26.2</td>\n",
              "      <td>23.7</td>\n",
              "      <td>29.0</td>\n",
              "      <td>24.7</td>\n",
              "    </tr>\n",
              "    <tr>\n",
              "      <th>9</th>\n",
              "      <td>2019-09-10</td>\n",
              "      <td>27.0</td>\n",
              "      <td>24.0</td>\n",
              "      <td>29.4</td>\n",
              "      <td>0.0</td>\n",
              "    </tr>\n",
              "    <tr>\n",
              "      <th>10</th>\n",
              "      <td>2019-09-11</td>\n",
              "      <td>26.0</td>\n",
              "      <td>24.1</td>\n",
              "      <td>29.3</td>\n",
              "      <td>5.0</td>\n",
              "    </tr>\n",
              "    <tr>\n",
              "      <th>11</th>\n",
              "      <td>2019-09-12</td>\n",
              "      <td>24.1</td>\n",
              "      <td>23.0</td>\n",
              "      <td>25.1</td>\n",
              "      <td>0.6</td>\n",
              "    </tr>\n",
              "    <tr>\n",
              "      <th>12</th>\n",
              "      <td>2019-09-13</td>\n",
              "      <td>24.0</td>\n",
              "      <td>22.1</td>\n",
              "      <td>26.7</td>\n",
              "      <td>0.0</td>\n",
              "    </tr>\n",
              "    <tr>\n",
              "      <th>13</th>\n",
              "      <td>2019-09-14</td>\n",
              "      <td>24.3</td>\n",
              "      <td>21.7</td>\n",
              "      <td>26.9</td>\n",
              "      <td>0.0</td>\n",
              "    </tr>\n",
              "    <tr>\n",
              "      <th>14</th>\n",
              "      <td>2019-09-15</td>\n",
              "      <td>24.6</td>\n",
              "      <td>22.9</td>\n",
              "      <td>26.9</td>\n",
              "      <td>0.0</td>\n",
              "    </tr>\n",
              "    <tr>\n",
              "      <th>15</th>\n",
              "      <td>2019-09-16</td>\n",
              "      <td>24.6</td>\n",
              "      <td>23.6</td>\n",
              "      <td>27.0</td>\n",
              "      <td>0.0</td>\n",
              "    </tr>\n",
              "    <tr>\n",
              "      <th>16</th>\n",
              "      <td>2019-09-17</td>\n",
              "      <td>23.8</td>\n",
              "      <td>22.0</td>\n",
              "      <td>25.8</td>\n",
              "      <td>0.0</td>\n",
              "    </tr>\n",
              "    <tr>\n",
              "      <th>17</th>\n",
              "      <td>2019-09-18</td>\n",
              "      <td>23.3</td>\n",
              "      <td>20.6</td>\n",
              "      <td>27.6</td>\n",
              "      <td>0.0</td>\n",
              "    </tr>\n",
              "    <tr>\n",
              "      <th>18</th>\n",
              "      <td>2019-09-19</td>\n",
              "      <td>22.8</td>\n",
              "      <td>19.3</td>\n",
              "      <td>25.9</td>\n",
              "      <td>0.0</td>\n",
              "    </tr>\n",
              "    <tr>\n",
              "      <th>19</th>\n",
              "      <td>2019-09-20</td>\n",
              "      <td>22.5</td>\n",
              "      <td>19.9</td>\n",
              "      <td>25.0</td>\n",
              "      <td>0.0</td>\n",
              "    </tr>\n",
              "    <tr>\n",
              "      <th>20</th>\n",
              "      <td>2019-09-21</td>\n",
              "      <td>20.5</td>\n",
              "      <td>19.1</td>\n",
              "      <td>21.7</td>\n",
              "      <td>156.0</td>\n",
              "    </tr>\n",
              "    <tr>\n",
              "      <th>21</th>\n",
              "      <td>2019-09-22</td>\n",
              "      <td>20.4</td>\n",
              "      <td>19.1</td>\n",
              "      <td>21.7</td>\n",
              "      <td>126.2</td>\n",
              "    </tr>\n",
              "    <tr>\n",
              "      <th>22</th>\n",
              "      <td>2019-09-23</td>\n",
              "      <td>21.0</td>\n",
              "      <td>18.4</td>\n",
              "      <td>24.5</td>\n",
              "      <td>0.0</td>\n",
              "    </tr>\n",
              "    <tr>\n",
              "      <th>23</th>\n",
              "      <td>2019-09-24</td>\n",
              "      <td>20.4</td>\n",
              "      <td>16.7</td>\n",
              "      <td>25.2</td>\n",
              "      <td>0.0</td>\n",
              "    </tr>\n",
              "    <tr>\n",
              "      <th>24</th>\n",
              "      <td>2019-09-25</td>\n",
              "      <td>21.8</td>\n",
              "      <td>18.3</td>\n",
              "      <td>25.2</td>\n",
              "      <td>0.0</td>\n",
              "    </tr>\n",
              "    <tr>\n",
              "      <th>25</th>\n",
              "      <td>2019-09-26</td>\n",
              "      <td>23.8</td>\n",
              "      <td>21.3</td>\n",
              "      <td>27.7</td>\n",
              "      <td>1.0</td>\n",
              "    </tr>\n",
              "    <tr>\n",
              "      <th>26</th>\n",
              "      <td>2019-09-27</td>\n",
              "      <td>23.8</td>\n",
              "      <td>22.7</td>\n",
              "      <td>25.7</td>\n",
              "      <td>36.0</td>\n",
              "    </tr>\n",
              "    <tr>\n",
              "      <th>27</th>\n",
              "      <td>2019-09-28</td>\n",
              "      <td>24.1</td>\n",
              "      <td>23.1</td>\n",
              "      <td>25.6</td>\n",
              "      <td>0.7</td>\n",
              "    </tr>\n",
              "    <tr>\n",
              "      <th>28</th>\n",
              "      <td>2019-09-29</td>\n",
              "      <td>24.1</td>\n",
              "      <td>22.9</td>\n",
              "      <td>26.3</td>\n",
              "      <td>0.0</td>\n",
              "    </tr>\n",
              "    <tr>\n",
              "      <th>29</th>\n",
              "      <td>2019-09-30</td>\n",
              "      <td>23.6</td>\n",
              "      <td>22.0</td>\n",
              "      <td>26.8</td>\n",
              "      <td>22.6</td>\n",
              "    </tr>\n",
              "    <tr>\n",
              "      <th>30</th>\n",
              "      <td>2019-10-01</td>\n",
              "      <td>23.4</td>\n",
              "      <td>20.5</td>\n",
              "      <td>26.4</td>\n",
              "      <td>36.3</td>\n",
              "    </tr>\n",
              "    <tr>\n",
              "      <th>31</th>\n",
              "      <td>2019-10-02</td>\n",
              "      <td>24.8</td>\n",
              "      <td>20.6</td>\n",
              "      <td>27.3</td>\n",
              "      <td>136.2</td>\n",
              "    </tr>\n",
              "    <tr>\n",
              "      <th>32</th>\n",
              "      <td>2019-10-03</td>\n",
              "      <td>23.4</td>\n",
              "      <td>21.9</td>\n",
              "      <td>26.2</td>\n",
              "      <td>0.2</td>\n",
              "    </tr>\n",
              "    <tr>\n",
              "      <th>33</th>\n",
              "      <td>2019-10-04</td>\n",
              "      <td>23.1</td>\n",
              "      <td>21.2</td>\n",
              "      <td>26.1</td>\n",
              "      <td>0.0</td>\n",
              "    </tr>\n",
              "    <tr>\n",
              "      <th>34</th>\n",
              "      <td>2019-10-05</td>\n",
              "      <td>20.8</td>\n",
              "      <td>18.4</td>\n",
              "      <td>23.2</td>\n",
              "      <td>0.0</td>\n",
              "    </tr>\n",
              "    <tr>\n",
              "      <th>35</th>\n",
              "      <td>2019-10-06</td>\n",
              "      <td>20.8</td>\n",
              "      <td>17.0</td>\n",
              "      <td>24.6</td>\n",
              "      <td>1.0</td>\n",
              "    </tr>\n",
              "    <tr>\n",
              "      <th>36</th>\n",
              "      <td>2019-10-07</td>\n",
              "      <td>21.8</td>\n",
              "      <td>20.2</td>\n",
              "      <td>23.6</td>\n",
              "      <td>0.0</td>\n",
              "    </tr>\n",
              "    <tr>\n",
              "      <th>37</th>\n",
              "      <td>2019-10-08</td>\n",
              "      <td>20.5</td>\n",
              "      <td>17.4</td>\n",
              "      <td>24.0</td>\n",
              "      <td>0.0</td>\n",
              "    </tr>\n",
              "    <tr>\n",
              "      <th>38</th>\n",
              "      <td>2019-10-09</td>\n",
              "      <td>17.6</td>\n",
              "      <td>14.2</td>\n",
              "      <td>21.5</td>\n",
              "      <td>0.0</td>\n",
              "    </tr>\n",
              "    <tr>\n",
              "      <th>39</th>\n",
              "      <td>2019-10-10</td>\n",
              "      <td>19.0</td>\n",
              "      <td>14.0</td>\n",
              "      <td>23.1</td>\n",
              "      <td>0.0</td>\n",
              "    </tr>\n",
              "    <tr>\n",
              "      <th>40</th>\n",
              "      <td>2019-10-11</td>\n",
              "      <td>21.0</td>\n",
              "      <td>17.1</td>\n",
              "      <td>23.9</td>\n",
              "      <td>0.0</td>\n",
              "    </tr>\n",
              "    <tr>\n",
              "      <th>41</th>\n",
              "      <td>2019-10-12</td>\n",
              "      <td>21.4</td>\n",
              "      <td>18.7</td>\n",
              "      <td>24.8</td>\n",
              "      <td>0.0</td>\n",
              "    </tr>\n",
              "    <tr>\n",
              "      <th>42</th>\n",
              "      <td>2019-10-13</td>\n",
              "      <td>19.7</td>\n",
              "      <td>17.1</td>\n",
              "      <td>22.8</td>\n",
              "      <td>0.0</td>\n",
              "    </tr>\n",
              "    <tr>\n",
              "      <th>43</th>\n",
              "      <td>2019-10-14</td>\n",
              "      <td>19.3</td>\n",
              "      <td>16.7</td>\n",
              "      <td>23.2</td>\n",
              "      <td>0.0</td>\n",
              "    </tr>\n",
              "    <tr>\n",
              "      <th>44</th>\n",
              "      <td>2019-10-15</td>\n",
              "      <td>17.4</td>\n",
              "      <td>15.2</td>\n",
              "      <td>19.1</td>\n",
              "      <td>3.2</td>\n",
              "    </tr>\n",
              "    <tr>\n",
              "      <th>45</th>\n",
              "      <td>2019-10-16</td>\n",
              "      <td>18.1</td>\n",
              "      <td>15.8</td>\n",
              "      <td>21.3</td>\n",
              "      <td>0.0</td>\n",
              "    </tr>\n",
              "  </tbody>\n",
              "</table>\n",
              "</div>"
            ],
            "text/plain": [
              "          date  avgTemp  minTemp  maxTemp   rain\n",
              "0   2019-09-01     23.3     20.6     26.3   26.1\n",
              "1   2019-09-02     24.1     21.9     26.6   25.7\n",
              "2   2019-09-03     24.8     22.4     26.7   13.9\n",
              "3   2019-09-04     24.7     23.7     27.9   43.0\n",
              "4   2019-09-05     26.2     23.4     30.4    7.0\n",
              "5   2019-09-06     26.8     25.1     28.6   68.8\n",
              "6   2019-09-07     27.6     24.9     30.3   34.3\n",
              "7   2019-09-08     24.5     23.4     26.3   19.0\n",
              "8   2019-09-09     26.2     23.7     29.0   24.7\n",
              "9   2019-09-10     27.0     24.0     29.4    0.0\n",
              "10  2019-09-11     26.0     24.1     29.3    5.0\n",
              "11  2019-09-12     24.1     23.0     25.1    0.6\n",
              "12  2019-09-13     24.0     22.1     26.7    0.0\n",
              "13  2019-09-14     24.3     21.7     26.9    0.0\n",
              "14  2019-09-15     24.6     22.9     26.9    0.0\n",
              "15  2019-09-16     24.6     23.6     27.0    0.0\n",
              "16  2019-09-17     23.8     22.0     25.8    0.0\n",
              "17  2019-09-18     23.3     20.6     27.6    0.0\n",
              "18  2019-09-19     22.8     19.3     25.9    0.0\n",
              "19  2019-09-20     22.5     19.9     25.0    0.0\n",
              "20  2019-09-21     20.5     19.1     21.7  156.0\n",
              "21  2019-09-22     20.4     19.1     21.7  126.2\n",
              "22  2019-09-23     21.0     18.4     24.5    0.0\n",
              "23  2019-09-24     20.4     16.7     25.2    0.0\n",
              "24  2019-09-25     21.8     18.3     25.2    0.0\n",
              "25  2019-09-26     23.8     21.3     27.7    1.0\n",
              "26  2019-09-27     23.8     22.7     25.7   36.0\n",
              "27  2019-09-28     24.1     23.1     25.6    0.7\n",
              "28  2019-09-29     24.1     22.9     26.3    0.0\n",
              "29  2019-09-30     23.6     22.0     26.8   22.6\n",
              "30  2019-10-01     23.4     20.5     26.4   36.3\n",
              "31  2019-10-02     24.8     20.6     27.3  136.2\n",
              "32  2019-10-03     23.4     21.9     26.2    0.2\n",
              "33  2019-10-04     23.1     21.2     26.1    0.0\n",
              "34  2019-10-05     20.8     18.4     23.2    0.0\n",
              "35  2019-10-06     20.8     17.0     24.6    1.0\n",
              "36  2019-10-07     21.8     20.2     23.6    0.0\n",
              "37  2019-10-08     20.5     17.4     24.0    0.0\n",
              "38  2019-10-09     17.6     14.2     21.5    0.0\n",
              "39  2019-10-10     19.0     14.0     23.1    0.0\n",
              "40  2019-10-11     21.0     17.1     23.9    0.0\n",
              "41  2019-10-12     21.4     18.7     24.8    0.0\n",
              "42  2019-10-13     19.7     17.1     22.8    0.0\n",
              "43  2019-10-14     19.3     16.7     23.2    0.0\n",
              "44  2019-10-15     17.4     15.2     19.1    3.2\n",
              "45  2019-10-16     18.1     15.8     21.3    0.0"
            ]
          },
          "metadata": {
            "tags": []
          },
          "execution_count": 297
        }
      ]
    },
    {
      "cell_type": "markdown",
      "metadata": {
        "id": "uGoO3tsz9-_S"
      },
      "source": [
        "#데이터 전처리\r\n",
        "1. 날짜\r\n",
        "- 공휴일 유무 column 생성하기 (2019-09-12 ~ 2019-09-14 : 추석)\r\n",
        "- 평일/주말 column 생성하기 \r\n",
        "2. \tin_out(시내/시외)\r\n",
        "- 범주형을 정수형으로 변경\r\n",
        "3. bus_route_id\r\n",
        "- 노선 ID 값이 8자리로 매우 큰 수 -> 각 값을 str로 바꾼 후 Labelencoder로 \r\n",
        "4. station_name, 위도, 경도 행 제거\r\n",
        "- station_code를 정렬해본 결과 같은 station_code끼리 이름과 위도 경도가 모두 일치\r\n",
        "\r\n",
        "id와 date는 제외하고 학습에 사용\r\n",
        "이후 데이터 정규화 StandardScaler 사용\r\n",
        "\r\n",
        "weather(평균기온, 최저기온, 최고기온, 강수량) 파일과 날짜 기준으로 병합시켜 사용한다."
      ]
    },
    {
      "cell_type": "code",
      "metadata": {
        "id": "Pa4ojnlw6r2K"
      },
      "source": [
        "train = pd.merge(train, weather, on = 'date')\r\n",
        "test = pd.merge(test, weather, on = 'date')"
      ],
      "execution_count": 298,
      "outputs": []
    },
    {
      "cell_type": "code",
      "metadata": {
        "colab": {
          "base_uri": "https://localhost:8080/"
        },
        "id": "TMgEKzyZ9k-y",
        "outputId": "aaf7ba36-ae11-4dfd-ea63-8ddf6e90c844"
      },
      "source": [
        "#날짜 정보 알아보기\r\n",
        "train['date'].unique()"
      ],
      "execution_count": 299,
      "outputs": [
        {
          "output_type": "execute_result",
          "data": {
            "text/plain": [
              "array(['2019-09-01', '2019-09-02', '2019-09-03', '2019-09-04',\n",
              "       '2019-09-05', '2019-09-06', '2019-09-07', '2019-09-08',\n",
              "       '2019-09-09', '2019-09-10', '2019-09-11', '2019-09-12',\n",
              "       '2019-09-13', '2019-09-14', '2019-09-15', '2019-09-16',\n",
              "       '2019-09-17', '2019-09-18', '2019-09-19', '2019-09-20',\n",
              "       '2019-09-21', '2019-09-22', '2019-09-23', '2019-09-24',\n",
              "       '2019-09-25', '2019-09-26', '2019-09-27', '2019-09-28',\n",
              "       '2019-09-29', '2019-09-30'], dtype=object)"
            ]
          },
          "metadata": {
            "tags": []
          },
          "execution_count": 299
        }
      ]
    },
    {
      "cell_type": "code",
      "metadata": {
        "colab": {
          "base_uri": "https://localhost:8080/"
        },
        "id": "1uHEa-4AR_YQ",
        "outputId": "5dca2072-8158-49da-ceb0-e839cfdb9b67"
      },
      "source": [
        "test['date'].unique()"
      ],
      "execution_count": 300,
      "outputs": [
        {
          "output_type": "execute_result",
          "data": {
            "text/plain": [
              "array(['2019-10-01', '2019-10-02', '2019-10-03', '2019-10-04',\n",
              "       '2019-10-05', '2019-10-06', '2019-10-07', '2019-10-08',\n",
              "       '2019-10-09', '2019-10-10', '2019-10-11', '2019-10-12',\n",
              "       '2019-10-13', '2019-10-14', '2019-10-15', '2019-10-16'],\n",
              "      dtype=object)"
            ]
          },
          "metadata": {
            "tags": []
          },
          "execution_count": 300
        }
      ]
    },
    {
      "cell_type": "code",
      "metadata": {
        "colab": {
          "base_uri": "https://localhost:8080/"
        },
        "id": "ZRXK4u6C-lJq",
        "outputId": "be5d50b7-c6d5-4126-dd73-5c910ea3e16a"
      },
      "source": [
        "#요일 \r\n",
        "import datetime\r\n",
        "train['dayofweek'] = pd.to_datetime(train['date']).dt.weekday\r\n",
        "test['dayofweek'] = pd.to_datetime(test['date']).dt.weekday\r\n",
        "\r\n",
        "#요일로 분류한 것을 평일(1)과 주말(0)로 변경\r\n",
        "train['weekend']=train['dayofweek'].apply(lambda x:1 if x<5 else 0)\r\n",
        "test['weekend']=test['dayofweek'].apply(lambda x:1 if x<5 else 0)\r\n",
        "train['weekend']"
      ],
      "execution_count": 301,
      "outputs": [
        {
          "output_type": "execute_result",
          "data": {
            "text/plain": [
              "0         0\n",
              "1         0\n",
              "2         0\n",
              "3         0\n",
              "4         0\n",
              "         ..\n",
              "415418    1\n",
              "415419    1\n",
              "415420    1\n",
              "415421    1\n",
              "415422    1\n",
              "Name: weekend, Length: 415423, dtype: int64"
            ]
          },
          "metadata": {
            "tags": []
          },
          "execution_count": 301
        }
      ]
    },
    {
      "cell_type": "code",
      "metadata": {
        "colab": {
          "base_uri": "https://localhost:8080/"
        },
        "id": "-7cEUfyyC8MK",
        "outputId": "7351a90f-e80b-45e6-d409-6348a72b948f"
      },
      "source": [
        "#공휴일 -- 공휴일이면 1 아니면 0\r\n",
        "#holidays.Korea()를 사용하면 우리나라 지정 공휴일을 구할 수 있는 것 같다.\r\n",
        "\r\n",
        "holi = pd.Series(['2019-09-12','2019-09-13', '2019-09-14'])\r\n",
        "train['holiday'] = train['date'].apply(lambda x : 1 if holi[0] == x or holi[1] == x or holi[2] == x else 0 )\r\n",
        "holi = pd.Series(['2019-10-03','2019-10-09'])\r\n",
        "test['holiday'] = test['date'].apply(lambda x : 1 if holi[0] == x or holi[1] == x else 0 )\r\n",
        "print(train['holiday'].value_counts())\r\n",
        "print(test['holiday'].value_counts())"
      ],
      "execution_count": 302,
      "outputs": [
        {
          "output_type": "stream",
          "text": [
            "0    384704\n",
            "1     30719\n",
            "Name: holiday, dtype: int64\n",
            "0    203564\n",
            "1     24606\n",
            "Name: holiday, dtype: int64\n"
          ],
          "name": "stdout"
        }
      ]
    },
    {
      "cell_type": "code",
      "metadata": {
        "colab": {
          "base_uri": "https://localhost:8080/"
        },
        "id": "xcJSBz2oLTDr",
        "outputId": "c0576ef3-299c-4335-de43-7c321c1e1647"
      },
      "source": [
        "#in_out 숫자로 변경 (시외 : 1, 시내 : 0)\r\n",
        "from sklearn.preprocessing import LabelEncoder\r\n",
        "le = LabelEncoder()\r\n",
        "train['in_out'] = le.fit_transform(train['in_out'])\r\n",
        "test['in_out'] = le.transform(test['in_out'])\r\n",
        "train['in_out']"
      ],
      "execution_count": 303,
      "outputs": [
        {
          "output_type": "execute_result",
          "data": {
            "text/plain": [
              "0         1\n",
              "1         1\n",
              "2         1\n",
              "3         0\n",
              "4         0\n",
              "         ..\n",
              "415418    0\n",
              "415419    0\n",
              "415420    0\n",
              "415421    0\n",
              "415422    0\n",
              "Name: in_out, Length: 415423, dtype: int64"
            ]
          },
          "metadata": {
            "tags": []
          },
          "execution_count": 303
        }
      ]
    },
    {
      "cell_type": "code",
      "metadata": {
        "id": "iIcoABZkMqqV"
      },
      "source": [
        "#Labelencoder 똑같이 적용\r\n",
        "le = LabelEncoder()\r\n",
        "train['bus_route_id'] = le.fit_transform(train['bus_route_id'].astype(str))\r\n",
        "test_le = list(le.classes_) + list(set(test['bus_route_id'].unique()) - set(train['bus_route_id'].unique()))\r\n",
        "\r\n",
        "le.fit(test_le)\r\n",
        "test['bus_route_id'] = le.transform(test['bus_route_id'].astype(str))\r\n",
        "\r\n",
        "le = LabelEncoder()\r\n",
        "le.fit(list(set(test['station_code'].unique()) | set(train['station_code'].unique())))\r\n",
        "train['station_code'] = le.transform(train['station_code'])\r\n",
        "test['station_code'] = le.transform(test['station_code'])"
      ],
      "execution_count": 304,
      "outputs": []
    },
    {
      "cell_type": "code",
      "metadata": {
        "colab": {
          "base_uri": "https://localhost:8080/",
          "height": 601
        },
        "id": "L-EEAAzDBLBU",
        "outputId": "9f938180-ac74-4229-aeec-cfe84a2a9166"
      },
      "source": [
        "import matplotlib.pyplot as plt #시각화\r\n",
        "import seaborn as sns #시각화\r\n",
        "\r\n",
        "corr = train.corr()\r\n",
        "\r\n",
        "#삼각형 마스크를 만든다.(위쪽 삼각형에 True, 아래 삼각형에 False)\r\n",
        "mask = np.zeros_like(corr, dtype = np.bool)\r\n",
        "mask[np.triu_indices_from(mask)] = True\r\n",
        "\r\n",
        "#Set up the matplotlib figure\r\n",
        "f, ax = plt.subplots(figsize=(11, 9))\r\n",
        "\r\n",
        "# Generate a custom diverging colormap\r\n",
        "cmap = sns.diverging_palette(220, 10, as_cmap=True)\r\n",
        "\r\n",
        "#Heatmap 그리기 - mask and correct aspect ratio  사용\r\n",
        "sns.heatmap(corr, mask = mask, cmap = cmap, center = 0, square=True, linewidths=.5, cbar_kws={\"shrink\":.5})\r\n",
        "\r\n",
        "plt.show()"
      ],
      "execution_count": 305,
      "outputs": [
        {
          "output_type": "display_data",
          "data": {
            "image/png": "[encoded data removed]",
            "text/plain": [
              "<Figure size 792x648 with 2 Axes>"
            ]
          },
          "metadata": {
            "tags": [],
            "needs_background": "light"
          }
        }
      ]
    },
    {
      "cell_type": "code",
      "metadata": {
        "id": "owOMC-ab1hT0"
      },
      "source": [
        "#필요없는 행 제거\r\n",
        "train = train.drop(['station_name', 'dayofweek', 'latitude', 'longitude', 'avgTemp'], axis = 1)\r\n",
        "test = test.drop(['station_name', 'dayofweek', 'latitude', 'longitude','avgTemp'], axis = 1)"
      ],
      "execution_count": 306,
      "outputs": []
    },
    {
      "cell_type": "code",
      "metadata": {
        "id": "48Mil5ZyXk25"
      },
      "source": [
        "train_x = train.loc[:, \"bus_route_id\":\"holiday\"]\r\n",
        "del train_x['18~20_ride']\r\n",
        "train_y = train['18~20_ride']\r\n",
        "\r\n",
        "test_x = test.loc[:, \"bus_route_id\":\"holiday\"]"
      ],
      "execution_count": 307,
      "outputs": []
    },
    {
      "cell_type": "code",
      "metadata": {
        "id": "1T5Drm-rXl4G"
      },
      "source": [
        "#데이터 정규화\r\n",
        "from sklearn.preprocessing import StandardScaler\r\n",
        "scaler = StandardScaler()\r\n",
        "\r\n",
        "train_x = scaler.fit_transform(train_x)\r\n",
        "test_x = scaler.transform(test_x)"
      ],
      "execution_count": 308,
      "outputs": []
    },
    {
      "cell_type": "markdown",
      "metadata": {
        "id": "PUR1eX_rTce7"
      },
      "source": [
        "#모델 학습"
      ]
    },
    {
      "cell_type": "code",
      "metadata": {
        "colab": {
          "base_uri": "https://localhost:8080/"
        },
        "id": "DBw977Xa24_C",
        "outputId": "7a38437b-2a82-4ef0-ecbb-b5caa144daab"
      },
      "source": [
        "import torch\r\n",
        "import numpy as np\r\n",
        "import torch.optim as optim\r\n",
        "\r\n",
        "torch.manual_seed(1)\r\n",
        "\r\n",
        "train_x = np.array(train_x)\r\n",
        "train_y = np.array(train_y)\r\n",
        "\r\n",
        "train_x = torch.FloatTensor(train_x)\r\n",
        "train_y = torch.FloatTensor(train_y).unsqueeze(1)\r\n",
        "\r\n",
        "train_y"
      ],
      "execution_count": 309,
      "outputs": [
        {
          "output_type": "execute_result",
          "data": {
            "text/plain": [
              "tensor([[0.],\n",
              "        [5.],\n",
              "        [2.],\n",
              "        ...,\n",
              "        [0.],\n",
              "        [0.],\n",
              "        [0.]])"
            ]
          },
          "metadata": {
            "tags": []
          },
          "execution_count": 309
        }
      ]
    },
    {
      "cell_type": "code",
      "metadata": {
        "colab": {
          "base_uri": "https://localhost:8080/"
        },
        "id": "hZpMESybVUfP",
        "outputId": "0d2d7188-f264-4496-f63f-f8b42bbb0019"
      },
      "source": [
        "train_x.shape"
      ],
      "execution_count": 310,
      "outputs": [
        {
          "output_type": "execute_result",
          "data": {
            "text/plain": [
              "torch.Size([415423, 20])"
            ]
          },
          "metadata": {
            "tags": []
          },
          "execution_count": 310
        }
      ]
    },
    {
      "cell_type": "code",
      "metadata": {
        "colab": {
          "base_uri": "https://localhost:8080/",
          "height": 234
        },
        "id": "bCSnEfMd3S63",
        "outputId": "a3ff6bfb-50d8-420f-dd30-c8a727b77658"
      },
      "source": [
        "W = torch.zeros((14, 1), requires_grad= True)\r\n",
        "b = torch.zeros(1, requires_grad= True)\r\n",
        "\r\n",
        "optimizer = optim.SGD([W, b], lr = 1e-2)\r\n",
        "\r\n",
        "nb_epochs = 1000\r\n",
        "\r\n",
        "for epoch in range(nb_epochs + 1) :\r\n",
        "\r\n",
        "  hypothesis = train_x.matmul(W) + b\r\n",
        "  cost = torch.mean((hypothesis - train_y)**2)\r\n",
        "\r\n",
        "  optimizer.zero_grad()\r\n",
        "  cost.backward()\r\n",
        "  optimizer.step()\r\n",
        "\r\n",
        "  if epoch % 100 == 0:\r\n",
        "    print(epoch, cost.item())"
      ],
      "execution_count": 311,
      "outputs": [
        {
          "output_type": "error",
          "ename": "RuntimeError",
          "evalue": "ignored",
          "traceback": [
            "\u001b[0;31m---------------------------------------------------------------------------\u001b[0m",
            "\u001b[0;31mRuntimeError\u001b[0m                              Traceback (most recent call last)",
            "\u001b[0;32m<ipython-input-311-349bed4fa958>\u001b[0m in \u001b[0;36m<module>\u001b[0;34m()\u001b[0m\n\u001b[1;32m      8\u001b[0m \u001b[0;32mfor\u001b[0m \u001b[0mepoch\u001b[0m \u001b[0;32min\u001b[0m \u001b[0mrange\u001b[0m\u001b[0;34m(\u001b[0m\u001b[0mnb_epochs\u001b[0m \u001b[0;34m+\u001b[0m \u001b[0;36m1\u001b[0m\u001b[0;34m)\u001b[0m \u001b[0;34m:\u001b[0m\u001b[0;34m\u001b[0m\u001b[0;34m\u001b[0m\u001b[0m\n\u001b[1;32m      9\u001b[0m \u001b[0;34m\u001b[0m\u001b[0m\n\u001b[0;32m---> 10\u001b[0;31m   \u001b[0mhypothesis\u001b[0m \u001b[0;34m=\u001b[0m \u001b[0mtrain_x\u001b[0m\u001b[0;34m.\u001b[0m\u001b[0mmatmul\u001b[0m\u001b[0;34m(\u001b[0m\u001b[0mW\u001b[0m\u001b[0;34m)\u001b[0m \u001b[0;34m+\u001b[0m \u001b[0mb\u001b[0m\u001b[0;34m\u001b[0m\u001b[0;34m\u001b[0m\u001b[0m\n\u001b[0m\u001b[1;32m     11\u001b[0m   \u001b[0mcost\u001b[0m \u001b[0;34m=\u001b[0m \u001b[0mtorch\u001b[0m\u001b[0;34m.\u001b[0m\u001b[0mmean\u001b[0m\u001b[0;34m(\u001b[0m\u001b[0;34m(\u001b[0m\u001b[0mhypothesis\u001b[0m \u001b[0;34m-\u001b[0m \u001b[0mtrain_y\u001b[0m\u001b[0;34m)\u001b[0m\u001b[0;34m**\u001b[0m\u001b[0;36m2\u001b[0m\u001b[0;34m)\u001b[0m\u001b[0;34m\u001b[0m\u001b[0;34m\u001b[0m\u001b[0m\n\u001b[1;32m     12\u001b[0m \u001b[0;34m\u001b[0m\u001b[0m\n",
            "\u001b[0;31mRuntimeError\u001b[0m: mat1 and mat2 shapes cannot be multiplied (415423x20 and 14x1)"
          ]
        }
      ]
    },
    {
      "cell_type": "code",
      "metadata": {
        "id": "HVFpOBQRY2Jf"
      },
      "source": [
        "test_x = torch.FloatTensor(np.array(test_x))\r\n",
        "\r\n",
        "predict = (test_x.matmul(W)+b).detach()\r\n",
        "\r\n",
        "submit = pd.read_csv(\"submission_sample.csv\")\r\n",
        "\r\n",
        "for i in range(len(predict)):\r\n",
        "  submit[\"18~20_ride\"][i] = predict[i]\r\n",
        "  \r\n",
        "submit[\"18~20_ride\"] = submit[\"18~20_ride\"].astype(int)\r\n",
        "\r\n",
        "submit.to_csv(\"submission.csv\", index = False, header = True)\r\n",
        "\r\n",
        "\r\n",
        "#성능 (오차 정도) : \t3.3227256101"
      ],
      "execution_count": null,
      "outputs": []
    },
    {
      "cell_type": "markdown",
      "metadata": {
        "id": "aiES9Oo09qkI"
      },
      "source": [
        "----------------------------------------------------------------------------------------\r\n",
        "bus_route_id / date / station_code 겹치는 것을 사용\r\n",
        "\r\n",
        "bus_bts 에서 geton_date - getoff_date(Nan값 많음)\r\n",
        "대부분 동일 -> geton_date만 사용? \r\n",
        "\r\n",
        "하차 부분이 안찍힌 경우가 다 Nan값으로 떠있기 때문에\r\n",
        "채우는 것이 더 안좋을지 뺴는 부분이 좋을지 ? ? \r\n",
        "-> (895736)Nan값을 일단 제거하고 사용\r\n",
        "\r\n",
        "-> 탑승한 시간별로 그 승객들의 탑승하고 있는 시간의 평균..? 이용?\r\n",
        "user_category 사용\r\n",
        "\r\n",
        "station_name / latitude와longitude\r\n",
        "합쳐서 사용\r\n",
        "지명 - 1/지명 - 2 로 변경하거나\r\n",
        "위도 경도만 사용 ? 등등 ..\r\n",
        "\r\n",
        "in_out -> 0과 1로 바꾸기\r\n",
        "\r\n",
        "date -> 공휴일(명절) 유무 / 요일\r\n",
        "\r\n",
        "모델은 LR -> NN \r\n",
        "--> 둘의 큰 차이 없음"
      ]
    },
    {
      "cell_type": "markdown",
      "metadata": {
        "id": "2ZC4szB0R4kI"
      },
      "source": [
        "#bus_bts(아직 고려 X)"
      ]
    },
    {
      "cell_type": "code",
      "metadata": {
        "id": "C6acDAUK4QsW"
      },
      "source": [
        "bus_bts = pd.read_csv(\"bus_bts.csv\")\r\n",
        "bus_bts.head()"
      ],
      "execution_count": null,
      "outputs": []
    },
    {
      "cell_type": "code",
      "metadata": {
        "id": "AOAeI2k747he"
      },
      "source": [
        "bus_bts.shape"
      ],
      "execution_count": null,
      "outputs": []
    },
    {
      "cell_type": "code",
      "metadata": {
        "id": "in2P-FxY4vgt"
      },
      "source": [
        "bus_bts.isnull().sum()"
      ],
      "execution_count": null,
      "outputs": []
    }
  ]
}