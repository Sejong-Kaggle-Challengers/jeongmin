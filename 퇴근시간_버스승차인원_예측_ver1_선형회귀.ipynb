{
  "nbformat": 4,
  "nbformat_minor": 0,
  "metadata": {
    "colab": {
      "name": "퇴근시간 버스승차인원 예측_ver1 선형회귀",
      "provenance": [],
      "authorship_tag": "ABX9TyNj4tKiLBixwhafcD1SjhhD",
      "include_colab_link": true
    },
    "kernelspec": {
      "name": "python3",
      "display_name": "Python 3"
    }
  },
  "cells": [
    {
      "cell_type": "markdown",
      "metadata": {
        "id": "view-in-github",
        "colab_type": "text"
      },
      "source": [
        "<a href=\"https://colab.research.google.com/github/Sejong-Kaggle-Challengers/jeongmin/blob/main/%ED%87%B4%EA%B7%BC%EC%8B%9C%EA%B0%84_%EB%B2%84%EC%8A%A4%EC%8A%B9%EC%B0%A8%EC%9D%B8%EC%9B%90_%EC%98%88%EC%B8%A1_ver1_%EC%84%A0%ED%98%95%ED%9A%8C%EA%B7%80.ipynb\" target=\"_parent\"><img src=\"https://colab.research.google.com/assets/colab-badge.svg\" alt=\"Open In Colab\"/></a>"
      ]
    },
    {
      "cell_type": "markdown",
      "metadata": {
        "id": "hvLFXFxR1nzt"
      },
      "source": [
        "- id : 해당 데이터에서의 고유한 ID(train, test와의 중복은 없음)\r\n",
        "- date : 날짜\r\n",
        "- bus_route_id : 노선ID\r\n",
        "- in_out : 시내버스, 시외버스 구분\r\n",
        "- station_code : 해당 승하차 정류소의 ID\r\n",
        "- station_name : 해당 승하차 정류소의 이름\r\n",
        "- latitude : 해당 버스 정류장의 위도 (같은 정류장 이름이어도 버스의 진행 방향에 따라 다를 수 있음)\r\n",
        "- longitude : 해당 버스 정류장의 경도 (같은 정류장 이름이어도 버스의 진행 방향에 따라 다를 수 있음)\r\n",
        "- X~Y_ride : X:00:00부터 X:59:59까지 승차한 인원 수\r\n",
        "- X~Y_takeoff : X:00:00부터 X:59:59까지 하차한 인원 수\r\n",
        "- 18~20_ride : 18:00:00부터 19:59:59까지 승차한 인원 수 (train data에만 존재)"
      ]
    },
    {
      "cell_type": "markdown",
      "metadata": {
        "id": "aiES9Oo09qkI"
      },
      "source": [
        "bus_route_id / date / station_code 겹치는 것을 사용\r\n",
        "\r\n",
        "bus_bts 에서 geton_date - getoff_date(Nan값 많음)\r\n",
        "대부분 동일 -> geton_date만 사용? \r\n",
        "\r\n",
        "하차 부분이 안찍힌 경우가 다 Nan값으로 떠있기 때문에\r\n",
        "채우는 것이 더 안좋을지 뺴는 부분이 좋을지 ? ? \r\n",
        "-> (895736)Nan값을 일단 제거하고 사용\r\n",
        "\r\n",
        "-> 탑승한 시간별로 그 승객들의 탑승하고 있는 시간의 평균..? 이용?\r\n",
        "user_category 사용\r\n",
        "\r\n",
        "station_name / latitude와longitude\r\n",
        "합쳐서 사용\r\n",
        "지명 - 1/지명 - 2 로 변경하거나\r\n",
        "위도 경도만 사용 ? 등등 ..\r\n",
        "\r\n",
        "in_out -> 0과 1로 바꾸기\r\n",
        "\r\n",
        "date -> 공휴일(명절) 유무 / 요일\r\n",
        "\r\n",
        "모델은 LR -> NN ?"
      ]
    },
    {
      "cell_type": "markdown",
      "metadata": {
        "id": "sY_C3Zr09uPi"
      },
      "source": [
        "#데이터 업로드"
      ]
    },
    {
      "cell_type": "code",
      "metadata": {
        "colab": {
          "base_uri": "https://localhost:8080/"
        },
        "id": "Jg3Kyg_t1doF",
        "outputId": "89dda11d-e4ff-496c-a3bc-257367672f03"
      },
      "source": [
        "!unzip data13.zip"
      ],
      "execution_count": 2,
      "outputs": [
        {
          "output_type": "stream",
          "text": [
            "Archive:  data13.zip\n",
            "  inflating: 행정_법정동 중심좌표.xlsx  \n",
            "  inflating: test.csv                \n",
            "  inflating: train.csv               \n",
            "  inflating: submission_sample.csv   \n",
            "  inflating: bus_bts.csv             \n"
          ],
          "name": "stdout"
        }
      ]
    },
    {
      "cell_type": "code",
      "metadata": {
        "colab": {
          "base_uri": "https://localhost:8080/",
          "height": 299
        },
        "id": "biHqZmY13KzL",
        "outputId": "1aae45fe-a625-4d37-b761-bb55a0b02ebe"
      },
      "source": [
        "import pandas as pd\r\n",
        "\r\n",
        "train = pd.read_csv(\"train.csv\")\r\n",
        "test = pd.read_csv(\"test.csv\")\r\n",
        "test.head()"
      ],
      "execution_count": 67,
      "outputs": [
        {
          "output_type": "execute_result",
          "data": {
            "text/html": [
              "<div>\n",
              "<style scoped>\n",
              "    .dataframe tbody tr th:only-of-type {\n",
              "        vertical-align: middle;\n",
              "    }\n",
              "\n",
              "    .dataframe tbody tr th {\n",
              "        vertical-align: top;\n",
              "    }\n",
              "\n",
              "    .dataframe thead th {\n",
              "        text-align: right;\n",
              "    }\n",
              "</style>\n",
              "<table border=\"1\" class=\"dataframe\">\n",
              "  <thead>\n",
              "    <tr style=\"text-align: right;\">\n",
              "      <th></th>\n",
              "      <th>id</th>\n",
              "      <th>date</th>\n",
              "      <th>bus_route_id</th>\n",
              "      <th>in_out</th>\n",
              "      <th>station_code</th>\n",
              "      <th>station_name</th>\n",
              "      <th>latitude</th>\n",
              "      <th>longitude</th>\n",
              "      <th>6~7_ride</th>\n",
              "      <th>7~8_ride</th>\n",
              "      <th>8~9_ride</th>\n",
              "      <th>9~10_ride</th>\n",
              "      <th>10~11_ride</th>\n",
              "      <th>11~12_ride</th>\n",
              "      <th>6~7_takeoff</th>\n",
              "      <th>7~8_takeoff</th>\n",
              "      <th>8~9_takeoff</th>\n",
              "      <th>9~10_takeoff</th>\n",
              "      <th>10~11_takeoff</th>\n",
              "      <th>11~12_takeoff</th>\n",
              "    </tr>\n",
              "  </thead>\n",
              "  <tbody>\n",
              "    <tr>\n",
              "      <th>0</th>\n",
              "      <td>415423</td>\n",
              "      <td>2019-10-01</td>\n",
              "      <td>4270000</td>\n",
              "      <td>시외</td>\n",
              "      <td>344</td>\n",
              "      <td>제주썬호텔</td>\n",
              "      <td>33.48990</td>\n",
              "      <td>126.49373</td>\n",
              "      <td>4.0</td>\n",
              "      <td>4.0</td>\n",
              "      <td>7.0</td>\n",
              "      <td>2.0</td>\n",
              "      <td>9.0</td>\n",
              "      <td>1.0</td>\n",
              "      <td>0.0</td>\n",
              "      <td>0.0</td>\n",
              "      <td>0.0</td>\n",
              "      <td>0.0</td>\n",
              "      <td>0.0</td>\n",
              "      <td>1.0</td>\n",
              "    </tr>\n",
              "    <tr>\n",
              "      <th>1</th>\n",
              "      <td>415424</td>\n",
              "      <td>2019-10-01</td>\n",
              "      <td>4270000</td>\n",
              "      <td>시외</td>\n",
              "      <td>357</td>\n",
              "      <td>한라병원</td>\n",
              "      <td>33.48944</td>\n",
              "      <td>126.48508</td>\n",
              "      <td>1.0</td>\n",
              "      <td>6.0</td>\n",
              "      <td>6.0</td>\n",
              "      <td>1.0</td>\n",
              "      <td>8.0</td>\n",
              "      <td>11.0</td>\n",
              "      <td>0.0</td>\n",
              "      <td>0.0</td>\n",
              "      <td>0.0</td>\n",
              "      <td>0.0</td>\n",
              "      <td>0.0</td>\n",
              "      <td>0.0</td>\n",
              "    </tr>\n",
              "    <tr>\n",
              "      <th>2</th>\n",
              "      <td>415425</td>\n",
              "      <td>2019-10-01</td>\n",
              "      <td>4270000</td>\n",
              "      <td>시외</td>\n",
              "      <td>432</td>\n",
              "      <td>정존마을</td>\n",
              "      <td>33.48181</td>\n",
              "      <td>126.47352</td>\n",
              "      <td>2.0</td>\n",
              "      <td>4.0</td>\n",
              "      <td>2.0</td>\n",
              "      <td>2.0</td>\n",
              "      <td>2.0</td>\n",
              "      <td>1.0</td>\n",
              "      <td>0.0</td>\n",
              "      <td>0.0</td>\n",
              "      <td>0.0</td>\n",
              "      <td>0.0</td>\n",
              "      <td>0.0</td>\n",
              "      <td>0.0</td>\n",
              "    </tr>\n",
              "    <tr>\n",
              "      <th>3</th>\n",
              "      <td>415426</td>\n",
              "      <td>2019-10-01</td>\n",
              "      <td>4270000</td>\n",
              "      <td>시내</td>\n",
              "      <td>1579</td>\n",
              "      <td>제주국제공항(600번)</td>\n",
              "      <td>33.50577</td>\n",
              "      <td>126.49252</td>\n",
              "      <td>1.0</td>\n",
              "      <td>11.0</td>\n",
              "      <td>18.0</td>\n",
              "      <td>8.0</td>\n",
              "      <td>26.0</td>\n",
              "      <td>20.0</td>\n",
              "      <td>0.0</td>\n",
              "      <td>0.0</td>\n",
              "      <td>0.0</td>\n",
              "      <td>0.0</td>\n",
              "      <td>0.0</td>\n",
              "      <td>0.0</td>\n",
              "    </tr>\n",
              "    <tr>\n",
              "      <th>4</th>\n",
              "      <td>415427</td>\n",
              "      <td>2019-10-01</td>\n",
              "      <td>4270000</td>\n",
              "      <td>시내</td>\n",
              "      <td>1636</td>\n",
              "      <td>롯데호텔</td>\n",
              "      <td>33.24872</td>\n",
              "      <td>126.41032</td>\n",
              "      <td>0.0</td>\n",
              "      <td>0.0</td>\n",
              "      <td>0.0</td>\n",
              "      <td>0.0</td>\n",
              "      <td>0.0</td>\n",
              "      <td>0.0</td>\n",
              "      <td>0.0</td>\n",
              "      <td>0.0</td>\n",
              "      <td>0.0</td>\n",
              "      <td>1.0</td>\n",
              "      <td>0.0</td>\n",
              "      <td>0.0</td>\n",
              "    </tr>\n",
              "  </tbody>\n",
              "</table>\n",
              "</div>"
            ],
            "text/plain": [
              "       id        date  bus_route_id  ... 9~10_takeoff  10~11_takeoff 11~12_takeoff\n",
              "0  415423  2019-10-01       4270000  ...          0.0            0.0           1.0\n",
              "1  415424  2019-10-01       4270000  ...          0.0            0.0           0.0\n",
              "2  415425  2019-10-01       4270000  ...          0.0            0.0           0.0\n",
              "3  415426  2019-10-01       4270000  ...          0.0            0.0           0.0\n",
              "4  415427  2019-10-01       4270000  ...          1.0            0.0           0.0\n",
              "\n",
              "[5 rows x 20 columns]"
            ]
          },
          "metadata": {
            "tags": []
          },
          "execution_count": 67
        }
      ]
    },
    {
      "cell_type": "code",
      "metadata": {
        "colab": {
          "base_uri": "https://localhost:8080/"
        },
        "id": "TgV6PYLTOakL",
        "outputId": "298a47bc-d006-4bde-ab09-6a4be12c51ec"
      },
      "source": [
        "train.shape"
      ],
      "execution_count": 63,
      "outputs": [
        {
          "output_type": "execute_result",
          "data": {
            "text/plain": [
              "(415423, 23)"
            ]
          },
          "metadata": {
            "tags": []
          },
          "execution_count": 63
        }
      ]
    },
    {
      "cell_type": "markdown",
      "metadata": {
        "id": "2ZC4szB0R4kI"
      },
      "source": [
        "###bus_bts(아직 고려 X)"
      ]
    },
    {
      "cell_type": "code",
      "metadata": {
        "colab": {
          "base_uri": "https://localhost:8080/",
          "height": 249
        },
        "id": "C6acDAUK4QsW",
        "outputId": "6f42935b-143a-4288-b3fc-f13f89258a6f"
      },
      "source": [
        "bus_bts = pd.read_csv(\"bus_bts.csv\")\r\n",
        "bus_bts.head()"
      ],
      "execution_count": null,
      "outputs": [
        {
          "output_type": "execute_result",
          "data": {
            "text/html": [
              "<div>\n",
              "<style scoped>\n",
              "    .dataframe tbody tr th:only-of-type {\n",
              "        vertical-align: middle;\n",
              "    }\n",
              "\n",
              "    .dataframe tbody tr th {\n",
              "        vertical-align: top;\n",
              "    }\n",
              "\n",
              "    .dataframe thead th {\n",
              "        text-align: right;\n",
              "    }\n",
              "</style>\n",
              "<table border=\"1\" class=\"dataframe\">\n",
              "  <thead>\n",
              "    <tr style=\"text-align: right;\">\n",
              "      <th></th>\n",
              "      <th>user_card_id</th>\n",
              "      <th>bus_route_id</th>\n",
              "      <th>vhc_id</th>\n",
              "      <th>geton_date</th>\n",
              "      <th>geton_time</th>\n",
              "      <th>geton_station_code</th>\n",
              "      <th>geton_station_name</th>\n",
              "      <th>getoff_date</th>\n",
              "      <th>getoff_time</th>\n",
              "      <th>getoff_station_code</th>\n",
              "      <th>getoff_station_name</th>\n",
              "      <th>user_category</th>\n",
              "      <th>user_count</th>\n",
              "    </tr>\n",
              "  </thead>\n",
              "  <tbody>\n",
              "    <tr>\n",
              "      <th>0</th>\n",
              "      <td>1.010010e+15</td>\n",
              "      <td>23000000</td>\n",
              "      <td>149793674</td>\n",
              "      <td>2019-09-10</td>\n",
              "      <td>06:34:45</td>\n",
              "      <td>360</td>\n",
              "      <td>노형오거리</td>\n",
              "      <td>2019-09-10</td>\n",
              "      <td>07:10:31</td>\n",
              "      <td>592.0</td>\n",
              "      <td>화북초등학교</td>\n",
              "      <td>1</td>\n",
              "      <td>1</td>\n",
              "    </tr>\n",
              "    <tr>\n",
              "      <th>1</th>\n",
              "      <td>1.010010e+15</td>\n",
              "      <td>23000000</td>\n",
              "      <td>149793674</td>\n",
              "      <td>2019-09-10</td>\n",
              "      <td>06:34:58</td>\n",
              "      <td>360</td>\n",
              "      <td>노형오거리</td>\n",
              "      <td>2019-09-10</td>\n",
              "      <td>06:56:27</td>\n",
              "      <td>3273.0</td>\n",
              "      <td>고산동산(광양방면)</td>\n",
              "      <td>1</td>\n",
              "      <td>1</td>\n",
              "    </tr>\n",
              "    <tr>\n",
              "      <th>2</th>\n",
              "      <td>1.019160e+15</td>\n",
              "      <td>21420000</td>\n",
              "      <td>149793535</td>\n",
              "      <td>2019-09-10</td>\n",
              "      <td>07:19:07</td>\n",
              "      <td>2495</td>\n",
              "      <td>동광환승정류장4(제주방면)</td>\n",
              "      <td>2019-09-10</td>\n",
              "      <td>07:40:29</td>\n",
              "      <td>431.0</td>\n",
              "      <td>정존마을</td>\n",
              "      <td>4</td>\n",
              "      <td>1</td>\n",
              "    </tr>\n",
              "    <tr>\n",
              "      <th>3</th>\n",
              "      <td>1.019150e+15</td>\n",
              "      <td>21420000</td>\n",
              "      <td>149793512</td>\n",
              "      <td>2019-09-09</td>\n",
              "      <td>09:14:47</td>\n",
              "      <td>3282</td>\n",
              "      <td>대정환승정류장(대정읍사무소)</td>\n",
              "      <td>2019-09-09</td>\n",
              "      <td>10:02:46</td>\n",
              "      <td>431.0</td>\n",
              "      <td>정존마을</td>\n",
              "      <td>1</td>\n",
              "      <td>1</td>\n",
              "    </tr>\n",
              "    <tr>\n",
              "      <th>4</th>\n",
              "      <td>1.010010e+15</td>\n",
              "      <td>21420000</td>\n",
              "      <td>149793512</td>\n",
              "      <td>2019-09-09</td>\n",
              "      <td>09:28:53</td>\n",
              "      <td>2820</td>\n",
              "      <td>삼정지에듀</td>\n",
              "      <td>2019-09-09</td>\n",
              "      <td>10:21:37</td>\n",
              "      <td>2972.0</td>\n",
              "      <td>제주국제공항(종점)</td>\n",
              "      <td>4</td>\n",
              "      <td>1</td>\n",
              "    </tr>\n",
              "  </tbody>\n",
              "</table>\n",
              "</div>"
            ],
            "text/plain": [
              "   user_card_id  bus_route_id  ...  user_category user_count\n",
              "0  1.010010e+15      23000000  ...              1          1\n",
              "1  1.010010e+15      23000000  ...              1          1\n",
              "2  1.019160e+15      21420000  ...              4          1\n",
              "3  1.019150e+15      21420000  ...              1          1\n",
              "4  1.010010e+15      21420000  ...              4          1\n",
              "\n",
              "[5 rows x 13 columns]"
            ]
          },
          "metadata": {
            "tags": []
          },
          "execution_count": 3
        }
      ]
    },
    {
      "cell_type": "code",
      "metadata": {
        "colab": {
          "base_uri": "https://localhost:8080/"
        },
        "id": "AOAeI2k747he",
        "outputId": "a679f581-9b48-45a9-ae82-31a7abd38552"
      },
      "source": [
        "bus_bts.shape"
      ],
      "execution_count": null,
      "outputs": [
        {
          "output_type": "execute_result",
          "data": {
            "text/plain": [
              "(2409414, 13)"
            ]
          },
          "metadata": {
            "tags": []
          },
          "execution_count": 6
        }
      ]
    },
    {
      "cell_type": "code",
      "metadata": {
        "colab": {
          "base_uri": "https://localhost:8080/"
        },
        "id": "in2P-FxY4vgt",
        "outputId": "84dff6d2-276e-4db7-cb7e-90236f0f47bf"
      },
      "source": [
        "bus_bts.isnull().sum()"
      ],
      "execution_count": null,
      "outputs": [
        {
          "output_type": "execute_result",
          "data": {
            "text/plain": [
              "user_card_id                0\n",
              "bus_route_id                0\n",
              "vhc_id                      0\n",
              "geton_date                  0\n",
              "geton_time                  0\n",
              "geton_station_code          0\n",
              "geton_station_name         49\n",
              "getoff_date            895736\n",
              "getoff_time            895736\n",
              "getoff_station_code    895736\n",
              "getoff_station_name    895775\n",
              "user_category               0\n",
              "user_count                  0\n",
              "dtype: int64"
            ]
          },
          "metadata": {
            "tags": []
          },
          "execution_count": 4
        }
      ]
    },
    {
      "cell_type": "code",
      "metadata": {
        "id": "T52dNqyl61YW"
      },
      "source": [
        "train_unique = []\r\n",
        "for i in train.columns.values:\r\n",
        "  train_unique.append(len(train[i].unique()))\r\n",
        "unique_train = pd.DataFrame()\r\n",
        "unique_train['Columns'] = list(train.columns)\r\n",
        "unique_train['Unique_value'] = train_unique"
      ],
      "execution_count": null,
      "outputs": []
    },
    {
      "cell_type": "code",
      "metadata": {
        "colab": {
          "base_uri": "https://localhost:8080/",
          "height": 669
        },
        "id": "-3FwZIfR65dM",
        "outputId": "7e75f89c-40a9-450c-cb9b-5743e6a1d0b4"
      },
      "source": [
        "unique_train"
      ],
      "execution_count": null,
      "outputs": [
        {
          "output_type": "execute_result",
          "data": {
            "text/html": [
              "<div>\n",
              "<style scoped>\n",
              "    .dataframe tbody tr th:only-of-type {\n",
              "        vertical-align: middle;\n",
              "    }\n",
              "\n",
              "    .dataframe tbody tr th {\n",
              "        vertical-align: top;\n",
              "    }\n",
              "\n",
              "    .dataframe thead th {\n",
              "        text-align: right;\n",
              "    }\n",
              "</style>\n",
              "<table border=\"1\" class=\"dataframe\">\n",
              "  <thead>\n",
              "    <tr style=\"text-align: right;\">\n",
              "      <th></th>\n",
              "      <th>Columns</th>\n",
              "      <th>Unique_value</th>\n",
              "    </tr>\n",
              "  </thead>\n",
              "  <tbody>\n",
              "    <tr>\n",
              "      <th>0</th>\n",
              "      <td>id</td>\n",
              "      <td>415423</td>\n",
              "    </tr>\n",
              "    <tr>\n",
              "      <th>1</th>\n",
              "      <td>date</td>\n",
              "      <td>30</td>\n",
              "    </tr>\n",
              "    <tr>\n",
              "      <th>2</th>\n",
              "      <td>bus_route_id</td>\n",
              "      <td>613</td>\n",
              "    </tr>\n",
              "    <tr>\n",
              "      <th>3</th>\n",
              "      <td>in_out</td>\n",
              "      <td>2</td>\n",
              "    </tr>\n",
              "    <tr>\n",
              "      <th>4</th>\n",
              "      <td>station_code</td>\n",
              "      <td>3563</td>\n",
              "    </tr>\n",
              "    <tr>\n",
              "      <th>5</th>\n",
              "      <td>station_name</td>\n",
              "      <td>1961</td>\n",
              "    </tr>\n",
              "    <tr>\n",
              "      <th>6</th>\n",
              "      <td>latitude</td>\n",
              "      <td>3278</td>\n",
              "    </tr>\n",
              "    <tr>\n",
              "      <th>7</th>\n",
              "      <td>longitude</td>\n",
              "      <td>3446</td>\n",
              "    </tr>\n",
              "    <tr>\n",
              "      <th>8</th>\n",
              "      <td>6~7_ride</td>\n",
              "      <td>47</td>\n",
              "    </tr>\n",
              "    <tr>\n",
              "      <th>9</th>\n",
              "      <td>7~8_ride</td>\n",
              "      <td>80</td>\n",
              "    </tr>\n",
              "    <tr>\n",
              "      <th>10</th>\n",
              "      <td>8~9_ride</td>\n",
              "      <td>78</td>\n",
              "    </tr>\n",
              "    <tr>\n",
              "      <th>11</th>\n",
              "      <td>9~10_ride</td>\n",
              "      <td>66</td>\n",
              "    </tr>\n",
              "    <tr>\n",
              "      <th>12</th>\n",
              "      <td>10~11_ride</td>\n",
              "      <td>66</td>\n",
              "    </tr>\n",
              "    <tr>\n",
              "      <th>13</th>\n",
              "      <td>11~12_ride</td>\n",
              "      <td>69</td>\n",
              "    </tr>\n",
              "    <tr>\n",
              "      <th>14</th>\n",
              "      <td>6~7_takeoff</td>\n",
              "      <td>35</td>\n",
              "    </tr>\n",
              "    <tr>\n",
              "      <th>15</th>\n",
              "      <td>7~8_takeoff</td>\n",
              "      <td>51</td>\n",
              "    </tr>\n",
              "    <tr>\n",
              "      <th>16</th>\n",
              "      <td>8~9_takeoff</td>\n",
              "      <td>53</td>\n",
              "    </tr>\n",
              "    <tr>\n",
              "      <th>17</th>\n",
              "      <td>9~10_takeoff</td>\n",
              "      <td>46</td>\n",
              "    </tr>\n",
              "    <tr>\n",
              "      <th>18</th>\n",
              "      <td>10~11_takeoff</td>\n",
              "      <td>47</td>\n",
              "    </tr>\n",
              "    <tr>\n",
              "      <th>19</th>\n",
              "      <td>11~12_takeoff</td>\n",
              "      <td>55</td>\n",
              "    </tr>\n",
              "    <tr>\n",
              "      <th>20</th>\n",
              "      <td>18~20_ride</td>\n",
              "      <td>170</td>\n",
              "    </tr>\n",
              "  </tbody>\n",
              "</table>\n",
              "</div>"
            ],
            "text/plain": [
              "          Columns  Unique_value\n",
              "0              id        415423\n",
              "1            date            30\n",
              "2    bus_route_id           613\n",
              "3          in_out             2\n",
              "4    station_code          3563\n",
              "5    station_name          1961\n",
              "6        latitude          3278\n",
              "7       longitude          3446\n",
              "8        6~7_ride            47\n",
              "9        7~8_ride            80\n",
              "10       8~9_ride            78\n",
              "11      9~10_ride            66\n",
              "12     10~11_ride            66\n",
              "13     11~12_ride            69\n",
              "14    6~7_takeoff            35\n",
              "15    7~8_takeoff            51\n",
              "16    8~9_takeoff            53\n",
              "17   9~10_takeoff            46\n",
              "18  10~11_takeoff            47\n",
              "19  11~12_takeoff            55\n",
              "20     18~20_ride           170"
            ]
          },
          "metadata": {
            "tags": []
          },
          "execution_count": 8
        }
      ]
    },
    {
      "cell_type": "markdown",
      "metadata": {
        "id": "uGoO3tsz9-_S"
      },
      "source": [
        "#데이터 전처리\r\n",
        "1. 날짜\r\n",
        "- 명절 유무 column 생성하기 (2019-09-12 ~ 2019-09-14 : 추석)\r\n",
        "- 요일 column 생성하기\r\n",
        "2. \tin_out(시내/시외)\r\n",
        "- 범주형을 정수형으로 변경\r\n",
        "3. bus_route_id\r\n",
        "- 노선 ID 값이 8자리로 매우 큰 수 -> 10000으로 나누어 줌\r\n",
        "4. station_name 행 제거\r\n",
        "- station_code를 정렬해본 결과 같은 station_code끼리 이름과 위도 경도가 모두 일치\r\n",
        "\r\n",
        "id와 date는 제외하고 학습에 사용\r\n",
        "이후 데이터 정규화 StandardScaler 사용"
      ]
    },
    {
      "cell_type": "code",
      "metadata": {
        "colab": {
          "base_uri": "https://localhost:8080/"
        },
        "id": "TMgEKzyZ9k-y",
        "outputId": "ec147ea1-ef3e-48d9-b18c-69ab90a4c966"
      },
      "source": [
        "#날짜 정보 알아보기\r\n",
        "train['date'].unique()"
      ],
      "execution_count": 4,
      "outputs": [
        {
          "output_type": "execute_result",
          "data": {
            "text/plain": [
              "array(['2019-09-01', '2019-09-02', '2019-09-03', '2019-09-04',\n",
              "       '2019-09-05', '2019-09-06', '2019-09-07', '2019-09-08',\n",
              "       '2019-09-09', '2019-09-10', '2019-09-11', '2019-09-12',\n",
              "       '2019-09-13', '2019-09-14', '2019-09-15', '2019-09-16',\n",
              "       '2019-09-17', '2019-09-18', '2019-09-19', '2019-09-20',\n",
              "       '2019-09-21', '2019-09-22', '2019-09-23', '2019-09-24',\n",
              "       '2019-09-25', '2019-09-26', '2019-09-27', '2019-09-28',\n",
              "       '2019-09-29', '2019-09-30'], dtype=object)"
            ]
          },
          "metadata": {
            "tags": []
          },
          "execution_count": 4
        }
      ]
    },
    {
      "cell_type": "code",
      "metadata": {
        "colab": {
          "base_uri": "https://localhost:8080/"
        },
        "id": "1uHEa-4AR_YQ",
        "outputId": "2ad786ee-196f-4aa4-b006-060f6270fce2"
      },
      "source": [
        "test['date'].unique()"
      ],
      "execution_count": 68,
      "outputs": [
        {
          "output_type": "execute_result",
          "data": {
            "text/plain": [
              "array(['2019-10-01', '2019-10-02', '2019-10-03', '2019-10-04',\n",
              "       '2019-10-05', '2019-10-06', '2019-10-07', '2019-10-08',\n",
              "       '2019-10-09', '2019-10-10', '2019-10-11', '2019-10-12',\n",
              "       '2019-10-13', '2019-10-14', '2019-10-15', '2019-10-16'],\n",
              "      dtype=object)"
            ]
          },
          "metadata": {
            "tags": []
          },
          "execution_count": 68
        }
      ]
    },
    {
      "cell_type": "code",
      "metadata": {
        "colab": {
          "base_uri": "https://localhost:8080/"
        },
        "id": "ZRXK4u6C-lJq",
        "outputId": "c6cb88f7-cc7e-4318-c9fd-2bd47291adf6"
      },
      "source": [
        "#요일 \r\n",
        "import datetime\r\n",
        "train['dayofweek'] = pd.to_datetime(train['date']).dt.weekday\r\n",
        "test['dayofweek'] = pd.to_datetime(test['date']).dt.weekday\r\n",
        "train['dayofweek']\r\n",
        "#0 -> 월 ~ 6 -> 일"
      ],
      "execution_count": 69,
      "outputs": [
        {
          "output_type": "execute_result",
          "data": {
            "text/plain": [
              "0         6\n",
              "1         6\n",
              "2         6\n",
              "3         6\n",
              "4         6\n",
              "         ..\n",
              "415418    0\n",
              "415419    0\n",
              "415420    0\n",
              "415421    0\n",
              "415422    0\n",
              "Name: dayofweek, Length: 415423, dtype: int64"
            ]
          },
          "metadata": {
            "tags": []
          },
          "execution_count": 69
        }
      ]
    },
    {
      "cell_type": "code",
      "metadata": {
        "colab": {
          "base_uri": "https://localhost:8080/"
        },
        "id": "-7cEUfyyC8MK",
        "outputId": "7a672de1-41d4-4359-9b09-9767dc55d8c2"
      },
      "source": [
        "#공휴일 -- 공휴일이면 1 아니면 0\r\n",
        "holi = pd.Series(['2019-09-12','2019-09-13', '2019-09-14'])\r\n",
        "train['holiday'] = train['date'].apply(lambda x : 1 if holi[0] == x or holi[1] == x or holi[2] == x else 0 )\r\n",
        "holi = pd.Series(['2019-10-03','2019-10-09'])\r\n",
        "test['holiday'] = test['date'].apply(lambda x : 1 if holi[0] == x or holi[1] == x else 0 )\r\n",
        "print(train['holiday'].value_counts())\r\n",
        "print(test['holiday'].value_counts())"
      ],
      "execution_count": 70,
      "outputs": [
        {
          "output_type": "stream",
          "text": [
            "0    384704\n",
            "1     30719\n",
            "Name: holiday, dtype: int64\n",
            "0    203564\n",
            "1     24606\n",
            "Name: holiday, dtype: int64\n"
          ],
          "name": "stdout"
        }
      ]
    },
    {
      "cell_type": "code",
      "metadata": {
        "colab": {
          "base_uri": "https://localhost:8080/"
        },
        "id": "xcJSBz2oLTDr",
        "outputId": "02221466-44a5-40b8-bcf2-eaacd6892819"
      },
      "source": [
        "#in_out 숫자로 변경 (시외 : 1, 시내 : 0)\r\n",
        "from sklearn.preprocessing import LabelEncoder\r\n",
        "le = LabelEncoder()\r\n",
        "train['in_out'] = le.fit_transform(train['in_out'])\r\n",
        "test['in_out'] = le.transform(test['in_out'])\r\n",
        "train['in_out']"
      ],
      "execution_count": 73,
      "outputs": [
        {
          "output_type": "execute_result",
          "data": {
            "text/plain": [
              "0         1\n",
              "1         1\n",
              "2         1\n",
              "3         0\n",
              "4         0\n",
              "         ..\n",
              "415418    0\n",
              "415419    0\n",
              "415420    0\n",
              "415421    0\n",
              "415422    0\n",
              "Name: in_out, Length: 415423, dtype: int64"
            ]
          },
          "metadata": {
            "tags": []
          },
          "execution_count": 73
        }
      ]
    },
    {
      "cell_type": "code",
      "metadata": {
        "colab": {
          "base_uri": "https://localhost:8080/"
        },
        "id": "iIcoABZkMqqV",
        "outputId": "4465c7c5-878b-4924-b5ba-6c5978a1e455"
      },
      "source": [
        "train['bus_route_id'] = train['bus_route_id']/10000\r\n",
        "test['bus_route_id'] = test['bus_route_id']/10000\r\n",
        "train['bus_route_id']"
      ],
      "execution_count": 74,
      "outputs": [
        {
          "output_type": "execute_result",
          "data": {
            "text/plain": [
              "0          427.0\n",
              "1          427.0\n",
              "2          427.0\n",
              "3          427.0\n",
              "4          427.0\n",
              "           ...  \n",
              "415418    3282.0\n",
              "415419    3282.0\n",
              "415420    3282.0\n",
              "415421    3282.0\n",
              "415422    3282.0\n",
              "Name: bus_route_id, Length: 415423, dtype: float64"
            ]
          },
          "metadata": {
            "tags": []
          },
          "execution_count": 74
        }
      ]
    },
    {
      "cell_type": "code",
      "metadata": {
        "id": "UBYb5iUDOErV"
      },
      "source": [
        "del train['station_name']\r\n",
        "del test['station_name']"
      ],
      "execution_count": 75,
      "outputs": []
    },
    {
      "cell_type": "code",
      "metadata": {
        "colab": {
          "base_uri": "https://localhost:8080/",
          "height": 299
        },
        "id": "3J22caBMQ_Jx",
        "outputId": "8bf14e27-4c02-4121-ff5e-55d29c5ffb30"
      },
      "source": [
        "train.head()"
      ],
      "execution_count": 65,
      "outputs": [
        {
          "output_type": "execute_result",
          "data": {
            "text/html": [
              "<div>\n",
              "<style scoped>\n",
              "    .dataframe tbody tr th:only-of-type {\n",
              "        vertical-align: middle;\n",
              "    }\n",
              "\n",
              "    .dataframe tbody tr th {\n",
              "        vertical-align: top;\n",
              "    }\n",
              "\n",
              "    .dataframe thead th {\n",
              "        text-align: right;\n",
              "    }\n",
              "</style>\n",
              "<table border=\"1\" class=\"dataframe\">\n",
              "  <thead>\n",
              "    <tr style=\"text-align: right;\">\n",
              "      <th></th>\n",
              "      <th>id</th>\n",
              "      <th>date</th>\n",
              "      <th>bus_route_id</th>\n",
              "      <th>in_out</th>\n",
              "      <th>station_code</th>\n",
              "      <th>latitude</th>\n",
              "      <th>longitude</th>\n",
              "      <th>6~7_ride</th>\n",
              "      <th>7~8_ride</th>\n",
              "      <th>8~9_ride</th>\n",
              "      <th>9~10_ride</th>\n",
              "      <th>10~11_ride</th>\n",
              "      <th>11~12_ride</th>\n",
              "      <th>6~7_takeoff</th>\n",
              "      <th>7~8_takeoff</th>\n",
              "      <th>8~9_takeoff</th>\n",
              "      <th>9~10_takeoff</th>\n",
              "      <th>10~11_takeoff</th>\n",
              "      <th>11~12_takeoff</th>\n",
              "      <th>18~20_ride</th>\n",
              "      <th>dayofweek</th>\n",
              "      <th>holiday</th>\n",
              "    </tr>\n",
              "  </thead>\n",
              "  <tbody>\n",
              "    <tr>\n",
              "      <th>0</th>\n",
              "      <td>0</td>\n",
              "      <td>2019-09-01</td>\n",
              "      <td>427.0</td>\n",
              "      <td>1</td>\n",
              "      <td>344</td>\n",
              "      <td>33.48990</td>\n",
              "      <td>126.49373</td>\n",
              "      <td>0.0</td>\n",
              "      <td>1.0</td>\n",
              "      <td>2.0</td>\n",
              "      <td>5.0</td>\n",
              "      <td>2.0</td>\n",
              "      <td>6.0</td>\n",
              "      <td>0.0</td>\n",
              "      <td>0.0</td>\n",
              "      <td>0.0</td>\n",
              "      <td>0.0</td>\n",
              "      <td>0.0</td>\n",
              "      <td>0.0</td>\n",
              "      <td>0.0</td>\n",
              "      <td>6</td>\n",
              "      <td>0</td>\n",
              "    </tr>\n",
              "    <tr>\n",
              "      <th>1</th>\n",
              "      <td>1</td>\n",
              "      <td>2019-09-01</td>\n",
              "      <td>427.0</td>\n",
              "      <td>1</td>\n",
              "      <td>357</td>\n",
              "      <td>33.48944</td>\n",
              "      <td>126.48508</td>\n",
              "      <td>1.0</td>\n",
              "      <td>4.0</td>\n",
              "      <td>4.0</td>\n",
              "      <td>2.0</td>\n",
              "      <td>5.0</td>\n",
              "      <td>6.0</td>\n",
              "      <td>0.0</td>\n",
              "      <td>0.0</td>\n",
              "      <td>0.0</td>\n",
              "      <td>0.0</td>\n",
              "      <td>0.0</td>\n",
              "      <td>0.0</td>\n",
              "      <td>5.0</td>\n",
              "      <td>6</td>\n",
              "      <td>0</td>\n",
              "    </tr>\n",
              "    <tr>\n",
              "      <th>2</th>\n",
              "      <td>2</td>\n",
              "      <td>2019-09-01</td>\n",
              "      <td>427.0</td>\n",
              "      <td>1</td>\n",
              "      <td>432</td>\n",
              "      <td>33.48181</td>\n",
              "      <td>126.47352</td>\n",
              "      <td>1.0</td>\n",
              "      <td>1.0</td>\n",
              "      <td>0.0</td>\n",
              "      <td>2.0</td>\n",
              "      <td>0.0</td>\n",
              "      <td>0.0</td>\n",
              "      <td>0.0</td>\n",
              "      <td>0.0</td>\n",
              "      <td>0.0</td>\n",
              "      <td>0.0</td>\n",
              "      <td>0.0</td>\n",
              "      <td>0.0</td>\n",
              "      <td>2.0</td>\n",
              "      <td>6</td>\n",
              "      <td>0</td>\n",
              "    </tr>\n",
              "    <tr>\n",
              "      <th>3</th>\n",
              "      <td>3</td>\n",
              "      <td>2019-09-01</td>\n",
              "      <td>427.0</td>\n",
              "      <td>0</td>\n",
              "      <td>1579</td>\n",
              "      <td>33.50577</td>\n",
              "      <td>126.49252</td>\n",
              "      <td>0.0</td>\n",
              "      <td>17.0</td>\n",
              "      <td>6.0</td>\n",
              "      <td>26.0</td>\n",
              "      <td>14.0</td>\n",
              "      <td>16.0</td>\n",
              "      <td>0.0</td>\n",
              "      <td>0.0</td>\n",
              "      <td>0.0</td>\n",
              "      <td>0.0</td>\n",
              "      <td>0.0</td>\n",
              "      <td>0.0</td>\n",
              "      <td>53.0</td>\n",
              "      <td>6</td>\n",
              "      <td>0</td>\n",
              "    </tr>\n",
              "    <tr>\n",
              "      <th>4</th>\n",
              "      <td>4</td>\n",
              "      <td>2019-09-01</td>\n",
              "      <td>427.0</td>\n",
              "      <td>0</td>\n",
              "      <td>1646</td>\n",
              "      <td>33.25579</td>\n",
              "      <td>126.41260</td>\n",
              "      <td>0.0</td>\n",
              "      <td>0.0</td>\n",
              "      <td>0.0</td>\n",
              "      <td>0.0</td>\n",
              "      <td>0.0</td>\n",
              "      <td>0.0</td>\n",
              "      <td>0.0</td>\n",
              "      <td>0.0</td>\n",
              "      <td>0.0</td>\n",
              "      <td>1.0</td>\n",
              "      <td>0.0</td>\n",
              "      <td>0.0</td>\n",
              "      <td>0.0</td>\n",
              "      <td>6</td>\n",
              "      <td>0</td>\n",
              "    </tr>\n",
              "  </tbody>\n",
              "</table>\n",
              "</div>"
            ],
            "text/plain": [
              "   id        date  bus_route_id  ...  18~20_ride  dayofweek  holiday\n",
              "0   0  2019-09-01         427.0  ...         0.0          6        0\n",
              "1   1  2019-09-01         427.0  ...         5.0          6        0\n",
              "2   2  2019-09-01         427.0  ...         2.0          6        0\n",
              "3   3  2019-09-01         427.0  ...        53.0          6        0\n",
              "4   4  2019-09-01         427.0  ...         0.0          6        0\n",
              "\n",
              "[5 rows x 22 columns]"
            ]
          },
          "metadata": {
            "tags": []
          },
          "execution_count": 65
        }
      ]
    },
    {
      "cell_type": "code",
      "metadata": {
        "colab": {
          "base_uri": "https://localhost:8080/",
          "height": 299
        },
        "id": "XZdMPYk5S548",
        "outputId": "ce4c46c4-ed70-4b6c-fa95-1c3e176c41a0"
      },
      "source": [
        "test.head()"
      ],
      "execution_count": 76,
      "outputs": [
        {
          "output_type": "execute_result",
          "data": {
            "text/html": [
              "<div>\n",
              "<style scoped>\n",
              "    .dataframe tbody tr th:only-of-type {\n",
              "        vertical-align: middle;\n",
              "    }\n",
              "\n",
              "    .dataframe tbody tr th {\n",
              "        vertical-align: top;\n",
              "    }\n",
              "\n",
              "    .dataframe thead th {\n",
              "        text-align: right;\n",
              "    }\n",
              "</style>\n",
              "<table border=\"1\" class=\"dataframe\">\n",
              "  <thead>\n",
              "    <tr style=\"text-align: right;\">\n",
              "      <th></th>\n",
              "      <th>id</th>\n",
              "      <th>date</th>\n",
              "      <th>bus_route_id</th>\n",
              "      <th>in_out</th>\n",
              "      <th>station_code</th>\n",
              "      <th>latitude</th>\n",
              "      <th>longitude</th>\n",
              "      <th>6~7_ride</th>\n",
              "      <th>7~8_ride</th>\n",
              "      <th>8~9_ride</th>\n",
              "      <th>9~10_ride</th>\n",
              "      <th>10~11_ride</th>\n",
              "      <th>11~12_ride</th>\n",
              "      <th>6~7_takeoff</th>\n",
              "      <th>7~8_takeoff</th>\n",
              "      <th>8~9_takeoff</th>\n",
              "      <th>9~10_takeoff</th>\n",
              "      <th>10~11_takeoff</th>\n",
              "      <th>11~12_takeoff</th>\n",
              "      <th>dayofweek</th>\n",
              "      <th>holiday</th>\n",
              "    </tr>\n",
              "  </thead>\n",
              "  <tbody>\n",
              "    <tr>\n",
              "      <th>0</th>\n",
              "      <td>415423</td>\n",
              "      <td>2019-10-01</td>\n",
              "      <td>427.0</td>\n",
              "      <td>1</td>\n",
              "      <td>344</td>\n",
              "      <td>33.48990</td>\n",
              "      <td>126.49373</td>\n",
              "      <td>4.0</td>\n",
              "      <td>4.0</td>\n",
              "      <td>7.0</td>\n",
              "      <td>2.0</td>\n",
              "      <td>9.0</td>\n",
              "      <td>1.0</td>\n",
              "      <td>0.0</td>\n",
              "      <td>0.0</td>\n",
              "      <td>0.0</td>\n",
              "      <td>0.0</td>\n",
              "      <td>0.0</td>\n",
              "      <td>1.0</td>\n",
              "      <td>1</td>\n",
              "      <td>0</td>\n",
              "    </tr>\n",
              "    <tr>\n",
              "      <th>1</th>\n",
              "      <td>415424</td>\n",
              "      <td>2019-10-01</td>\n",
              "      <td>427.0</td>\n",
              "      <td>1</td>\n",
              "      <td>357</td>\n",
              "      <td>33.48944</td>\n",
              "      <td>126.48508</td>\n",
              "      <td>1.0</td>\n",
              "      <td>6.0</td>\n",
              "      <td>6.0</td>\n",
              "      <td>1.0</td>\n",
              "      <td>8.0</td>\n",
              "      <td>11.0</td>\n",
              "      <td>0.0</td>\n",
              "      <td>0.0</td>\n",
              "      <td>0.0</td>\n",
              "      <td>0.0</td>\n",
              "      <td>0.0</td>\n",
              "      <td>0.0</td>\n",
              "      <td>1</td>\n",
              "      <td>0</td>\n",
              "    </tr>\n",
              "    <tr>\n",
              "      <th>2</th>\n",
              "      <td>415425</td>\n",
              "      <td>2019-10-01</td>\n",
              "      <td>427.0</td>\n",
              "      <td>1</td>\n",
              "      <td>432</td>\n",
              "      <td>33.48181</td>\n",
              "      <td>126.47352</td>\n",
              "      <td>2.0</td>\n",
              "      <td>4.0</td>\n",
              "      <td>2.0</td>\n",
              "      <td>2.0</td>\n",
              "      <td>2.0</td>\n",
              "      <td>1.0</td>\n",
              "      <td>0.0</td>\n",
              "      <td>0.0</td>\n",
              "      <td>0.0</td>\n",
              "      <td>0.0</td>\n",
              "      <td>0.0</td>\n",
              "      <td>0.0</td>\n",
              "      <td>1</td>\n",
              "      <td>0</td>\n",
              "    </tr>\n",
              "    <tr>\n",
              "      <th>3</th>\n",
              "      <td>415426</td>\n",
              "      <td>2019-10-01</td>\n",
              "      <td>427.0</td>\n",
              "      <td>0</td>\n",
              "      <td>1579</td>\n",
              "      <td>33.50577</td>\n",
              "      <td>126.49252</td>\n",
              "      <td>1.0</td>\n",
              "      <td>11.0</td>\n",
              "      <td>18.0</td>\n",
              "      <td>8.0</td>\n",
              "      <td>26.0</td>\n",
              "      <td>20.0</td>\n",
              "      <td>0.0</td>\n",
              "      <td>0.0</td>\n",
              "      <td>0.0</td>\n",
              "      <td>0.0</td>\n",
              "      <td>0.0</td>\n",
              "      <td>0.0</td>\n",
              "      <td>1</td>\n",
              "      <td>0</td>\n",
              "    </tr>\n",
              "    <tr>\n",
              "      <th>4</th>\n",
              "      <td>415427</td>\n",
              "      <td>2019-10-01</td>\n",
              "      <td>427.0</td>\n",
              "      <td>0</td>\n",
              "      <td>1636</td>\n",
              "      <td>33.24872</td>\n",
              "      <td>126.41032</td>\n",
              "      <td>0.0</td>\n",
              "      <td>0.0</td>\n",
              "      <td>0.0</td>\n",
              "      <td>0.0</td>\n",
              "      <td>0.0</td>\n",
              "      <td>0.0</td>\n",
              "      <td>0.0</td>\n",
              "      <td>0.0</td>\n",
              "      <td>0.0</td>\n",
              "      <td>1.0</td>\n",
              "      <td>0.0</td>\n",
              "      <td>0.0</td>\n",
              "      <td>1</td>\n",
              "      <td>0</td>\n",
              "    </tr>\n",
              "  </tbody>\n",
              "</table>\n",
              "</div>"
            ],
            "text/plain": [
              "       id        date  bus_route_id  ...  11~12_takeoff  dayofweek  holiday\n",
              "0  415423  2019-10-01         427.0  ...            1.0          1        0\n",
              "1  415424  2019-10-01         427.0  ...            0.0          1        0\n",
              "2  415425  2019-10-01         427.0  ...            0.0          1        0\n",
              "3  415426  2019-10-01         427.0  ...            0.0          1        0\n",
              "4  415427  2019-10-01         427.0  ...            0.0          1        0\n",
              "\n",
              "[5 rows x 21 columns]"
            ]
          },
          "metadata": {
            "tags": []
          },
          "execution_count": 76
        }
      ]
    },
    {
      "cell_type": "code",
      "metadata": {
        "id": "48Mil5ZyXk25"
      },
      "source": [
        "train_x = train.loc[:, \"bus_route_id\":\"holiday\"]\r\n",
        "del train_x['18~20_ride']\r\n",
        "train_y = train['18~20_ride']\r\n",
        "\r\n",
        "test_x = test.loc[:, \"bus_route_id\":\"holiday\"]"
      ],
      "execution_count": 117,
      "outputs": []
    },
    {
      "cell_type": "code",
      "metadata": {
        "id": "1T5Drm-rXl4G"
      },
      "source": [
        "#데이터 정규화\r\n",
        "from sklearn.preprocessing import StandardScaler\r\n",
        "scaler = StandardScaler()\r\n",
        "\r\n",
        "train_x = scaler.fit_transform(train_x)\r\n",
        "test_x = scaler.transform(test_x)"
      ],
      "execution_count": 118,
      "outputs": []
    },
    {
      "cell_type": "markdown",
      "metadata": {
        "id": "PUR1eX_rTce7"
      },
      "source": [
        "#모델 학습"
      ]
    },
    {
      "cell_type": "code",
      "metadata": {
        "colab": {
          "base_uri": "https://localhost:8080/"
        },
        "id": "Kqtj_AxfTeR5",
        "outputId": "e72b9354-7b4d-4082-cafd-72621c941c63"
      },
      "source": [
        "import torch\r\n",
        "import numpy as np\r\n",
        "import torch.optim as optim\r\n",
        "\r\n",
        "torch.manual_seed(1)\r\n",
        "\r\n",
        "train_x = np.array(train_x)\r\n",
        "train_y = np.array(train_y)\r\n",
        "\r\n",
        "train_x = torch.FloatTensor(train_x)\r\n",
        "train_y = torch.FloatTensor(train_y).unsqueeze(1)\r\n",
        "\r\n",
        "train_y"
      ],
      "execution_count": 119,
      "outputs": [
        {
          "output_type": "execute_result",
          "data": {
            "text/plain": [
              "tensor([[0.],\n",
              "        [5.],\n",
              "        [2.],\n",
              "        ...,\n",
              "        [0.],\n",
              "        [0.],\n",
              "        [0.]])"
            ]
          },
          "metadata": {
            "tags": []
          },
          "execution_count": 119
        }
      ]
    },
    {
      "cell_type": "code",
      "metadata": {
        "id": "IDutZzm9RQhY"
      },
      "source": [
        "#test_x = test.loc[:, \"bus_route_id\":\"holiday\"]\r\n",
        "test_x = torch.FloatTensor(np.array(test_x))"
      ],
      "execution_count": 120,
      "outputs": []
    },
    {
      "cell_type": "code",
      "metadata": {
        "colab": {
          "base_uri": "https://localhost:8080/"
        },
        "id": "hZpMESybVUfP",
        "outputId": "0e4d89e6-0019-41df-bae1-f8255455ff89"
      },
      "source": [
        "train_x.shape"
      ],
      "execution_count": 121,
      "outputs": [
        {
          "output_type": "execute_result",
          "data": {
            "text/plain": [
              "torch.Size([415423, 19])"
            ]
          },
          "metadata": {
            "tags": []
          },
          "execution_count": 121
        }
      ]
    },
    {
      "cell_type": "code",
      "metadata": {
        "colab": {
          "base_uri": "https://localhost:8080/"
        },
        "id": "gFFG_nPXVRDb",
        "outputId": "4b40583d-24f4-44ea-ac75-0a034a5893cb"
      },
      "source": [
        "W = torch.zeros((19, 1), requires_grad= True)\r\n",
        "b = torch.zeros(1, requires_grad= True)\r\n",
        "\r\n",
        "optimizer = optim.SGD([W, b], lr = 1e-2)\r\n",
        "\r\n",
        "nb_epochs = 1000\r\n",
        "\r\n",
        "for epoch in range(nb_epochs + 1) :\r\n",
        "\r\n",
        "  hypothesis = train_x.matmul(W) + b\r\n",
        "  cost = torch.mean((hypothesis - train_y)**2)\r\n",
        "\r\n",
        "  optimizer.zero_grad()\r\n",
        "  cost.backward()\r\n",
        "  optimizer.step()\r\n",
        "\r\n",
        "  if epoch % 100 == 0:\r\n",
        "    print(epoch, cost.item())"
      ],
      "execution_count": 128,
      "outputs": [
        {
          "output_type": "stream",
          "text": [
            "0 23.842741012573242\n",
            "100 12.484683990478516\n",
            "200 12.410828590393066\n",
            "300 12.404206275939941\n",
            "400 12.403141975402832\n",
            "500 12.402926445007324\n",
            "600 12.40287971496582\n",
            "700 12.402867317199707\n",
            "800 12.402865409851074\n",
            "900 12.402864456176758\n",
            "1000 12.402864456176758\n"
          ],
          "name": "stdout"
        }
      ]
    },
    {
      "cell_type": "code",
      "metadata": {
        "id": "HVFpOBQRY2Jf"
      },
      "source": [
        "predict = (test_x.matmul(W)+b).detach()\r\n",
        "\r\n",
        "submit = pd.read_csv(\"submission_sample.csv\")\r\n",
        "\r\n",
        "for i in range(len(predict)):\r\n",
        "  submit[\"18~20_ride\"][i] = predict[i]\r\n",
        "  \r\n",
        "submit[\"18~20_ride\"] = submit[\"18~20_ride\"].astype(int)\r\n",
        "\r\n",
        "submit.to_csv(\"submission.csv\", index = False, header = True)\r\n",
        "\r\n",
        "#성능 (오차 정도) : 3.23622"
      ],
      "execution_count": 131,
      "outputs": []
    }
  ]
}