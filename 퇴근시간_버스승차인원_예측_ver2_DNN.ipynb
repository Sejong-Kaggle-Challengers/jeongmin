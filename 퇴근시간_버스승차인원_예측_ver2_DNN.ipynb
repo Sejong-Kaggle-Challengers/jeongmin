{
  "nbformat": 4,
  "nbformat_minor": 0,
  "metadata": {
    "colab": {
      "name": "퇴근시간 버스승차인원 예측_ver2 DNN",
      "provenance": [],
      "authorship_tag": "ABX9TyOYQH4g103yDr1MeEcadya2",
      "include_colab_link": true
    },
    "kernelspec": {
      "name": "python3",
      "display_name": "Python 3"
    },
    "accelerator": "GPU"
  },
  "cells": [
    {
      "cell_type": "markdown",
      "metadata": {
        "id": "view-in-github",
        "colab_type": "text"
      },
      "source": [
        "<a href=\"https://colab.research.google.com/github/Sejong-Kaggle-Challengers/jeongmin/blob/main/%ED%87%B4%EA%B7%BC%EC%8B%9C%EA%B0%84_%EB%B2%84%EC%8A%A4%EC%8A%B9%EC%B0%A8%EC%9D%B8%EC%9B%90_%EC%98%88%EC%B8%A1_ver2_DNN.ipynb\" target=\"_parent\"><img src=\"https://colab.research.google.com/assets/colab-badge.svg\" alt=\"Open In Colab\"/></a>"
      ]
    },
    {
      "cell_type": "markdown",
      "metadata": {
        "id": "hvLFXFxR1nzt"
      },
      "source": [
        "- id : 해당 데이터에서의 고유한 ID(train, test와의 중복은 없음)\r\n",
        "- date : 날짜\r\n",
        "- bus_route_id : 노선ID\r\n",
        "- in_out : 시내버스, 시외버스 구분\r\n",
        "- station_code : 해당 승하차 정류소의 ID\r\n",
        "- station_name : 해당 승하차 정류소의 이름\r\n",
        "- latitude : 해당 버스 정류장의 위도 (같은 정류장 이름이어도 버스의 진행 방향에 따라 다를 수 있음)\r\n",
        "- longitude : 해당 버스 정류장의 경도 (같은 정류장 이름이어도 버스의 진행 방향에 따라 다를 수 있음)\r\n",
        "- X~Y_ride : X:00:00부터 X:59:59까지 승차한 인원 수\r\n",
        "- X~Y_takeoff : X:00:00부터 X:59:59까지 하차한 인원 수\r\n",
        "- 18~20_ride : 18:00:00부터 19:59:59까지 승차한 인원 수 (train data에만 존재)"
      ]
    },
    {
      "cell_type": "markdown",
      "metadata": {
        "id": "aiES9Oo09qkI"
      },
      "source": [
        "bus_route_id / date / station_code 겹치는 것을 사용\r\n",
        "\r\n",
        "bus_bts 에서 geton_date - getoff_date(Nan값 많음)\r\n",
        "대부분 동일 -> geton_date만 사용? \r\n",
        "\r\n",
        "하차 부분이 안찍힌 경우가 다 Nan값으로 떠있기 때문에\r\n",
        "채우는 것이 더 안좋을지 뺴는 부분이 좋을지 ? ? \r\n",
        "-> (895736)Nan값을 일단 제거하고 사용\r\n",
        "\r\n",
        "-> 탑승한 시간별로 그 승객들의 탑승하고 있는 시간의 평균..? 이용?\r\n",
        "user_category 사용\r\n",
        "\r\n",
        "station_name / latitude와longitude\r\n",
        "합쳐서 사용\r\n",
        "지명 - 1/지명 - 2 로 변경하거나\r\n",
        "위도 경도만 사용 ? 등등 ..\r\n",
        "\r\n",
        "in_out -> 0과 1로 바꾸기\r\n",
        "\r\n",
        "date -> 공휴일(명절) 유무 / 요일\r\n",
        "\r\n",
        "모델은 LR -> NN ?"
      ]
    },
    {
      "cell_type": "markdown",
      "metadata": {
        "id": "sY_C3Zr09uPi"
      },
      "source": [
        "#데이터 업로드"
      ]
    },
    {
      "cell_type": "code",
      "metadata": {
        "colab": {
          "base_uri": "https://localhost:8080/"
        },
        "id": "Jg3Kyg_t1doF",
        "outputId": "7dfce72f-ab11-4830-c3e5-becfa623d827"
      },
      "source": [
        "!unzip data13.zip"
      ],
      "execution_count": 1,
      "outputs": [
        {
          "output_type": "stream",
          "text": [
            "Archive:  data13.zip\n",
            "  inflating: 행정_법정동 중심좌표.xlsx  \n",
            "  inflating: test.csv                \n",
            "  inflating: train.csv               \n",
            "  inflating: submission_sample.csv   \n",
            "  inflating: bus_bts.csv             \n"
          ],
          "name": "stdout"
        }
      ]
    },
    {
      "cell_type": "code",
      "metadata": {
        "colab": {
          "base_uri": "https://localhost:8080/",
          "height": 299
        },
        "id": "biHqZmY13KzL",
        "outputId": "6a88a761-4f11-41f9-e0b5-bae49ebcdc99"
      },
      "source": [
        "import pandas as pd\r\n",
        "\r\n",
        "train = pd.read_csv(\"train.csv\")\r\n",
        "test = pd.read_csv(\"test.csv\")\r\n",
        "test.head()"
      ],
      "execution_count": 2,
      "outputs": [
        {
          "output_type": "execute_result",
          "data": {
            "text/html": [
              "<div>\n",
              "<style scoped>\n",
              "    .dataframe tbody tr th:only-of-type {\n",
              "        vertical-align: middle;\n",
              "    }\n",
              "\n",
              "    .dataframe tbody tr th {\n",
              "        vertical-align: top;\n",
              "    }\n",
              "\n",
              "    .dataframe thead th {\n",
              "        text-align: right;\n",
              "    }\n",
              "</style>\n",
              "<table border=\"1\" class=\"dataframe\">\n",
              "  <thead>\n",
              "    <tr style=\"text-align: right;\">\n",
              "      <th></th>\n",
              "      <th>id</th>\n",
              "      <th>date</th>\n",
              "      <th>bus_route_id</th>\n",
              "      <th>in_out</th>\n",
              "      <th>station_code</th>\n",
              "      <th>station_name</th>\n",
              "      <th>latitude</th>\n",
              "      <th>longitude</th>\n",
              "      <th>6~7_ride</th>\n",
              "      <th>7~8_ride</th>\n",
              "      <th>8~9_ride</th>\n",
              "      <th>9~10_ride</th>\n",
              "      <th>10~11_ride</th>\n",
              "      <th>11~12_ride</th>\n",
              "      <th>6~7_takeoff</th>\n",
              "      <th>7~8_takeoff</th>\n",
              "      <th>8~9_takeoff</th>\n",
              "      <th>9~10_takeoff</th>\n",
              "      <th>10~11_takeoff</th>\n",
              "      <th>11~12_takeoff</th>\n",
              "    </tr>\n",
              "  </thead>\n",
              "  <tbody>\n",
              "    <tr>\n",
              "      <th>0</th>\n",
              "      <td>415423</td>\n",
              "      <td>2019-10-01</td>\n",
              "      <td>4270000</td>\n",
              "      <td>시외</td>\n",
              "      <td>344</td>\n",
              "      <td>제주썬호텔</td>\n",
              "      <td>33.48990</td>\n",
              "      <td>126.49373</td>\n",
              "      <td>4.0</td>\n",
              "      <td>4.0</td>\n",
              "      <td>7.0</td>\n",
              "      <td>2.0</td>\n",
              "      <td>9.0</td>\n",
              "      <td>1.0</td>\n",
              "      <td>0.0</td>\n",
              "      <td>0.0</td>\n",
              "      <td>0.0</td>\n",
              "      <td>0.0</td>\n",
              "      <td>0.0</td>\n",
              "      <td>1.0</td>\n",
              "    </tr>\n",
              "    <tr>\n",
              "      <th>1</th>\n",
              "      <td>415424</td>\n",
              "      <td>2019-10-01</td>\n",
              "      <td>4270000</td>\n",
              "      <td>시외</td>\n",
              "      <td>357</td>\n",
              "      <td>한라병원</td>\n",
              "      <td>33.48944</td>\n",
              "      <td>126.48508</td>\n",
              "      <td>1.0</td>\n",
              "      <td>6.0</td>\n",
              "      <td>6.0</td>\n",
              "      <td>1.0</td>\n",
              "      <td>8.0</td>\n",
              "      <td>11.0</td>\n",
              "      <td>0.0</td>\n",
              "      <td>0.0</td>\n",
              "      <td>0.0</td>\n",
              "      <td>0.0</td>\n",
              "      <td>0.0</td>\n",
              "      <td>0.0</td>\n",
              "    </tr>\n",
              "    <tr>\n",
              "      <th>2</th>\n",
              "      <td>415425</td>\n",
              "      <td>2019-10-01</td>\n",
              "      <td>4270000</td>\n",
              "      <td>시외</td>\n",
              "      <td>432</td>\n",
              "      <td>정존마을</td>\n",
              "      <td>33.48181</td>\n",
              "      <td>126.47352</td>\n",
              "      <td>2.0</td>\n",
              "      <td>4.0</td>\n",
              "      <td>2.0</td>\n",
              "      <td>2.0</td>\n",
              "      <td>2.0</td>\n",
              "      <td>1.0</td>\n",
              "      <td>0.0</td>\n",
              "      <td>0.0</td>\n",
              "      <td>0.0</td>\n",
              "      <td>0.0</td>\n",
              "      <td>0.0</td>\n",
              "      <td>0.0</td>\n",
              "    </tr>\n",
              "    <tr>\n",
              "      <th>3</th>\n",
              "      <td>415426</td>\n",
              "      <td>2019-10-01</td>\n",
              "      <td>4270000</td>\n",
              "      <td>시내</td>\n",
              "      <td>1579</td>\n",
              "      <td>제주국제공항(600번)</td>\n",
              "      <td>33.50577</td>\n",
              "      <td>126.49252</td>\n",
              "      <td>1.0</td>\n",
              "      <td>11.0</td>\n",
              "      <td>18.0</td>\n",
              "      <td>8.0</td>\n",
              "      <td>26.0</td>\n",
              "      <td>20.0</td>\n",
              "      <td>0.0</td>\n",
              "      <td>0.0</td>\n",
              "      <td>0.0</td>\n",
              "      <td>0.0</td>\n",
              "      <td>0.0</td>\n",
              "      <td>0.0</td>\n",
              "    </tr>\n",
              "    <tr>\n",
              "      <th>4</th>\n",
              "      <td>415427</td>\n",
              "      <td>2019-10-01</td>\n",
              "      <td>4270000</td>\n",
              "      <td>시내</td>\n",
              "      <td>1636</td>\n",
              "      <td>롯데호텔</td>\n",
              "      <td>33.24872</td>\n",
              "      <td>126.41032</td>\n",
              "      <td>0.0</td>\n",
              "      <td>0.0</td>\n",
              "      <td>0.0</td>\n",
              "      <td>0.0</td>\n",
              "      <td>0.0</td>\n",
              "      <td>0.0</td>\n",
              "      <td>0.0</td>\n",
              "      <td>0.0</td>\n",
              "      <td>0.0</td>\n",
              "      <td>1.0</td>\n",
              "      <td>0.0</td>\n",
              "      <td>0.0</td>\n",
              "    </tr>\n",
              "  </tbody>\n",
              "</table>\n",
              "</div>"
            ],
            "text/plain": [
              "       id        date  bus_route_id  ... 9~10_takeoff  10~11_takeoff 11~12_takeoff\n",
              "0  415423  2019-10-01       4270000  ...          0.0            0.0           1.0\n",
              "1  415424  2019-10-01       4270000  ...          0.0            0.0           0.0\n",
              "2  415425  2019-10-01       4270000  ...          0.0            0.0           0.0\n",
              "3  415426  2019-10-01       4270000  ...          0.0            0.0           0.0\n",
              "4  415427  2019-10-01       4270000  ...          1.0            0.0           0.0\n",
              "\n",
              "[5 rows x 20 columns]"
            ]
          },
          "metadata": {
            "tags": []
          },
          "execution_count": 2
        }
      ]
    },
    {
      "cell_type": "code",
      "metadata": {
        "colab": {
          "base_uri": "https://localhost:8080/"
        },
        "id": "TgV6PYLTOakL",
        "outputId": "304a1419-f381-4a1c-a7a8-062e5e634677"
      },
      "source": [
        "train.shape"
      ],
      "execution_count": 3,
      "outputs": [
        {
          "output_type": "execute_result",
          "data": {
            "text/plain": [
              "(415423, 21)"
            ]
          },
          "metadata": {
            "tags": []
          },
          "execution_count": 3
        }
      ]
    },
    {
      "cell_type": "markdown",
      "metadata": {
        "id": "2ZC4szB0R4kI"
      },
      "source": [
        "###bus_bts(아직 고려 X)"
      ]
    },
    {
      "cell_type": "code",
      "metadata": {
        "colab": {
          "base_uri": "https://localhost:8080/",
          "height": 249
        },
        "id": "C6acDAUK4QsW",
        "outputId": "6f42935b-143a-4288-b3fc-f13f89258a6f"
      },
      "source": [
        "bus_bts = pd.read_csv(\"bus_bts.csv\")\r\n",
        "bus_bts.head()"
      ],
      "execution_count": null,
      "outputs": [
        {
          "output_type": "execute_result",
          "data": {
            "text/html": [
              "<div>\n",
              "<style scoped>\n",
              "    .dataframe tbody tr th:only-of-type {\n",
              "        vertical-align: middle;\n",
              "    }\n",
              "\n",
              "    .dataframe tbody tr th {\n",
              "        vertical-align: top;\n",
              "    }\n",
              "\n",
              "    .dataframe thead th {\n",
              "        text-align: right;\n",
              "    }\n",
              "</style>\n",
              "<table border=\"1\" class=\"dataframe\">\n",
              "  <thead>\n",
              "    <tr style=\"text-align: right;\">\n",
              "      <th></th>\n",
              "      <th>user_card_id</th>\n",
              "      <th>bus_route_id</th>\n",
              "      <th>vhc_id</th>\n",
              "      <th>geton_date</th>\n",
              "      <th>geton_time</th>\n",
              "      <th>geton_station_code</th>\n",
              "      <th>geton_station_name</th>\n",
              "      <th>getoff_date</th>\n",
              "      <th>getoff_time</th>\n",
              "      <th>getoff_station_code</th>\n",
              "      <th>getoff_station_name</th>\n",
              "      <th>user_category</th>\n",
              "      <th>user_count</th>\n",
              "    </tr>\n",
              "  </thead>\n",
              "  <tbody>\n",
              "    <tr>\n",
              "      <th>0</th>\n",
              "      <td>1.010010e+15</td>\n",
              "      <td>23000000</td>\n",
              "      <td>149793674</td>\n",
              "      <td>2019-09-10</td>\n",
              "      <td>06:34:45</td>\n",
              "      <td>360</td>\n",
              "      <td>노형오거리</td>\n",
              "      <td>2019-09-10</td>\n",
              "      <td>07:10:31</td>\n",
              "      <td>592.0</td>\n",
              "      <td>화북초등학교</td>\n",
              "      <td>1</td>\n",
              "      <td>1</td>\n",
              "    </tr>\n",
              "    <tr>\n",
              "      <th>1</th>\n",
              "      <td>1.010010e+15</td>\n",
              "      <td>23000000</td>\n",
              "      <td>149793674</td>\n",
              "      <td>2019-09-10</td>\n",
              "      <td>06:34:58</td>\n",
              "      <td>360</td>\n",
              "      <td>노형오거리</td>\n",
              "      <td>2019-09-10</td>\n",
              "      <td>06:56:27</td>\n",
              "      <td>3273.0</td>\n",
              "      <td>고산동산(광양방면)</td>\n",
              "      <td>1</td>\n",
              "      <td>1</td>\n",
              "    </tr>\n",
              "    <tr>\n",
              "      <th>2</th>\n",
              "      <td>1.019160e+15</td>\n",
              "      <td>21420000</td>\n",
              "      <td>149793535</td>\n",
              "      <td>2019-09-10</td>\n",
              "      <td>07:19:07</td>\n",
              "      <td>2495</td>\n",
              "      <td>동광환승정류장4(제주방면)</td>\n",
              "      <td>2019-09-10</td>\n",
              "      <td>07:40:29</td>\n",
              "      <td>431.0</td>\n",
              "      <td>정존마을</td>\n",
              "      <td>4</td>\n",
              "      <td>1</td>\n",
              "    </tr>\n",
              "    <tr>\n",
              "      <th>3</th>\n",
              "      <td>1.019150e+15</td>\n",
              "      <td>21420000</td>\n",
              "      <td>149793512</td>\n",
              "      <td>2019-09-09</td>\n",
              "      <td>09:14:47</td>\n",
              "      <td>3282</td>\n",
              "      <td>대정환승정류장(대정읍사무소)</td>\n",
              "      <td>2019-09-09</td>\n",
              "      <td>10:02:46</td>\n",
              "      <td>431.0</td>\n",
              "      <td>정존마을</td>\n",
              "      <td>1</td>\n",
              "      <td>1</td>\n",
              "    </tr>\n",
              "    <tr>\n",
              "      <th>4</th>\n",
              "      <td>1.010010e+15</td>\n",
              "      <td>21420000</td>\n",
              "      <td>149793512</td>\n",
              "      <td>2019-09-09</td>\n",
              "      <td>09:28:53</td>\n",
              "      <td>2820</td>\n",
              "      <td>삼정지에듀</td>\n",
              "      <td>2019-09-09</td>\n",
              "      <td>10:21:37</td>\n",
              "      <td>2972.0</td>\n",
              "      <td>제주국제공항(종점)</td>\n",
              "      <td>4</td>\n",
              "      <td>1</td>\n",
              "    </tr>\n",
              "  </tbody>\n",
              "</table>\n",
              "</div>"
            ],
            "text/plain": [
              "   user_card_id  bus_route_id  ...  user_category user_count\n",
              "0  1.010010e+15      23000000  ...              1          1\n",
              "1  1.010010e+15      23000000  ...              1          1\n",
              "2  1.019160e+15      21420000  ...              4          1\n",
              "3  1.019150e+15      21420000  ...              1          1\n",
              "4  1.010010e+15      21420000  ...              4          1\n",
              "\n",
              "[5 rows x 13 columns]"
            ]
          },
          "metadata": {
            "tags": []
          },
          "execution_count": 3
        }
      ]
    },
    {
      "cell_type": "code",
      "metadata": {
        "colab": {
          "base_uri": "https://localhost:8080/"
        },
        "id": "AOAeI2k747he",
        "outputId": "a679f581-9b48-45a9-ae82-31a7abd38552"
      },
      "source": [
        "bus_bts.shape"
      ],
      "execution_count": null,
      "outputs": [
        {
          "output_type": "execute_result",
          "data": {
            "text/plain": [
              "(2409414, 13)"
            ]
          },
          "metadata": {
            "tags": []
          },
          "execution_count": 6
        }
      ]
    },
    {
      "cell_type": "code",
      "metadata": {
        "colab": {
          "base_uri": "https://localhost:8080/"
        },
        "id": "in2P-FxY4vgt",
        "outputId": "84dff6d2-276e-4db7-cb7e-90236f0f47bf"
      },
      "source": [
        "bus_bts.isnull().sum()"
      ],
      "execution_count": null,
      "outputs": [
        {
          "output_type": "execute_result",
          "data": {
            "text/plain": [
              "user_card_id                0\n",
              "bus_route_id                0\n",
              "vhc_id                      0\n",
              "geton_date                  0\n",
              "geton_time                  0\n",
              "geton_station_code          0\n",
              "geton_station_name         49\n",
              "getoff_date            895736\n",
              "getoff_time            895736\n",
              "getoff_station_code    895736\n",
              "getoff_station_name    895775\n",
              "user_category               0\n",
              "user_count                  0\n",
              "dtype: int64"
            ]
          },
          "metadata": {
            "tags": []
          },
          "execution_count": 4
        }
      ]
    },
    {
      "cell_type": "code",
      "metadata": {
        "id": "T52dNqyl61YW"
      },
      "source": [
        "train_unique = []\r\n",
        "for i in train.columns.values:\r\n",
        "  train_unique.append(len(train[i].unique()))\r\n",
        "unique_train = pd.DataFrame()\r\n",
        "unique_train['Columns'] = list(train.columns)\r\n",
        "unique_train['Unique_value'] = train_unique"
      ],
      "execution_count": null,
      "outputs": []
    },
    {
      "cell_type": "code",
      "metadata": {
        "colab": {
          "base_uri": "https://localhost:8080/",
          "height": 669
        },
        "id": "-3FwZIfR65dM",
        "outputId": "7e75f89c-40a9-450c-cb9b-5743e6a1d0b4"
      },
      "source": [
        "unique_train"
      ],
      "execution_count": null,
      "outputs": [
        {
          "output_type": "execute_result",
          "data": {
            "text/html": [
              "<div>\n",
              "<style scoped>\n",
              "    .dataframe tbody tr th:only-of-type {\n",
              "        vertical-align: middle;\n",
              "    }\n",
              "\n",
              "    .dataframe tbody tr th {\n",
              "        vertical-align: top;\n",
              "    }\n",
              "\n",
              "    .dataframe thead th {\n",
              "        text-align: right;\n",
              "    }\n",
              "</style>\n",
              "<table border=\"1\" class=\"dataframe\">\n",
              "  <thead>\n",
              "    <tr style=\"text-align: right;\">\n",
              "      <th></th>\n",
              "      <th>Columns</th>\n",
              "      <th>Unique_value</th>\n",
              "    </tr>\n",
              "  </thead>\n",
              "  <tbody>\n",
              "    <tr>\n",
              "      <th>0</th>\n",
              "      <td>id</td>\n",
              "      <td>415423</td>\n",
              "    </tr>\n",
              "    <tr>\n",
              "      <th>1</th>\n",
              "      <td>date</td>\n",
              "      <td>30</td>\n",
              "    </tr>\n",
              "    <tr>\n",
              "      <th>2</th>\n",
              "      <td>bus_route_id</td>\n",
              "      <td>613</td>\n",
              "    </tr>\n",
              "    <tr>\n",
              "      <th>3</th>\n",
              "      <td>in_out</td>\n",
              "      <td>2</td>\n",
              "    </tr>\n",
              "    <tr>\n",
              "      <th>4</th>\n",
              "      <td>station_code</td>\n",
              "      <td>3563</td>\n",
              "    </tr>\n",
              "    <tr>\n",
              "      <th>5</th>\n",
              "      <td>station_name</td>\n",
              "      <td>1961</td>\n",
              "    </tr>\n",
              "    <tr>\n",
              "      <th>6</th>\n",
              "      <td>latitude</td>\n",
              "      <td>3278</td>\n",
              "    </tr>\n",
              "    <tr>\n",
              "      <th>7</th>\n",
              "      <td>longitude</td>\n",
              "      <td>3446</td>\n",
              "    </tr>\n",
              "    <tr>\n",
              "      <th>8</th>\n",
              "      <td>6~7_ride</td>\n",
              "      <td>47</td>\n",
              "    </tr>\n",
              "    <tr>\n",
              "      <th>9</th>\n",
              "      <td>7~8_ride</td>\n",
              "      <td>80</td>\n",
              "    </tr>\n",
              "    <tr>\n",
              "      <th>10</th>\n",
              "      <td>8~9_ride</td>\n",
              "      <td>78</td>\n",
              "    </tr>\n",
              "    <tr>\n",
              "      <th>11</th>\n",
              "      <td>9~10_ride</td>\n",
              "      <td>66</td>\n",
              "    </tr>\n",
              "    <tr>\n",
              "      <th>12</th>\n",
              "      <td>10~11_ride</td>\n",
              "      <td>66</td>\n",
              "    </tr>\n",
              "    <tr>\n",
              "      <th>13</th>\n",
              "      <td>11~12_ride</td>\n",
              "      <td>69</td>\n",
              "    </tr>\n",
              "    <tr>\n",
              "      <th>14</th>\n",
              "      <td>6~7_takeoff</td>\n",
              "      <td>35</td>\n",
              "    </tr>\n",
              "    <tr>\n",
              "      <th>15</th>\n",
              "      <td>7~8_takeoff</td>\n",
              "      <td>51</td>\n",
              "    </tr>\n",
              "    <tr>\n",
              "      <th>16</th>\n",
              "      <td>8~9_takeoff</td>\n",
              "      <td>53</td>\n",
              "    </tr>\n",
              "    <tr>\n",
              "      <th>17</th>\n",
              "      <td>9~10_takeoff</td>\n",
              "      <td>46</td>\n",
              "    </tr>\n",
              "    <tr>\n",
              "      <th>18</th>\n",
              "      <td>10~11_takeoff</td>\n",
              "      <td>47</td>\n",
              "    </tr>\n",
              "    <tr>\n",
              "      <th>19</th>\n",
              "      <td>11~12_takeoff</td>\n",
              "      <td>55</td>\n",
              "    </tr>\n",
              "    <tr>\n",
              "      <th>20</th>\n",
              "      <td>18~20_ride</td>\n",
              "      <td>170</td>\n",
              "    </tr>\n",
              "  </tbody>\n",
              "</table>\n",
              "</div>"
            ],
            "text/plain": [
              "          Columns  Unique_value\n",
              "0              id        415423\n",
              "1            date            30\n",
              "2    bus_route_id           613\n",
              "3          in_out             2\n",
              "4    station_code          3563\n",
              "5    station_name          1961\n",
              "6        latitude          3278\n",
              "7       longitude          3446\n",
              "8        6~7_ride            47\n",
              "9        7~8_ride            80\n",
              "10       8~9_ride            78\n",
              "11      9~10_ride            66\n",
              "12     10~11_ride            66\n",
              "13     11~12_ride            69\n",
              "14    6~7_takeoff            35\n",
              "15    7~8_takeoff            51\n",
              "16    8~9_takeoff            53\n",
              "17   9~10_takeoff            46\n",
              "18  10~11_takeoff            47\n",
              "19  11~12_takeoff            55\n",
              "20     18~20_ride           170"
            ]
          },
          "metadata": {
            "tags": []
          },
          "execution_count": 8
        }
      ]
    },
    {
      "cell_type": "markdown",
      "metadata": {
        "id": "uGoO3tsz9-_S"
      },
      "source": [
        "#데이터 전처리\r\n",
        "1. 날짜\r\n",
        "- 명절 유무 column 생성하기 (2019-09-12 ~ 2019-09-14 : 추석)\r\n",
        "- 요일 column 생성하기\r\n",
        "2. \tin_out(시내/시외)\r\n",
        "- 범주형을 정수형으로 변경\r\n",
        "3. bus_route_id\r\n",
        "- 노선 ID 값이 8자리로 매우 큰 수 -> 10000으로 나누어 줌\r\n",
        "4. station_name 행 제거\r\n",
        "- station_code를 정렬해본 결과 같은 station_code끼리 이름과 위도 경도가 모두 일치\r\n",
        "\r\n",
        "id와 date는 제외하고 학습에 사용\r\n",
        "이후 데이터 정규화 StandardScaler 사용"
      ]
    },
    {
      "cell_type": "code",
      "metadata": {
        "colab": {
          "base_uri": "https://localhost:8080/"
        },
        "id": "TMgEKzyZ9k-y",
        "outputId": "77b561dc-a1c4-4763-d38a-d6e165b06db8"
      },
      "source": [
        "#날짜 정보 알아보기\r\n",
        "train['date'].unique()"
      ],
      "execution_count": 4,
      "outputs": [
        {
          "output_type": "execute_result",
          "data": {
            "text/plain": [
              "array(['2019-09-01', '2019-09-02', '2019-09-03', '2019-09-04',\n",
              "       '2019-09-05', '2019-09-06', '2019-09-07', '2019-09-08',\n",
              "       '2019-09-09', '2019-09-10', '2019-09-11', '2019-09-12',\n",
              "       '2019-09-13', '2019-09-14', '2019-09-15', '2019-09-16',\n",
              "       '2019-09-17', '2019-09-18', '2019-09-19', '2019-09-20',\n",
              "       '2019-09-21', '2019-09-22', '2019-09-23', '2019-09-24',\n",
              "       '2019-09-25', '2019-09-26', '2019-09-27', '2019-09-28',\n",
              "       '2019-09-29', '2019-09-30'], dtype=object)"
            ]
          },
          "metadata": {
            "tags": []
          },
          "execution_count": 4
        }
      ]
    },
    {
      "cell_type": "code",
      "metadata": {
        "colab": {
          "base_uri": "https://localhost:8080/"
        },
        "id": "1uHEa-4AR_YQ",
        "outputId": "51d9028f-b711-4a9b-b70a-9d3bd8408d29"
      },
      "source": [
        "test['date'].unique()"
      ],
      "execution_count": 5,
      "outputs": [
        {
          "output_type": "execute_result",
          "data": {
            "text/plain": [
              "array(['2019-10-01', '2019-10-02', '2019-10-03', '2019-10-04',\n",
              "       '2019-10-05', '2019-10-06', '2019-10-07', '2019-10-08',\n",
              "       '2019-10-09', '2019-10-10', '2019-10-11', '2019-10-12',\n",
              "       '2019-10-13', '2019-10-14', '2019-10-15', '2019-10-16'],\n",
              "      dtype=object)"
            ]
          },
          "metadata": {
            "tags": []
          },
          "execution_count": 5
        }
      ]
    },
    {
      "cell_type": "code",
      "metadata": {
        "colab": {
          "base_uri": "https://localhost:8080/"
        },
        "id": "ZRXK4u6C-lJq",
        "outputId": "d07e3622-a9ae-4c48-add9-801a785c0736"
      },
      "source": [
        "#요일 \r\n",
        "import datetime\r\n",
        "train['dayofweek'] = pd.to_datetime(train['date']).dt.weekday\r\n",
        "test['dayofweek'] = pd.to_datetime(test['date']).dt.weekday\r\n",
        "train['dayofweek']\r\n",
        "#0 -> 월 ~ 6 -> 일"
      ],
      "execution_count": 6,
      "outputs": [
        {
          "output_type": "execute_result",
          "data": {
            "text/plain": [
              "0         6\n",
              "1         6\n",
              "2         6\n",
              "3         6\n",
              "4         6\n",
              "         ..\n",
              "415418    0\n",
              "415419    0\n",
              "415420    0\n",
              "415421    0\n",
              "415422    0\n",
              "Name: dayofweek, Length: 415423, dtype: int64"
            ]
          },
          "metadata": {
            "tags": []
          },
          "execution_count": 6
        }
      ]
    },
    {
      "cell_type": "code",
      "metadata": {
        "colab": {
          "base_uri": "https://localhost:8080/"
        },
        "id": "-7cEUfyyC8MK",
        "outputId": "70632a93-ea07-4785-be87-3664456aa09b"
      },
      "source": [
        "#공휴일 -- 공휴일이면 1 아니면 0\r\n",
        "holi = pd.Series(['2019-09-12','2019-09-13', '2019-09-14'])\r\n",
        "train['holiday'] = train['date'].apply(lambda x : 1 if holi[0] == x or holi[1] == x or holi[2] == x else 0 )\r\n",
        "holi = pd.Series(['2019-10-03','2019-10-09'])\r\n",
        "test['holiday'] = test['date'].apply(lambda x : 1 if holi[0] == x or holi[1] == x else 0 )\r\n",
        "print(train['holiday'].value_counts())\r\n",
        "print(test['holiday'].value_counts())"
      ],
      "execution_count": 7,
      "outputs": [
        {
          "output_type": "stream",
          "text": [
            "0    384704\n",
            "1     30719\n",
            "Name: holiday, dtype: int64\n",
            "0    203564\n",
            "1     24606\n",
            "Name: holiday, dtype: int64\n"
          ],
          "name": "stdout"
        }
      ]
    },
    {
      "cell_type": "code",
      "metadata": {
        "colab": {
          "base_uri": "https://localhost:8080/"
        },
        "id": "xcJSBz2oLTDr",
        "outputId": "6faf6864-314c-4abc-d12a-9f79ddb446fd"
      },
      "source": [
        "#in_out 숫자로 변경 (시외 : 1, 시내 : 0)\r\n",
        "from sklearn.preprocessing import LabelEncoder\r\n",
        "le = LabelEncoder()\r\n",
        "train['in_out'] = le.fit_transform(train['in_out'])\r\n",
        "test['in_out'] = le.transform(test['in_out'])\r\n",
        "train['in_out']"
      ],
      "execution_count": 8,
      "outputs": [
        {
          "output_type": "execute_result",
          "data": {
            "text/plain": [
              "0         1\n",
              "1         1\n",
              "2         1\n",
              "3         0\n",
              "4         0\n",
              "         ..\n",
              "415418    0\n",
              "415419    0\n",
              "415420    0\n",
              "415421    0\n",
              "415422    0\n",
              "Name: in_out, Length: 415423, dtype: int64"
            ]
          },
          "metadata": {
            "tags": []
          },
          "execution_count": 8
        }
      ]
    },
    {
      "cell_type": "code",
      "metadata": {
        "colab": {
          "base_uri": "https://localhost:8080/"
        },
        "id": "iIcoABZkMqqV",
        "outputId": "0249eb64-cda0-48e4-dd19-84bfea9ed005"
      },
      "source": [
        "train['bus_route_id'] = train['bus_route_id']/1000000\r\n",
        "test['bus_route_id'] = test['bus_route_id']/10000000\r\n",
        "train['bus_route_id']"
      ],
      "execution_count": 9,
      "outputs": [
        {
          "output_type": "execute_result",
          "data": {
            "text/plain": [
              "0          4.27\n",
              "1          4.27\n",
              "2          4.27\n",
              "3          4.27\n",
              "4          4.27\n",
              "          ...  \n",
              "415418    32.82\n",
              "415419    32.82\n",
              "415420    32.82\n",
              "415421    32.82\n",
              "415422    32.82\n",
              "Name: bus_route_id, Length: 415423, dtype: float64"
            ]
          },
          "metadata": {
            "tags": []
          },
          "execution_count": 9
        }
      ]
    },
    {
      "cell_type": "code",
      "metadata": {
        "id": "UBYb5iUDOErV"
      },
      "source": [
        "del train['station_name']\r\n",
        "del test['station_name']"
      ],
      "execution_count": 10,
      "outputs": []
    },
    {
      "cell_type": "code",
      "metadata": {
        "colab": {
          "base_uri": "https://localhost:8080/",
          "height": 299
        },
        "id": "3J22caBMQ_Jx",
        "outputId": "52118f1f-ded4-4858-e317-d4d9f25be776"
      },
      "source": [
        "train.head()"
      ],
      "execution_count": 11,
      "outputs": [
        {
          "output_type": "execute_result",
          "data": {
            "text/html": [
              "<div>\n",
              "<style scoped>\n",
              "    .dataframe tbody tr th:only-of-type {\n",
              "        vertical-align: middle;\n",
              "    }\n",
              "\n",
              "    .dataframe tbody tr th {\n",
              "        vertical-align: top;\n",
              "    }\n",
              "\n",
              "    .dataframe thead th {\n",
              "        text-align: right;\n",
              "    }\n",
              "</style>\n",
              "<table border=\"1\" class=\"dataframe\">\n",
              "  <thead>\n",
              "    <tr style=\"text-align: right;\">\n",
              "      <th></th>\n",
              "      <th>id</th>\n",
              "      <th>date</th>\n",
              "      <th>bus_route_id</th>\n",
              "      <th>in_out</th>\n",
              "      <th>station_code</th>\n",
              "      <th>latitude</th>\n",
              "      <th>longitude</th>\n",
              "      <th>6~7_ride</th>\n",
              "      <th>7~8_ride</th>\n",
              "      <th>8~9_ride</th>\n",
              "      <th>9~10_ride</th>\n",
              "      <th>10~11_ride</th>\n",
              "      <th>11~12_ride</th>\n",
              "      <th>6~7_takeoff</th>\n",
              "      <th>7~8_takeoff</th>\n",
              "      <th>8~9_takeoff</th>\n",
              "      <th>9~10_takeoff</th>\n",
              "      <th>10~11_takeoff</th>\n",
              "      <th>11~12_takeoff</th>\n",
              "      <th>18~20_ride</th>\n",
              "      <th>dayofweek</th>\n",
              "      <th>holiday</th>\n",
              "    </tr>\n",
              "  </thead>\n",
              "  <tbody>\n",
              "    <tr>\n",
              "      <th>0</th>\n",
              "      <td>0</td>\n",
              "      <td>2019-09-01</td>\n",
              "      <td>4.27</td>\n",
              "      <td>1</td>\n",
              "      <td>344</td>\n",
              "      <td>33.48990</td>\n",
              "      <td>126.49373</td>\n",
              "      <td>0.0</td>\n",
              "      <td>1.0</td>\n",
              "      <td>2.0</td>\n",
              "      <td>5.0</td>\n",
              "      <td>2.0</td>\n",
              "      <td>6.0</td>\n",
              "      <td>0.0</td>\n",
              "      <td>0.0</td>\n",
              "      <td>0.0</td>\n",
              "      <td>0.0</td>\n",
              "      <td>0.0</td>\n",
              "      <td>0.0</td>\n",
              "      <td>0.0</td>\n",
              "      <td>6</td>\n",
              "      <td>0</td>\n",
              "    </tr>\n",
              "    <tr>\n",
              "      <th>1</th>\n",
              "      <td>1</td>\n",
              "      <td>2019-09-01</td>\n",
              "      <td>4.27</td>\n",
              "      <td>1</td>\n",
              "      <td>357</td>\n",
              "      <td>33.48944</td>\n",
              "      <td>126.48508</td>\n",
              "      <td>1.0</td>\n",
              "      <td>4.0</td>\n",
              "      <td>4.0</td>\n",
              "      <td>2.0</td>\n",
              "      <td>5.0</td>\n",
              "      <td>6.0</td>\n",
              "      <td>0.0</td>\n",
              "      <td>0.0</td>\n",
              "      <td>0.0</td>\n",
              "      <td>0.0</td>\n",
              "      <td>0.0</td>\n",
              "      <td>0.0</td>\n",
              "      <td>5.0</td>\n",
              "      <td>6</td>\n",
              "      <td>0</td>\n",
              "    </tr>\n",
              "    <tr>\n",
              "      <th>2</th>\n",
              "      <td>2</td>\n",
              "      <td>2019-09-01</td>\n",
              "      <td>4.27</td>\n",
              "      <td>1</td>\n",
              "      <td>432</td>\n",
              "      <td>33.48181</td>\n",
              "      <td>126.47352</td>\n",
              "      <td>1.0</td>\n",
              "      <td>1.0</td>\n",
              "      <td>0.0</td>\n",
              "      <td>2.0</td>\n",
              "      <td>0.0</td>\n",
              "      <td>0.0</td>\n",
              "      <td>0.0</td>\n",
              "      <td>0.0</td>\n",
              "      <td>0.0</td>\n",
              "      <td>0.0</td>\n",
              "      <td>0.0</td>\n",
              "      <td>0.0</td>\n",
              "      <td>2.0</td>\n",
              "      <td>6</td>\n",
              "      <td>0</td>\n",
              "    </tr>\n",
              "    <tr>\n",
              "      <th>3</th>\n",
              "      <td>3</td>\n",
              "      <td>2019-09-01</td>\n",
              "      <td>4.27</td>\n",
              "      <td>0</td>\n",
              "      <td>1579</td>\n",
              "      <td>33.50577</td>\n",
              "      <td>126.49252</td>\n",
              "      <td>0.0</td>\n",
              "      <td>17.0</td>\n",
              "      <td>6.0</td>\n",
              "      <td>26.0</td>\n",
              "      <td>14.0</td>\n",
              "      <td>16.0</td>\n",
              "      <td>0.0</td>\n",
              "      <td>0.0</td>\n",
              "      <td>0.0</td>\n",
              "      <td>0.0</td>\n",
              "      <td>0.0</td>\n",
              "      <td>0.0</td>\n",
              "      <td>53.0</td>\n",
              "      <td>6</td>\n",
              "      <td>0</td>\n",
              "    </tr>\n",
              "    <tr>\n",
              "      <th>4</th>\n",
              "      <td>4</td>\n",
              "      <td>2019-09-01</td>\n",
              "      <td>4.27</td>\n",
              "      <td>0</td>\n",
              "      <td>1646</td>\n",
              "      <td>33.25579</td>\n",
              "      <td>126.41260</td>\n",
              "      <td>0.0</td>\n",
              "      <td>0.0</td>\n",
              "      <td>0.0</td>\n",
              "      <td>0.0</td>\n",
              "      <td>0.0</td>\n",
              "      <td>0.0</td>\n",
              "      <td>0.0</td>\n",
              "      <td>0.0</td>\n",
              "      <td>0.0</td>\n",
              "      <td>1.0</td>\n",
              "      <td>0.0</td>\n",
              "      <td>0.0</td>\n",
              "      <td>0.0</td>\n",
              "      <td>6</td>\n",
              "      <td>0</td>\n",
              "    </tr>\n",
              "  </tbody>\n",
              "</table>\n",
              "</div>"
            ],
            "text/plain": [
              "   id        date  bus_route_id  ...  18~20_ride  dayofweek  holiday\n",
              "0   0  2019-09-01          4.27  ...         0.0          6        0\n",
              "1   1  2019-09-01          4.27  ...         5.0          6        0\n",
              "2   2  2019-09-01          4.27  ...         2.0          6        0\n",
              "3   3  2019-09-01          4.27  ...        53.0          6        0\n",
              "4   4  2019-09-01          4.27  ...         0.0          6        0\n",
              "\n",
              "[5 rows x 22 columns]"
            ]
          },
          "metadata": {
            "tags": []
          },
          "execution_count": 11
        }
      ]
    },
    {
      "cell_type": "code",
      "metadata": {
        "colab": {
          "base_uri": "https://localhost:8080/",
          "height": 299
        },
        "id": "XZdMPYk5S548",
        "outputId": "ab9ab10d-d91a-4990-dbfb-03d8988a5e29"
      },
      "source": [
        "test.head()"
      ],
      "execution_count": 12,
      "outputs": [
        {
          "output_type": "execute_result",
          "data": {
            "text/html": [
              "<div>\n",
              "<style scoped>\n",
              "    .dataframe tbody tr th:only-of-type {\n",
              "        vertical-align: middle;\n",
              "    }\n",
              "\n",
              "    .dataframe tbody tr th {\n",
              "        vertical-align: top;\n",
              "    }\n",
              "\n",
              "    .dataframe thead th {\n",
              "        text-align: right;\n",
              "    }\n",
              "</style>\n",
              "<table border=\"1\" class=\"dataframe\">\n",
              "  <thead>\n",
              "    <tr style=\"text-align: right;\">\n",
              "      <th></th>\n",
              "      <th>id</th>\n",
              "      <th>date</th>\n",
              "      <th>bus_route_id</th>\n",
              "      <th>in_out</th>\n",
              "      <th>station_code</th>\n",
              "      <th>latitude</th>\n",
              "      <th>longitude</th>\n",
              "      <th>6~7_ride</th>\n",
              "      <th>7~8_ride</th>\n",
              "      <th>8~9_ride</th>\n",
              "      <th>9~10_ride</th>\n",
              "      <th>10~11_ride</th>\n",
              "      <th>11~12_ride</th>\n",
              "      <th>6~7_takeoff</th>\n",
              "      <th>7~8_takeoff</th>\n",
              "      <th>8~9_takeoff</th>\n",
              "      <th>9~10_takeoff</th>\n",
              "      <th>10~11_takeoff</th>\n",
              "      <th>11~12_takeoff</th>\n",
              "      <th>dayofweek</th>\n",
              "      <th>holiday</th>\n",
              "    </tr>\n",
              "  </thead>\n",
              "  <tbody>\n",
              "    <tr>\n",
              "      <th>0</th>\n",
              "      <td>415423</td>\n",
              "      <td>2019-10-01</td>\n",
              "      <td>0.427</td>\n",
              "      <td>1</td>\n",
              "      <td>344</td>\n",
              "      <td>33.48990</td>\n",
              "      <td>126.49373</td>\n",
              "      <td>4.0</td>\n",
              "      <td>4.0</td>\n",
              "      <td>7.0</td>\n",
              "      <td>2.0</td>\n",
              "      <td>9.0</td>\n",
              "      <td>1.0</td>\n",
              "      <td>0.0</td>\n",
              "      <td>0.0</td>\n",
              "      <td>0.0</td>\n",
              "      <td>0.0</td>\n",
              "      <td>0.0</td>\n",
              "      <td>1.0</td>\n",
              "      <td>1</td>\n",
              "      <td>0</td>\n",
              "    </tr>\n",
              "    <tr>\n",
              "      <th>1</th>\n",
              "      <td>415424</td>\n",
              "      <td>2019-10-01</td>\n",
              "      <td>0.427</td>\n",
              "      <td>1</td>\n",
              "      <td>357</td>\n",
              "      <td>33.48944</td>\n",
              "      <td>126.48508</td>\n",
              "      <td>1.0</td>\n",
              "      <td>6.0</td>\n",
              "      <td>6.0</td>\n",
              "      <td>1.0</td>\n",
              "      <td>8.0</td>\n",
              "      <td>11.0</td>\n",
              "      <td>0.0</td>\n",
              "      <td>0.0</td>\n",
              "      <td>0.0</td>\n",
              "      <td>0.0</td>\n",
              "      <td>0.0</td>\n",
              "      <td>0.0</td>\n",
              "      <td>1</td>\n",
              "      <td>0</td>\n",
              "    </tr>\n",
              "    <tr>\n",
              "      <th>2</th>\n",
              "      <td>415425</td>\n",
              "      <td>2019-10-01</td>\n",
              "      <td>0.427</td>\n",
              "      <td>1</td>\n",
              "      <td>432</td>\n",
              "      <td>33.48181</td>\n",
              "      <td>126.47352</td>\n",
              "      <td>2.0</td>\n",
              "      <td>4.0</td>\n",
              "      <td>2.0</td>\n",
              "      <td>2.0</td>\n",
              "      <td>2.0</td>\n",
              "      <td>1.0</td>\n",
              "      <td>0.0</td>\n",
              "      <td>0.0</td>\n",
              "      <td>0.0</td>\n",
              "      <td>0.0</td>\n",
              "      <td>0.0</td>\n",
              "      <td>0.0</td>\n",
              "      <td>1</td>\n",
              "      <td>0</td>\n",
              "    </tr>\n",
              "    <tr>\n",
              "      <th>3</th>\n",
              "      <td>415426</td>\n",
              "      <td>2019-10-01</td>\n",
              "      <td>0.427</td>\n",
              "      <td>0</td>\n",
              "      <td>1579</td>\n",
              "      <td>33.50577</td>\n",
              "      <td>126.49252</td>\n",
              "      <td>1.0</td>\n",
              "      <td>11.0</td>\n",
              "      <td>18.0</td>\n",
              "      <td>8.0</td>\n",
              "      <td>26.0</td>\n",
              "      <td>20.0</td>\n",
              "      <td>0.0</td>\n",
              "      <td>0.0</td>\n",
              "      <td>0.0</td>\n",
              "      <td>0.0</td>\n",
              "      <td>0.0</td>\n",
              "      <td>0.0</td>\n",
              "      <td>1</td>\n",
              "      <td>0</td>\n",
              "    </tr>\n",
              "    <tr>\n",
              "      <th>4</th>\n",
              "      <td>415427</td>\n",
              "      <td>2019-10-01</td>\n",
              "      <td>0.427</td>\n",
              "      <td>0</td>\n",
              "      <td>1636</td>\n",
              "      <td>33.24872</td>\n",
              "      <td>126.41032</td>\n",
              "      <td>0.0</td>\n",
              "      <td>0.0</td>\n",
              "      <td>0.0</td>\n",
              "      <td>0.0</td>\n",
              "      <td>0.0</td>\n",
              "      <td>0.0</td>\n",
              "      <td>0.0</td>\n",
              "      <td>0.0</td>\n",
              "      <td>0.0</td>\n",
              "      <td>1.0</td>\n",
              "      <td>0.0</td>\n",
              "      <td>0.0</td>\n",
              "      <td>1</td>\n",
              "      <td>0</td>\n",
              "    </tr>\n",
              "  </tbody>\n",
              "</table>\n",
              "</div>"
            ],
            "text/plain": [
              "       id        date  bus_route_id  ...  11~12_takeoff  dayofweek  holiday\n",
              "0  415423  2019-10-01         0.427  ...            1.0          1        0\n",
              "1  415424  2019-10-01         0.427  ...            0.0          1        0\n",
              "2  415425  2019-10-01         0.427  ...            0.0          1        0\n",
              "3  415426  2019-10-01         0.427  ...            0.0          1        0\n",
              "4  415427  2019-10-01         0.427  ...            0.0          1        0\n",
              "\n",
              "[5 rows x 21 columns]"
            ]
          },
          "metadata": {
            "tags": []
          },
          "execution_count": 12
        }
      ]
    },
    {
      "cell_type": "code",
      "metadata": {
        "id": "48Mil5ZyXk25"
      },
      "source": [
        "train_x = train.loc[:, \"bus_route_id\":\"holiday\"]\r\n",
        "del train_x['18~20_ride']\r\n",
        "train_y = train['18~20_ride']\r\n",
        "\r\n",
        "test_x = test.loc[:, \"bus_route_id\":\"holiday\"]"
      ],
      "execution_count": 38,
      "outputs": []
    },
    {
      "cell_type": "code",
      "metadata": {
        "id": "1T5Drm-rXl4G"
      },
      "source": [
        "#데이터 정규화\r\n",
        "from sklearn.preprocessing import StandardScaler\r\n",
        "scaler = StandardScaler()\r\n",
        "\r\n",
        "train_x = scaler.fit_transform(train_x)\r\n",
        "test_x = scaler.transform(test_x)"
      ],
      "execution_count": 39,
      "outputs": []
    },
    {
      "cell_type": "markdown",
      "metadata": {
        "id": "PUR1eX_rTce7"
      },
      "source": [
        "#모델 학습"
      ]
    },
    {
      "cell_type": "code",
      "metadata": {
        "colab": {
          "base_uri": "https://localhost:8080/"
        },
        "id": "Kqtj_AxfTeR5",
        "outputId": "fa5c9d51-80d5-42d5-ec49-6d3a0fc3fdd2"
      },
      "source": [
        "import torch\r\n",
        "import numpy as np\r\n",
        "import torch.optim as optim\r\n",
        "\r\n",
        "import random\r\n",
        "from torch.utils.data import DataLoader, TensorDataset\r\n",
        "\r\n",
        "torch.manual_seed(777)\r\n",
        "device = 'cuda' if torch.cuda.is_available() else 'cpu'\r\n",
        "if device == 'cuda':\r\n",
        "  torch.cuda.manual_seed_all(777)\r\n",
        "\r\n",
        "train_x = np.array(train_x)\r\n",
        "train_y = np.array(train_y)\r\n",
        "\r\n",
        "train_x = torch.FloatTensor(train_x).to(device)\r\n",
        "train_y = torch.FloatTensor(train_y).unsqueeze(1).to(device)\r\n",
        "\r\n",
        "train_y"
      ],
      "execution_count": 29,
      "outputs": [
        {
          "output_type": "execute_result",
          "data": {
            "text/plain": [
              "tensor([[0.],\n",
              "        [5.],\n",
              "        [2.],\n",
              "        ...,\n",
              "        [0.],\n",
              "        [0.],\n",
              "        [0.]], device='cuda:0')"
            ]
          },
          "metadata": {
            "tags": []
          },
          "execution_count": 29
        }
      ]
    },
    {
      "cell_type": "code",
      "metadata": {
        "id": "jT9HC-XEpZE2"
      },
      "source": [
        "dataset = TensorDataset(train_x, train_y)\r\n",
        "dataloader = DataLoader(dataset, batch_size=8, shuffle=True, drop_last=True)"
      ],
      "execution_count": 30,
      "outputs": []
    },
    {
      "cell_type": "code",
      "metadata": {
        "colab": {
          "base_uri": "https://localhost:8080/"
        },
        "id": "hZpMESybVUfP",
        "outputId": "c9a76b0d-32fc-4879-8914-1f8eb4f5fc34"
      },
      "source": [
        "train_x.shape"
      ],
      "execution_count": 31,
      "outputs": [
        {
          "output_type": "execute_result",
          "data": {
            "text/plain": [
              "torch.Size([415423, 19])"
            ]
          },
          "metadata": {
            "tags": []
          },
          "execution_count": 31
        }
      ]
    },
    {
      "cell_type": "code",
      "metadata": {
        "id": "9bQG1BRHpfLd"
      },
      "source": [
        "linear1 = torch.nn.Linear(19,128,bias=True)\r\n",
        "linear2 = torch.nn.Linear(128,128,bias=True)\r\n",
        "linear3 = torch.nn.Linear(128, 1,bias=True)\r\n",
        "relu = torch.nn.ReLU()"
      ],
      "execution_count": 32,
      "outputs": []
    },
    {
      "cell_type": "code",
      "metadata": {
        "colab": {
          "base_uri": "https://localhost:8080/"
        },
        "id": "mN6Sze6DphOX",
        "outputId": "29250d87-7da9-4573-b613-cbb5f091e192"
      },
      "source": [
        "torch.nn.init.xavier_normal_(linear1.weight)\r\n",
        "torch.nn.init.xavier_normal_(linear2.weight)\r\n",
        "torch.nn.init.xavier_normal_(linear3.weight)"
      ],
      "execution_count": 33,
      "outputs": [
        {
          "output_type": "execute_result",
          "data": {
            "text/plain": [
              "Parameter containing:\n",
              "tensor([[ 0.1506, -0.1838, -0.1087, -0.1279,  0.1646, -0.1429, -0.0157, -0.0712,\n",
              "          0.2312, -0.0023, -0.0357, -0.0117,  0.0870,  0.0773, -0.2180,  0.0200,\n",
              "          0.0236,  0.1748,  0.1243, -0.1786, -0.0109, -0.1184,  0.0342, -0.1168,\n",
              "         -0.0675, -0.0712,  0.0685, -0.3064,  0.0004,  0.1173,  0.0779,  0.0428,\n",
              "         -0.0973,  0.0144, -0.1066, -0.1663,  0.0344,  0.0137, -0.0041,  0.0184,\n",
              "         -0.0065, -0.0797, -0.0396,  0.0656, -0.0847,  0.0374, -0.0927, -0.3569,\n",
              "          0.1072,  0.0702, -0.0460,  0.0108, -0.0169, -0.1327,  0.0409,  0.0034,\n",
              "          0.1494, -0.1908,  0.0160, -0.0484,  0.0520, -0.1815,  0.1761, -0.0132,\n",
              "         -0.0436, -0.0810, -0.3008,  0.0186, -0.1282, -0.1290,  0.0959, -0.1575,\n",
              "         -0.1443, -0.1074, -0.0879, -0.1325, -0.0954,  0.0625, -0.1526, -0.2555,\n",
              "         -0.0345,  0.0834, -0.0472, -0.0610, -0.0039, -0.1580,  0.0843, -0.0362,\n",
              "         -0.0109,  0.0122, -0.0735, -0.2265, -0.2029, -0.3348, -0.0645,  0.2370,\n",
              "         -0.1258, -0.0470,  0.0214, -0.0387, -0.0907, -0.2191, -0.0486, -0.0246,\n",
              "          0.0358,  0.1184,  0.0074, -0.0817, -0.0700, -0.2498,  0.0612, -0.1050,\n",
              "         -0.1562, -0.1288,  0.0628,  0.1605,  0.0129, -0.0992, -0.1006, -0.0486,\n",
              "         -0.1183, -0.0937,  0.1946,  0.1519,  0.0728, -0.1313,  0.0007, -0.1632]],\n",
              "       requires_grad=True)"
            ]
          },
          "metadata": {
            "tags": []
          },
          "execution_count": 33
        }
      ]
    },
    {
      "cell_type": "code",
      "metadata": {
        "id": "P5InchxNpoIF"
      },
      "source": [
        "model = torch.nn.Sequential(linear1,relu, linear2,relu,\r\n",
        "                            linear3).to(device)"
      ],
      "execution_count": 34,
      "outputs": []
    },
    {
      "cell_type": "code",
      "metadata": {
        "colab": {
          "base_uri": "https://localhost:8080/"
        },
        "id": "gFFG_nPXVRDb",
        "outputId": "c139c13c-e9d4-4c96-e0aa-a4a4c741f759"
      },
      "source": [
        "optimizer = torch.optim.Adam(model.parameters(), lr = 1e-6)\r\n",
        "loss = torch.nn.MSELoss().to(device)\r\n",
        "epochs = 5\r\n",
        "cost_list = []\r\n",
        "for epoch in range(epochs+1):\r\n",
        "  for x,y in dataloader:\r\n",
        "\r\n",
        "    x = x.to(device)\r\n",
        "    y = y.to(device)\r\n",
        "\r\n",
        "    hypothesis = model(x)\r\n",
        "    cost = loss(hypothesis, y)\r\n",
        "\r\n",
        "    optimizer.zero_grad()\r\n",
        "    cost.backward()\r\n",
        "    optimizer.step()\r\n",
        "\r\n",
        "  #if epoch%10 == 0:\r\n",
        "  print('Epoch {} Cost {}'.format(epoch, cost.item()))"
      ],
      "execution_count": 36,
      "outputs": [
        {
          "output_type": "stream",
          "text": [
            "Epoch 0 Cost 1.512024164199829\n",
            "Epoch 1 Cost 4.778573036193848\n",
            "Epoch 2 Cost 1.300308108329773\n",
            "Epoch 3 Cost 1.3934416770935059\n",
            "Epoch 4 Cost 7.530390739440918\n",
            "Epoch 5 Cost 1.6355178356170654\n"
          ],
          "name": "stdout"
        }
      ]
    },
    {
      "cell_type": "code",
      "metadata": {
        "id": "HVFpOBQRY2Jf"
      },
      "source": [
        "test_x = torch.FloatTensor(np.array(test_x)).to(device)\r\n",
        "\r\n",
        "predict = model(test_x).detach()\r\n",
        "predict = predict.cpu().numpy().reshape(-1, 1)\r\n",
        "\r\n",
        "submit = pd.read_csv(\"submission_sample.csv\")\r\n",
        "\r\n",
        "for i in range(len(predict)):\r\n",
        "  submit[\"18~20_ride\"][i] = predict[i]\r\n",
        "  \r\n",
        "submit[\"18~20_ride\"] = submit[\"18~20_ride\"].astype(int)\r\n",
        "\r\n",
        "submit.to_csv(\"submission.csv\", index = False, header = True)\r\n",
        "\r\n",
        "#성능 (오차 정도) : \t3.3227256101"
      ],
      "execution_count": 40,
      "outputs": []
    }
  ]
}