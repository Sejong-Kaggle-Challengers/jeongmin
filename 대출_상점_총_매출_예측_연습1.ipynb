{
  "nbformat": 4,
  "nbformat_minor": 0,
  "metadata": {
    "colab": {
      "name": "대출 상점 총 매출 예측_연습1.ipynb",
      "provenance": []
    },
    "kernelspec": {
      "name": "python3",
      "display_name": "Python 3"
    }
  },
  "cells": [
    {
      "cell_type": "markdown",
      "metadata": {
        "id": "3KXop95rgunZ"
      },
      "source": [
        "https://dacon.io/competitions/official/136/codeshare/1383?page=1&dtype=recent&ptype=pub\r\n",
        "<br>를 토대로 코드 작성중\r\n",
        ": Facebook prophet 활용 예측 모델"
      ]
    },
    {
      "cell_type": "markdown",
      "metadata": {
        "id": "gtBs9b-HGgXi"
      },
      "source": [
        "한국의 약 2,000개 상점의 신용카드 거래 내역이 제공<br>\r\n",
        "test.csv랑 train.csv의 store_id가 같아도 같은 상점인 것은 아님.\r\n",
        "- store_id : 각 파일에서의 상점 고유 번호 (해당기한 내 개업 혹은 폐업한 상점도 있음)\r\n",
        "- date : 거래 일자\r\n",
        "- time : 거래 시간\r\n",
        "- card_id : 카드 번호의 hash 값\r\n",
        "- amount : 매출 금액, 음수인 경우 취소 거래\r\n",
        "- installments : 할부 개월 수. 일시불은 빈 문자열\r\n",
        "- days_of_week : 요일, 월요일이 0, 일요일은 6\r\n",
        "- holiday : 1이면 공휴일, 0이면 공휴일 아님"
      ]
    },
    {
      "cell_type": "code",
      "metadata": {
        "colab": {
          "base_uri": "https://localhost:8080/"
        },
        "id": "7c7lzItmh25r",
        "outputId": "59d5ad26-ea1b-4a6f-e3dd-fec1680df824"
      },
      "source": [
        "!unzip data01.zip"
      ],
      "execution_count": 1,
      "outputs": [
        {
          "output_type": "stream",
          "text": [
            "Archive:  data01.zip\n",
            "  inflating: submission.csv          \n",
            "  inflating: test.csv.zip            \n",
            "  inflating: train.csv.zip           \n"
          ],
          "name": "stdout"
        }
      ]
    },
    {
      "cell_type": "code",
      "metadata": {
        "colab": {
          "base_uri": "https://localhost:8080/"
        },
        "id": "IzQpW-ICjowP",
        "outputId": "123730dc-95c2-4ae2-d7c8-ec8dfc2f0a9f"
      },
      "source": [
        "!unzip train.csv.zip\r\n",
        "!unzip test.csv.zip  "
      ],
      "execution_count": 2,
      "outputs": [
        {
          "output_type": "stream",
          "text": [
            "Archive:  train.csv.zip\n",
            "  inflating: train.csv               \n",
            "   creating: __MACOSX/\n",
            "  inflating: __MACOSX/._train.csv    \n",
            "Archive:  test.csv.zip\n",
            "  inflating: test.csv                \n",
            "  inflating: __MACOSX/._test.csv     \n"
          ],
          "name": "stdout"
        }
      ]
    },
    {
      "cell_type": "code",
      "metadata": {
        "id": "mjC_2o1vj_X7"
      },
      "source": [
        "import matplotlib.pyplot as plt\r\n",
        "import numpy as np\r\n",
        "import seaborn as sns\r\n",
        "from tqdm.notebook import tqdm\r\n",
        "import pandas as pd\r\n",
        "import datetime #requests, \r\n",
        "import os\r\n",
        "\r\n",
        "from fbprophet import Prophet\r\n",
        "# Facebook에서 만든 Prophet (시계열 데이터 예측)\r\n",
        "import xgboost as xgb\r\n",
        "from sklearn.model_selection import train_test_split\r\n",
        "import warnings\r\n",
        "from sklearn.metrics import mean_squared_error\r\n",
        "\r\n",
        "warnings.filterwarnings('ignore')\r\n",
        "#한글 깨짐방지\r\n",
        "plt.rc('font',family = 'Malgun Gothic')\r\n",
        "plt.rcParams['axes.unicode_minus'] = False\r\n",
        "\r\n",
        "import logging\r\n",
        "logging.getLogger('fbprophet').setLevel(logging.WARNING)"
      ],
      "execution_count": 51,
      "outputs": []
    },
    {
      "cell_type": "code",
      "metadata": {
        "colab": {
          "base_uri": "https://localhost:8080/"
        },
        "id": "T_CJ33DxmVHo",
        "outputId": "1a24c75a-0a9a-4c33-ed46-275706b1a236"
      },
      "source": [
        "train = pd.read_csv(\"train.csv\")\r\n",
        "test = pd.read_csv(\"test.csv\")\r\n",
        "submission = pd.read_csv(\"submission.csv\")\r\n",
        "merge_df = pd.concat([train, test])\r\n",
        "merge_df.shape"
      ],
      "execution_count": 52,
      "outputs": [
        {
          "output_type": "execute_result",
          "data": {
            "text/plain": [
              "(3836188, 8)"
            ]
          },
          "metadata": {
            "tags": []
          },
          "execution_count": 52
        }
      ]
    },
    {
      "cell_type": "code",
      "metadata": {
        "colab": {
          "base_uri": "https://localhost:8080/",
          "height": 399
        },
        "id": "OLKGL40NfKKL",
        "outputId": "189ee83d-0610-4767-e960-471324a784eb"
      },
      "source": [
        "#전체 날짜의 휴일 요일\r\n",
        "all_dates = merge_df.drop_duplicates('date').sort_values('date') #'date'행으로 정렬 후 중복되는 것 삭제\r\n",
        "all_dates = all_dates[['date', 'days_of_week', 'holyday']] #날짜, 주차, 휴일\r\n",
        "all_dates.reset_index(drop=True, inplace=True) #index reset\r\n",
        "all_dates['date'] = pd.to_datetime(all_dates['date']) #별 차이 없음 \r\n",
        "all_dates"
      ],
      "execution_count": 53,
      "outputs": [
        {
          "output_type": "execute_result",
          "data": {
            "text/html": [
              "<div>\n",
              "<style scoped>\n",
              "    .dataframe tbody tr th:only-of-type {\n",
              "        vertical-align: middle;\n",
              "    }\n",
              "\n",
              "    .dataframe tbody tr th {\n",
              "        vertical-align: top;\n",
              "    }\n",
              "\n",
              "    .dataframe thead th {\n",
              "        text-align: right;\n",
              "    }\n",
              "</style>\n",
              "<table border=\"1\" class=\"dataframe\">\n",
              "  <thead>\n",
              "    <tr style=\"text-align: right;\">\n",
              "      <th></th>\n",
              "      <th>date</th>\n",
              "      <th>days_of_week</th>\n",
              "      <th>holyday</th>\n",
              "    </tr>\n",
              "  </thead>\n",
              "  <tbody>\n",
              "    <tr>\n",
              "      <th>0</th>\n",
              "      <td>2016-08-01</td>\n",
              "      <td>0</td>\n",
              "      <td>0</td>\n",
              "    </tr>\n",
              "    <tr>\n",
              "      <th>1</th>\n",
              "      <td>2016-08-02</td>\n",
              "      <td>1</td>\n",
              "      <td>0</td>\n",
              "    </tr>\n",
              "    <tr>\n",
              "      <th>2</th>\n",
              "      <td>2016-08-03</td>\n",
              "      <td>2</td>\n",
              "      <td>0</td>\n",
              "    </tr>\n",
              "    <tr>\n",
              "      <th>3</th>\n",
              "      <td>2016-08-04</td>\n",
              "      <td>3</td>\n",
              "      <td>0</td>\n",
              "    </tr>\n",
              "    <tr>\n",
              "      <th>4</th>\n",
              "      <td>2016-08-05</td>\n",
              "      <td>4</td>\n",
              "      <td>0</td>\n",
              "    </tr>\n",
              "    <tr>\n",
              "      <th>...</th>\n",
              "      <td>...</td>\n",
              "      <td>...</td>\n",
              "      <td>...</td>\n",
              "    </tr>\n",
              "    <tr>\n",
              "      <th>725</th>\n",
              "      <td>2018-07-27</td>\n",
              "      <td>4</td>\n",
              "      <td>0</td>\n",
              "    </tr>\n",
              "    <tr>\n",
              "      <th>726</th>\n",
              "      <td>2018-07-28</td>\n",
              "      <td>5</td>\n",
              "      <td>0</td>\n",
              "    </tr>\n",
              "    <tr>\n",
              "      <th>727</th>\n",
              "      <td>2018-07-29</td>\n",
              "      <td>6</td>\n",
              "      <td>0</td>\n",
              "    </tr>\n",
              "    <tr>\n",
              "      <th>728</th>\n",
              "      <td>2018-07-30</td>\n",
              "      <td>0</td>\n",
              "      <td>0</td>\n",
              "    </tr>\n",
              "    <tr>\n",
              "      <th>729</th>\n",
              "      <td>2018-07-31</td>\n",
              "      <td>1</td>\n",
              "      <td>0</td>\n",
              "    </tr>\n",
              "  </tbody>\n",
              "</table>\n",
              "<p>730 rows × 3 columns</p>\n",
              "</div>"
            ],
            "text/plain": [
              "          date  days_of_week  holyday\n",
              "0   2016-08-01             0        0\n",
              "1   2016-08-02             1        0\n",
              "2   2016-08-03             2        0\n",
              "3   2016-08-04             3        0\n",
              "4   2016-08-05             4        0\n",
              "..         ...           ...      ...\n",
              "725 2018-07-27             4        0\n",
              "726 2018-07-28             5        0\n",
              "727 2018-07-29             6        0\n",
              "728 2018-07-30             0        0\n",
              "729 2018-07-31             1        0\n",
              "\n",
              "[730 rows x 3 columns]"
            ]
          },
          "metadata": {
            "tags": []
          },
          "execution_count": 53
        }
      ]
    },
    {
      "cell_type": "code",
      "metadata": {
        "id": "x6_8nfUTkywM"
      },
      "source": [
        "#휴일만 \r\n",
        "holidays = all_dates[all_dates['holyday']>0][['date', 'holyday']]\r\n",
        "holidays.columns = ['ds', 'holiday'] #columns 이름 변경\r\n",
        "#이 둘은 어디에 쓰이는지 아직 모르겠음\r\n",
        "holidays['lower_window'] = 0\r\n",
        "holidays['upper_window'] = 0 \r\n",
        "holidays.holiday = holidays.holiday.astype('str') #str형으로 변경"
      ],
      "execution_count": 54,
      "outputs": []
    },
    {
      "cell_type": "markdown",
      "metadata": {
        "id": "sVzUUmxOnMlc"
      },
      "source": [
        "#전처리"
      ]
    },
    {
      "cell_type": "code",
      "metadata": {
        "colab": {
          "base_uri": "https://localhost:8080/"
        },
        "id": "H57QuX4VnK-L",
        "outputId": "1c18c386-8728-465f-c7a0-323a226a382f"
      },
      "source": [
        "#store_id와 date가 같은 것들로 묶은 그룹에서 amount 값을 sum() 후 index를 reset\r\n",
        "#!!그냥 합산했을 때 음수가 발생하는 경우가 있음!!\r\n",
        "d_sum = test.groupby(['date', 'store_id'])['amount'].sum().reset_index() \r\n",
        "d_sum[d_sum['amount']<0].shape"
      ],
      "execution_count": 55,
      "outputs": [
        {
          "output_type": "execute_result",
          "data": {
            "text/plain": [
              "(49, 3)"
            ]
          },
          "metadata": {
            "tags": []
          },
          "execution_count": 55
        }
      ]
    },
    {
      "cell_type": "code",
      "metadata": {
        "colab": {
          "base_uri": "https://localhost:8080/"
        },
        "id": "ULoImWWfM7Lc",
        "outputId": "c7a8ad61-e9a7-4a3d-b741-bf73890b9d6d"
      },
      "source": [
        "test_sorted_by_values = test.sort_values(by=[ 'card_id', 'store_id', 'date','time']).reset_index(drop = True)\r\n",
        "minus_index = test_sorted_by_values[test_sorted_by_values['amount']<0].index\r\n",
        "minus_index.shape"
      ],
      "execution_count": 56,
      "outputs": [
        {
          "output_type": "execute_result",
          "data": {
            "text/plain": [
              "(7943,)"
            ]
          },
          "metadata": {
            "tags": []
          },
          "execution_count": 56
        }
      ]
    },
    {
      "cell_type": "code",
      "metadata": {
        "colab": {
          "base_uri": "https://localhost:8080/"
        },
        "id": "2Um3SsklTWvI",
        "outputId": "479c2e35-02f1-4593-f091-79192a70bd68"
      },
      "source": [
        "test.info()"
      ],
      "execution_count": 72,
      "outputs": [
        {
          "output_type": "stream",
          "text": [
            "<class 'pandas.core.frame.DataFrame'>\n",
            "RangeIndex: 473392 entries, 0 to 473391\n",
            "Data columns (total 8 columns):\n",
            " #   Column        Non-Null Count   Dtype  \n",
            "---  ------        --------------   -----  \n",
            " 0   store_id      473392 non-null  int64  \n",
            " 1   date          473392 non-null  object \n",
            " 2   time          473392 non-null  object \n",
            " 3   card_id       473392 non-null  object \n",
            " 4   amount        473392 non-null  int64  \n",
            " 5   installments  1779 non-null    float64\n",
            " 6   days_of_week  473392 non-null  int64  \n",
            " 7   holyday       473392 non-null  int64  \n",
            "dtypes: float64(1), int64(4), object(3)\n",
            "memory usage: 28.9+ MB\n"
          ],
          "name": "stdout"
        }
      ]
    },
    {
      "cell_type": "code",
      "metadata": {
        "colab": {
          "base_uri": "https://localhost:8080/"
        },
        "id": "ZvpCldXoQHuO",
        "outputId": "3ebdedce-ca9a-4c34-cb21-b285be30bd3d"
      },
      "source": [
        "test.loc[5]['amount']"
      ],
      "execution_count": 58,
      "outputs": [
        {
          "output_type": "execute_result",
          "data": {
            "text/plain": [
              "172"
            ]
          },
          "metadata": {
            "tags": []
          },
          "execution_count": 58
        }
      ]
    },
    {
      "cell_type": "code",
      "metadata": {
        "colab": {
          "base_uri": "https://localhost:8080/"
        },
        "id": "alpcIf9kUzJU",
        "outputId": "40d90ae4-cfa5-4021-9579-3def8f1cdc69"
      },
      "source": [
        "test.loc[5]['amount'] == test.loc[5]['amount']"
      ],
      "execution_count": 80,
      "outputs": [
        {
          "output_type": "execute_result",
          "data": {
            "text/plain": [
              "True"
            ]
          },
          "metadata": {
            "tags": []
          },
          "execution_count": 80
        }
      ]
    },
    {
      "cell_type": "code",
      "metadata": {
        "id": "bN-8g-HbWSvi"
      },
      "source": [
        "'''음수값 처리 조건 : 동일 store_id, card_id이어야하며 날짜는 minus보다 이전 날짜, 금액은 minus와 동일 금액\" '''\r\n",
        "def del_minus(df):\r\n",
        "  card_id_sort = df.sort_values(by=[ 'card_id', 'store_id', 'date','time']).reset_index(drop = True)\r\n",
        "  minus_index = card_id_sort[card_id_sort['amount']<0].index\r\n",
        "  for i in minus_index:\r\n",
        "    del_index = i - 1\r\n",
        "    while card_id_sort.iloc[minus_index].amount != card_id_sort.iloc[del_index].amount:\r\n",
        "      del_index = del_index - 1\r\n",
        "    print(card_id_sort.loc[del_index])\r\n",
        "    print(card_id_sort.loc[minus_index])\r\n",
        "    card_id_sort.loc[minus_index]['amount'] = 0\r\n",
        "    card_id_sort.loc[del_index]['amount'] = 0"
      ],
      "execution_count": 108,
      "outputs": []
    },
    {
      "cell_type": "code",
      "metadata": {
        "colab": {
          "base_uri": "https://localhost:8080/"
        },
        "id": "v1aVJ-2oYhjC",
        "outputId": "b2e4836f-8afa-456f-9034-d144a20bb0b1"
      },
      "source": [
        "test"
      ],
      "execution_count": 112,
      "outputs": [
        {
          "output_type": "execute_result",
          "data": {
            "text/plain": [
              "(473392, 8)"
            ]
          },
          "metadata": {
            "tags": []
          },
          "execution_count": 112
        }
      ]
    },
    {
      "cell_type": "code",
      "metadata": {
        "id": "XHlOTZigKLDt"
      },
      "source": [
        "'''음수값 처리 조건 : 동일 store_id, card_id이어야하며 날짜는 minus보다 이전 날짜, 금액은 minus와 동일 금액\" '''\r\n",
        "#현재 동일 금액으로 처리했을 때 찾지 못하는 값들이 존재하고 있음\r\n",
        "def del_minus(df):\r\n",
        "  card_id_sort = df.sort_values(by=[ 'card_id', 'store_id', 'date','time']).reset_index(drop = True)\r\n",
        "  minus_index = card_id_sort[card_id_sort['amount']<0].index\r\n",
        "\r\n",
        "  for i in minus_index:\r\n",
        "    minus_amount = card_id_sort.iloc[i].amount\r\n",
        "    range_df = card_id_sort[card_id_sort.index < i] #index 이전 df\r\n",
        "    same_df = range_df[range_df.amount.apply(lambda x : x == abs(minus_amount))] \r\n",
        "    #print(same_df)\r\n",
        "    result = same_df.tail(n=1)\r\n",
        "    #print(result.index, i)\r\n",
        "    card_id_sort = card_id_sort.drop(result.index) \r\n",
        "    card_id_sort = card_id_sort.drop(i) \r\n",
        "    #print(card_id_sort.shape)\r\n",
        "  \r\n",
        "  re_sort_df =  card_id_sort.sort_values(by=['store_id', 'date','time']).reset_index(drop = True)\r\n",
        "  return re_sort_df"
      ],
      "execution_count": 154,
      "outputs": []
    },
    {
      "cell_type": "code",
      "metadata": {
        "id": "JpCMHBjobSMc"
      },
      "source": [
        "new_test = del_minus(test)"
      ],
      "execution_count": null,
      "outputs": []
    },
    {
      "cell_type": "code",
      "metadata": {
        "colab": {
          "base_uri": "https://localhost:8080/",
          "height": 194
        },
        "id": "cJFtYbbCGLAL",
        "outputId": "7e3e19a3-d914-4d22-e2db-09d7ecb3e845"
      },
      "source": [
        ""
      ],
      "execution_count": 131,
      "outputs": [
        {
          "output_type": "execute_result",
          "data": {
            "text/html": [
              "<div>\n",
              "<style scoped>\n",
              "    .dataframe tbody tr th:only-of-type {\n",
              "        vertical-align: middle;\n",
              "    }\n",
              "\n",
              "    .dataframe tbody tr th {\n",
              "        vertical-align: top;\n",
              "    }\n",
              "\n",
              "    .dataframe thead th {\n",
              "        text-align: right;\n",
              "    }\n",
              "</style>\n",
              "<table border=\"1\" class=\"dataframe\">\n",
              "  <thead>\n",
              "    <tr style=\"text-align: right;\">\n",
              "      <th></th>\n",
              "      <th>date</th>\n",
              "      <th>store_id</th>\n",
              "      <th>amount</th>\n",
              "    </tr>\n",
              "  </thead>\n",
              "  <tbody>\n",
              "    <tr>\n",
              "      <th>0</th>\n",
              "      <td>2016-08-01</td>\n",
              "      <td>0</td>\n",
              "      <td>2106</td>\n",
              "    </tr>\n",
              "    <tr>\n",
              "      <th>1</th>\n",
              "      <td>2016-08-01</td>\n",
              "      <td>2</td>\n",
              "      <td>647</td>\n",
              "    </tr>\n",
              "    <tr>\n",
              "      <th>2</th>\n",
              "      <td>2016-08-01</td>\n",
              "      <td>3</td>\n",
              "      <td>199</td>\n",
              "    </tr>\n",
              "    <tr>\n",
              "      <th>3</th>\n",
              "      <td>2016-08-01</td>\n",
              "      <td>4</td>\n",
              "      <td>279</td>\n",
              "    </tr>\n",
              "    <tr>\n",
              "      <th>4</th>\n",
              "      <td>2016-08-01</td>\n",
              "      <td>6</td>\n",
              "      <td>718</td>\n",
              "    </tr>\n",
              "  </tbody>\n",
              "</table>\n",
              "</div>"
            ],
            "text/plain": [
              "         date  store_id  amount\n",
              "0  2016-08-01         0    2106\n",
              "1  2016-08-01         2     647\n",
              "2  2016-08-01         3     199\n",
              "3  2016-08-01         4     279\n",
              "4  2016-08-01         6     718"
            ]
          },
          "metadata": {
            "tags": []
          },
          "execution_count": 131
        }
      ]
    }
  ]
}