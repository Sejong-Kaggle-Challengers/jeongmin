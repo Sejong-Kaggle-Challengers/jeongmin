{
  "nbformat": 4,
  "nbformat_minor": 0,
  "metadata": {
    "colab": {
      "name": "Tabular Playground Series - LGBMClassifier",
      "provenance": [],
      "authorship_tag": "ABX9TyMeNjdlcj76QjsmfyGpGz94",
      "include_colab_link": true
    },
    "kernelspec": {
      "name": "python3",
      "display_name": "Python 3"
    }
  },
  "cells": [
    {
      "cell_type": "markdown",
      "metadata": {
        "id": "view-in-github",
        "colab_type": "text"
      },
      "source": [
        "<a href=\"https://colab.research.google.com/github/Sejong-Kaggle-Challengers/jeongmin/blob/main/Tabular_Playground_Series_LGBMClassifier.ipynb\" target=\"_parent\"><img src=\"https://colab.research.google.com/assets/colab-badge.svg\" alt=\"Open In Colab\"/></a>"
      ]
    },
    {
      "cell_type": "code",
      "metadata": {
        "colab": {
          "base_uri": "https://localhost:8080/"
        },
        "id": "VyZeo5-RXbG0",
        "outputId": "cbad1eba-898e-4c60-f789-1f991a5d111b"
      },
      "source": [
        "!pip uninstall -y kaggle\r\n",
        "!pip install --upgrade pip\r\n",
        "!pip install kaggle==1.5.6"
      ],
      "execution_count": 1,
      "outputs": [
        {
          "output_type": "stream",
          "text": [
            "Uninstalling kaggle-1.5.10:\n",
            "  Successfully uninstalled kaggle-1.5.10\n",
            "Collecting pip\n",
            "\u001b[?25l  Downloading https://files.pythonhosted.org/packages/fe/ef/60d7ba03b5c442309ef42e7d69959f73aacccd0d86008362a681c4698e83/pip-21.0.1-py3-none-any.whl (1.5MB)\n",
            "\u001b[K     |████████████████████████████████| 1.5MB 8.5MB/s \n",
            "\u001b[?25hInstalling collected packages: pip\n",
            "  Found existing installation: pip 19.3.1\n",
            "    Uninstalling pip-19.3.1:\n",
            "      Successfully uninstalled pip-19.3.1\n",
            "Successfully installed pip-21.0.1\n",
            "Collecting kaggle==1.5.6\n",
            "  Downloading kaggle-1.5.6.tar.gz (58 kB)\n",
            "\u001b[K     |████████████████████████████████| 58 kB 3.8 MB/s \n",
            "\u001b[?25hRequirement already satisfied: urllib3<1.25,>=1.21.1 in /usr/local/lib/python3.7/dist-packages (from kaggle==1.5.6) (1.24.3)\n",
            "Requirement already satisfied: six>=1.10 in /usr/local/lib/python3.7/dist-packages (from kaggle==1.5.6) (1.15.0)\n",
            "Requirement already satisfied: certifi in /usr/local/lib/python3.7/dist-packages (from kaggle==1.5.6) (2020.12.5)\n",
            "Requirement already satisfied: python-dateutil in /usr/local/lib/python3.7/dist-packages (from kaggle==1.5.6) (2.8.1)\n",
            "Requirement already satisfied: requests in /usr/local/lib/python3.7/dist-packages (from kaggle==1.5.6) (2.23.0)\n",
            "Requirement already satisfied: tqdm in /usr/local/lib/python3.7/dist-packages (from kaggle==1.5.6) (4.41.1)\n",
            "Requirement already satisfied: python-slugify in /usr/local/lib/python3.7/dist-packages (from kaggle==1.5.6) (4.0.1)\n",
            "Requirement already satisfied: text-unidecode>=1.3 in /usr/local/lib/python3.7/dist-packages (from python-slugify->kaggle==1.5.6) (1.3)\n",
            "Requirement already satisfied: idna<3,>=2.5 in /usr/local/lib/python3.7/dist-packages (from requests->kaggle==1.5.6) (2.10)\n",
            "Requirement already satisfied: chardet<4,>=3.0.2 in /usr/local/lib/python3.7/dist-packages (from requests->kaggle==1.5.6) (3.0.4)\n",
            "Building wheels for collected packages: kaggle\n",
            "  Building wheel for kaggle (setup.py) ... \u001b[?25l\u001b[?25hdone\n",
            "  Created wheel for kaggle: filename=kaggle-1.5.6-py3-none-any.whl size=72859 sha256=cfc67fe508c8ba3a287adc0037da4eb4fdf466a92db66a2b2d29ddbe43eac8b9\n",
            "  Stored in directory: /root/.cache/pip/wheels/aa/e7/e7/eb3c3d514c33294d77ddd5a856bdd58dc9c1fabbed59a02a2b\n",
            "Successfully built kaggle\n",
            "Installing collected packages: kaggle\n",
            "Successfully installed kaggle-1.5.6\n"
          ],
          "name": "stdout"
        }
      ]
    },
    {
      "cell_type": "code",
      "metadata": {
        "colab": {
          "base_uri": "https://localhost:8080/"
        },
        "id": "ky0t12ffYNt6",
        "outputId": "63cc6458-4fed-4503-8443-61968e404dee"
      },
      "source": [
        "!mkdir -p ~/.kaggle\r\n",
        "!cp kaggle.json ~/.kaggle\r\n",
        "!chmod 600 ~/.kaggle/kaggle.json\r\n",
        "!kaggle -v"
      ],
      "execution_count": 2,
      "outputs": [
        {
          "output_type": "stream",
          "text": [
            "Kaggle API 1.5.6\n"
          ],
          "name": "stdout"
        }
      ]
    },
    {
      "cell_type": "code",
      "metadata": {
        "colab": {
          "base_uri": "https://localhost:8080/"
        },
        "id": "J7wMLV6MYcCB",
        "outputId": "0169fb53-a033-486a-8c11-2ee2f6785609"
      },
      "source": [
        "!kaggle competitions download -c tabular-playground-series-mar-2021"
      ],
      "execution_count": 3,
      "outputs": [
        {
          "output_type": "stream",
          "text": [
            "Downloading tabular-playground-series-mar-2021.zip to /content\n",
            " 42% 23.0M/54.9M [00:00<00:00, 239MB/s]\n",
            "100% 54.9M/54.9M [00:00<00:00, 295MB/s]\n"
          ],
          "name": "stdout"
        }
      ]
    },
    {
      "cell_type": "code",
      "metadata": {
        "colab": {
          "base_uri": "https://localhost:8080/"
        },
        "id": "Gj6LOBdCYew3",
        "outputId": "24f158ab-12df-47d6-90be-7f0a30b5a901"
      },
      "source": [
        "!unzip tabular-playground-series-mar-2021.zip"
      ],
      "execution_count": 4,
      "outputs": [
        {
          "output_type": "stream",
          "text": [
            "Archive:  tabular-playground-series-mar-2021.zip\n",
            "  inflating: sample_submission.csv   \n",
            "  inflating: test.csv                \n",
            "  inflating: train.csv               \n"
          ],
          "name": "stdout"
        }
      ]
    },
    {
      "cell_type": "code",
      "metadata": {
        "id": "JJr4Jjz_YlcV"
      },
      "source": [
        "import numpy as np\r\n",
        "import pandas as pd"
      ],
      "execution_count": 5,
      "outputs": []
    },
    {
      "cell_type": "code",
      "metadata": {
        "colab": {
          "base_uri": "https://localhost:8080/",
          "height": 422
        },
        "id": "sQ1AF5kGYwdQ",
        "outputId": "5dbf09df-e9e9-4909-9c8c-9b6cad8fd0cb"
      },
      "source": [
        "train_df = pd.read_csv(\"train.csv\")\r\n",
        "test_df = pd.read_csv(\"test.csv\")\r\n",
        "train_df #300000 * 32"
      ],
      "execution_count": 6,
      "outputs": [
        {
          "output_type": "execute_result",
          "data": {
            "text/html": [
              "<div>\n",
              "<style scoped>\n",
              "    .dataframe tbody tr th:only-of-type {\n",
              "        vertical-align: middle;\n",
              "    }\n",
              "\n",
              "    .dataframe tbody tr th {\n",
              "        vertical-align: top;\n",
              "    }\n",
              "\n",
              "    .dataframe thead th {\n",
              "        text-align: right;\n",
              "    }\n",
              "</style>\n",
              "<table border=\"1\" class=\"dataframe\">\n",
              "  <thead>\n",
              "    <tr style=\"text-align: right;\">\n",
              "      <th></th>\n",
              "      <th>id</th>\n",
              "      <th>cat0</th>\n",
              "      <th>cat1</th>\n",
              "      <th>cat2</th>\n",
              "      <th>cat3</th>\n",
              "      <th>cat4</th>\n",
              "      <th>cat5</th>\n",
              "      <th>cat6</th>\n",
              "      <th>cat7</th>\n",
              "      <th>cat8</th>\n",
              "      <th>cat9</th>\n",
              "      <th>cat10</th>\n",
              "      <th>cat11</th>\n",
              "      <th>cat12</th>\n",
              "      <th>cat13</th>\n",
              "      <th>cat14</th>\n",
              "      <th>cat15</th>\n",
              "      <th>cat16</th>\n",
              "      <th>cat17</th>\n",
              "      <th>cat18</th>\n",
              "      <th>cont0</th>\n",
              "      <th>cont1</th>\n",
              "      <th>cont2</th>\n",
              "      <th>cont3</th>\n",
              "      <th>cont4</th>\n",
              "      <th>cont5</th>\n",
              "      <th>cont6</th>\n",
              "      <th>cont7</th>\n",
              "      <th>cont8</th>\n",
              "      <th>cont9</th>\n",
              "      <th>cont10</th>\n",
              "      <th>target</th>\n",
              "    </tr>\n",
              "  </thead>\n",
              "  <tbody>\n",
              "    <tr>\n",
              "      <th>0</th>\n",
              "      <td>0</td>\n",
              "      <td>A</td>\n",
              "      <td>I</td>\n",
              "      <td>A</td>\n",
              "      <td>B</td>\n",
              "      <td>B</td>\n",
              "      <td>BI</td>\n",
              "      <td>A</td>\n",
              "      <td>S</td>\n",
              "      <td>Q</td>\n",
              "      <td>A</td>\n",
              "      <td>LO</td>\n",
              "      <td>A</td>\n",
              "      <td>A</td>\n",
              "      <td>A</td>\n",
              "      <td>A</td>\n",
              "      <td>B</td>\n",
              "      <td>D</td>\n",
              "      <td>D</td>\n",
              "      <td>B</td>\n",
              "      <td>0.629858</td>\n",
              "      <td>0.855349</td>\n",
              "      <td>0.759439</td>\n",
              "      <td>0.795549</td>\n",
              "      <td>0.681917</td>\n",
              "      <td>0.621672</td>\n",
              "      <td>0.592184</td>\n",
              "      <td>0.791921</td>\n",
              "      <td>0.815254</td>\n",
              "      <td>0.965006</td>\n",
              "      <td>0.665915</td>\n",
              "      <td>0</td>\n",
              "    </tr>\n",
              "    <tr>\n",
              "      <th>1</th>\n",
              "      <td>1</td>\n",
              "      <td>A</td>\n",
              "      <td>I</td>\n",
              "      <td>A</td>\n",
              "      <td>A</td>\n",
              "      <td>E</td>\n",
              "      <td>BI</td>\n",
              "      <td>K</td>\n",
              "      <td>W</td>\n",
              "      <td>AD</td>\n",
              "      <td>F</td>\n",
              "      <td>HJ</td>\n",
              "      <td>A</td>\n",
              "      <td>B</td>\n",
              "      <td>A</td>\n",
              "      <td>B</td>\n",
              "      <td>D</td>\n",
              "      <td>B</td>\n",
              "      <td>D</td>\n",
              "      <td>B</td>\n",
              "      <td>0.370727</td>\n",
              "      <td>0.328929</td>\n",
              "      <td>0.386385</td>\n",
              "      <td>0.541366</td>\n",
              "      <td>0.388982</td>\n",
              "      <td>0.357778</td>\n",
              "      <td>0.600044</td>\n",
              "      <td>0.408701</td>\n",
              "      <td>0.399353</td>\n",
              "      <td>0.927406</td>\n",
              "      <td>0.493729</td>\n",
              "      <td>0</td>\n",
              "    </tr>\n",
              "    <tr>\n",
              "      <th>2</th>\n",
              "      <td>2</td>\n",
              "      <td>A</td>\n",
              "      <td>K</td>\n",
              "      <td>A</td>\n",
              "      <td>A</td>\n",
              "      <td>E</td>\n",
              "      <td>BI</td>\n",
              "      <td>A</td>\n",
              "      <td>E</td>\n",
              "      <td>BM</td>\n",
              "      <td>L</td>\n",
              "      <td>DJ</td>\n",
              "      <td>A</td>\n",
              "      <td>B</td>\n",
              "      <td>A</td>\n",
              "      <td>A</td>\n",
              "      <td>B</td>\n",
              "      <td>D</td>\n",
              "      <td>D</td>\n",
              "      <td>B</td>\n",
              "      <td>0.502272</td>\n",
              "      <td>0.322749</td>\n",
              "      <td>0.343255</td>\n",
              "      <td>0.616352</td>\n",
              "      <td>0.793687</td>\n",
              "      <td>0.552877</td>\n",
              "      <td>0.352113</td>\n",
              "      <td>0.388835</td>\n",
              "      <td>0.412303</td>\n",
              "      <td>0.292696</td>\n",
              "      <td>0.549452</td>\n",
              "      <td>0</td>\n",
              "    </tr>\n",
              "    <tr>\n",
              "      <th>3</th>\n",
              "      <td>3</td>\n",
              "      <td>A</td>\n",
              "      <td>K</td>\n",
              "      <td>A</td>\n",
              "      <td>C</td>\n",
              "      <td>E</td>\n",
              "      <td>BI</td>\n",
              "      <td>A</td>\n",
              "      <td>Y</td>\n",
              "      <td>AD</td>\n",
              "      <td>F</td>\n",
              "      <td>KV</td>\n",
              "      <td>A</td>\n",
              "      <td>A</td>\n",
              "      <td>A</td>\n",
              "      <td>A</td>\n",
              "      <td>B</td>\n",
              "      <td>D</td>\n",
              "      <td>D</td>\n",
              "      <td>B</td>\n",
              "      <td>0.934242</td>\n",
              "      <td>0.707663</td>\n",
              "      <td>0.831147</td>\n",
              "      <td>0.807807</td>\n",
              "      <td>0.800032</td>\n",
              "      <td>0.619147</td>\n",
              "      <td>0.221789</td>\n",
              "      <td>0.897617</td>\n",
              "      <td>0.633669</td>\n",
              "      <td>0.760318</td>\n",
              "      <td>0.934242</td>\n",
              "      <td>0</td>\n",
              "    </tr>\n",
              "    <tr>\n",
              "      <th>4</th>\n",
              "      <td>4</td>\n",
              "      <td>A</td>\n",
              "      <td>I</td>\n",
              "      <td>G</td>\n",
              "      <td>B</td>\n",
              "      <td>E</td>\n",
              "      <td>BI</td>\n",
              "      <td>C</td>\n",
              "      <td>G</td>\n",
              "      <td>Q</td>\n",
              "      <td>A</td>\n",
              "      <td>DP</td>\n",
              "      <td>A</td>\n",
              "      <td>A</td>\n",
              "      <td>A</td>\n",
              "      <td>B</td>\n",
              "      <td>B</td>\n",
              "      <td>B</td>\n",
              "      <td>D</td>\n",
              "      <td>B</td>\n",
              "      <td>0.254427</td>\n",
              "      <td>0.274514</td>\n",
              "      <td>0.338818</td>\n",
              "      <td>0.277308</td>\n",
              "      <td>0.610578</td>\n",
              "      <td>0.128291</td>\n",
              "      <td>0.578764</td>\n",
              "      <td>0.279167</td>\n",
              "      <td>0.351103</td>\n",
              "      <td>0.357084</td>\n",
              "      <td>0.328960</td>\n",
              "      <td>1</td>\n",
              "    </tr>\n",
              "    <tr>\n",
              "      <th>...</th>\n",
              "      <td>...</td>\n",
              "      <td>...</td>\n",
              "      <td>...</td>\n",
              "      <td>...</td>\n",
              "      <td>...</td>\n",
              "      <td>...</td>\n",
              "      <td>...</td>\n",
              "      <td>...</td>\n",
              "      <td>...</td>\n",
              "      <td>...</td>\n",
              "      <td>...</td>\n",
              "      <td>...</td>\n",
              "      <td>...</td>\n",
              "      <td>...</td>\n",
              "      <td>...</td>\n",
              "      <td>...</td>\n",
              "      <td>...</td>\n",
              "      <td>...</td>\n",
              "      <td>...</td>\n",
              "      <td>...</td>\n",
              "      <td>...</td>\n",
              "      <td>...</td>\n",
              "      <td>...</td>\n",
              "      <td>...</td>\n",
              "      <td>...</td>\n",
              "      <td>...</td>\n",
              "      <td>...</td>\n",
              "      <td>...</td>\n",
              "      <td>...</td>\n",
              "      <td>...</td>\n",
              "      <td>...</td>\n",
              "      <td>...</td>\n",
              "    </tr>\n",
              "    <tr>\n",
              "      <th>299995</th>\n",
              "      <td>499993</td>\n",
              "      <td>A</td>\n",
              "      <td>N</td>\n",
              "      <td>F</td>\n",
              "      <td>A</td>\n",
              "      <td>E</td>\n",
              "      <td>BU</td>\n",
              "      <td>A</td>\n",
              "      <td>AS</td>\n",
              "      <td>K</td>\n",
              "      <td>A</td>\n",
              "      <td>HG</td>\n",
              "      <td>A</td>\n",
              "      <td>A</td>\n",
              "      <td>A</td>\n",
              "      <td>B</td>\n",
              "      <td>D</td>\n",
              "      <td>B</td>\n",
              "      <td>D</td>\n",
              "      <td>B</td>\n",
              "      <td>0.681700</td>\n",
              "      <td>0.500730</td>\n",
              "      <td>0.662428</td>\n",
              "      <td>0.671927</td>\n",
              "      <td>0.390566</td>\n",
              "      <td>0.145840</td>\n",
              "      <td>0.262767</td>\n",
              "      <td>0.514248</td>\n",
              "      <td>0.519340</td>\n",
              "      <td>0.617436</td>\n",
              "      <td>0.688007</td>\n",
              "      <td>0</td>\n",
              "    </tr>\n",
              "    <tr>\n",
              "      <th>299996</th>\n",
              "      <td>499995</td>\n",
              "      <td>A</td>\n",
              "      <td>K</td>\n",
              "      <td>A</td>\n",
              "      <td>A</td>\n",
              "      <td>G</td>\n",
              "      <td>BI</td>\n",
              "      <td>A</td>\n",
              "      <td>K</td>\n",
              "      <td>AE</td>\n",
              "      <td>E</td>\n",
              "      <td>HK</td>\n",
              "      <td>A</td>\n",
              "      <td>B</td>\n",
              "      <td>A</td>\n",
              "      <td>B</td>\n",
              "      <td>B</td>\n",
              "      <td>D</td>\n",
              "      <td>D</td>\n",
              "      <td>B</td>\n",
              "      <td>0.489226</td>\n",
              "      <td>0.790664</td>\n",
              "      <td>0.821657</td>\n",
              "      <td>0.620356</td>\n",
              "      <td>0.384891</td>\n",
              "      <td>0.735879</td>\n",
              "      <td>0.547731</td>\n",
              "      <td>0.726653</td>\n",
              "      <td>0.470575</td>\n",
              "      <td>0.275743</td>\n",
              "      <td>0.638939</td>\n",
              "      <td>0</td>\n",
              "    </tr>\n",
              "    <tr>\n",
              "      <th>299997</th>\n",
              "      <td>499996</td>\n",
              "      <td>A</td>\n",
              "      <td>G</td>\n",
              "      <td>M</td>\n",
              "      <td>A</td>\n",
              "      <td>H</td>\n",
              "      <td>BI</td>\n",
              "      <td>C</td>\n",
              "      <td>L</td>\n",
              "      <td>F</td>\n",
              "      <td>A</td>\n",
              "      <td>HC</td>\n",
              "      <td>B</td>\n",
              "      <td>A</td>\n",
              "      <td>A</td>\n",
              "      <td>B</td>\n",
              "      <td>D</td>\n",
              "      <td>B</td>\n",
              "      <td>D</td>\n",
              "      <td>D</td>\n",
              "      <td>0.487882</td>\n",
              "      <td>0.522347</td>\n",
              "      <td>0.407037</td>\n",
              "      <td>0.232436</td>\n",
              "      <td>0.832482</td>\n",
              "      <td>0.810663</td>\n",
              "      <td>0.596939</td>\n",
              "      <td>0.308821</td>\n",
              "      <td>0.373997</td>\n",
              "      <td>0.518024</td>\n",
              "      <td>0.452144</td>\n",
              "      <td>1</td>\n",
              "    </tr>\n",
              "    <tr>\n",
              "      <th>299998</th>\n",
              "      <td>499997</td>\n",
              "      <td>B</td>\n",
              "      <td>H</td>\n",
              "      <td>A</td>\n",
              "      <td>D</td>\n",
              "      <td>B</td>\n",
              "      <td>BI</td>\n",
              "      <td>A</td>\n",
              "      <td>AA</td>\n",
              "      <td>AX</td>\n",
              "      <td>A</td>\n",
              "      <td>BF</td>\n",
              "      <td>A</td>\n",
              "      <td>A</td>\n",
              "      <td>A</td>\n",
              "      <td>A</td>\n",
              "      <td>B</td>\n",
              "      <td>A</td>\n",
              "      <td>D</td>\n",
              "      <td>A</td>\n",
              "      <td>0.331900</td>\n",
              "      <td>0.812891</td>\n",
              "      <td>0.808045</td>\n",
              "      <td>0.630708</td>\n",
              "      <td>0.346898</td>\n",
              "      <td>0.735147</td>\n",
              "      <td>0.563488</td>\n",
              "      <td>0.609836</td>\n",
              "      <td>0.680430</td>\n",
              "      <td>0.318453</td>\n",
              "      <td>0.335822</td>\n",
              "      <td>0</td>\n",
              "    </tr>\n",
              "    <tr>\n",
              "      <th>299999</th>\n",
              "      <td>499999</td>\n",
              "      <td>A</td>\n",
              "      <td>F</td>\n",
              "      <td>C</td>\n",
              "      <td>A</td>\n",
              "      <td>E</td>\n",
              "      <td>BI</td>\n",
              "      <td>C</td>\n",
              "      <td>AV</td>\n",
              "      <td>S</td>\n",
              "      <td>A</td>\n",
              "      <td>LM</td>\n",
              "      <td>A</td>\n",
              "      <td>A</td>\n",
              "      <td>A</td>\n",
              "      <td>A</td>\n",
              "      <td>B</td>\n",
              "      <td>D</td>\n",
              "      <td>D</td>\n",
              "      <td>B</td>\n",
              "      <td>0.822600</td>\n",
              "      <td>0.819735</td>\n",
              "      <td>0.775451</td>\n",
              "      <td>0.848696</td>\n",
              "      <td>0.819377</td>\n",
              "      <td>0.355467</td>\n",
              "      <td>0.218153</td>\n",
              "      <td>0.968856</td>\n",
              "      <td>0.823655</td>\n",
              "      <td>0.330515</td>\n",
              "      <td>0.972569</td>\n",
              "      <td>0</td>\n",
              "    </tr>\n",
              "  </tbody>\n",
              "</table>\n",
              "<p>300000 rows × 32 columns</p>\n",
              "</div>"
            ],
            "text/plain": [
              "            id cat0 cat1 cat2  ...     cont8     cont9    cont10 target\n",
              "0            0    A    I    A  ...  0.815254  0.965006  0.665915      0\n",
              "1            1    A    I    A  ...  0.399353  0.927406  0.493729      0\n",
              "2            2    A    K    A  ...  0.412303  0.292696  0.549452      0\n",
              "3            3    A    K    A  ...  0.633669  0.760318  0.934242      0\n",
              "4            4    A    I    G  ...  0.351103  0.357084  0.328960      1\n",
              "...        ...  ...  ...  ...  ...       ...       ...       ...    ...\n",
              "299995  499993    A    N    F  ...  0.519340  0.617436  0.688007      0\n",
              "299996  499995    A    K    A  ...  0.470575  0.275743  0.638939      0\n",
              "299997  499996    A    G    M  ...  0.373997  0.518024  0.452144      1\n",
              "299998  499997    B    H    A  ...  0.680430  0.318453  0.335822      0\n",
              "299999  499999    A    F    C  ...  0.823655  0.330515  0.972569      0\n",
              "\n",
              "[300000 rows x 32 columns]"
            ]
          },
          "metadata": {
            "tags": []
          },
          "execution_count": 6
        }
      ]
    },
    {
      "cell_type": "code",
      "metadata": {
        "colab": {
          "base_uri": "https://localhost:8080/",
          "height": 285
        },
        "id": "gmX408hHxtbe",
        "outputId": "fea0edfb-7381-4768-9835-532d90d1dd30"
      },
      "source": [
        "import seaborn as sns\r\n",
        "sns.set_theme(style=\"darkgrid\")\r\n",
        "ax = sns.countplot(x=\"cat0\", data=train_df)"
      ],
      "execution_count": null,
      "outputs": [
        {
          "output_type": "display_data",
          "data": {
            "image/png": "[encoded data removed]",
            "text/plain": [
              "<Figure size 432x288 with 1 Axes>"
            ]
          },
          "metadata": {
            "tags": []
          }
        }
      ]
    },
    {
      "cell_type": "code",
      "metadata": {
        "colab": {
          "base_uri": "https://localhost:8080/"
        },
        "id": "9MooLL6hxX0A",
        "outputId": "307ec67e-1473-478e-b0cd-a7c45a9281da"
      },
      "source": [
        "train_df.cat0.unique()"
      ],
      "execution_count": null,
      "outputs": [
        {
          "output_type": "execute_result",
          "data": {
            "text/plain": [
              "array(['A', 'B'], dtype=object)"
            ]
          },
          "metadata": {
            "tags": []
          },
          "execution_count": 10
        }
      ]
    },
    {
      "cell_type": "code",
      "metadata": {
        "colab": {
          "base_uri": "https://localhost:8080/",
          "height": 285
        },
        "id": "PoeP8z35x2Kz",
        "outputId": "b1e30b50-6011-44cb-c23d-3248a4f79714"
      },
      "source": [
        "import seaborn as sns\r\n",
        "sns.set_theme(style=\"darkgrid\")\r\n",
        "ax = sns.countplot(x=\"cat1\", data=train_df)"
      ],
      "execution_count": null,
      "outputs": [
        {
          "output_type": "display_data",
          "data": {
            "image/png": "[encoded data removed]",
            "text/plain": [
              "<Figure size 432x288 with 1 Axes>"
            ]
          },
          "metadata": {
            "tags": []
          }
        }
      ]
    },
    {
      "cell_type": "code",
      "metadata": {
        "colab": {
          "base_uri": "https://localhost:8080/",
          "height": 285
        },
        "id": "5ZKs5Xfqx7A4",
        "outputId": "7c98be4b-e4c7-4386-debd-95d80f6c2115"
      },
      "source": [
        "import seaborn as sns\r\n",
        "sns.set_theme(style=\"darkgrid\")\r\n",
        "ax = sns.countplot(x=\"cat2\", data=train_df)"
      ],
      "execution_count": null,
      "outputs": [
        {
          "output_type": "display_data",
          "data": {
            "image/png": "[encoded data removed]",
            "text/plain": [
              "<Figure size 432x288 with 1 Axes>"
            ]
          },
          "metadata": {
            "tags": []
          }
        }
      ]
    },
    {
      "cell_type": "code",
      "metadata": {
        "colab": {
          "base_uri": "https://localhost:8080/",
          "height": 285
        },
        "id": "4B5CoBqex_BN",
        "outputId": "52e68149-508d-4f3b-83d5-f14a933af9a0"
      },
      "source": [
        "import seaborn as sns\r\n",
        "sns.set_theme(style=\"darkgrid\")\r\n",
        "ax = sns.countplot(x=\"cat3\", data=train_df)"
      ],
      "execution_count": null,
      "outputs": [
        {
          "output_type": "display_data",
          "data": {
            "image/png": "[encoded data removed]",
            "text/plain": [
              "<Figure size 432x288 with 1 Axes>"
            ]
          },
          "metadata": {
            "tags": []
          }
        }
      ]
    },
    {
      "cell_type": "code",
      "metadata": {
        "colab": {
          "base_uri": "https://localhost:8080/",
          "height": 285
        },
        "id": "qkapDZIVx9EK",
        "outputId": "c97e0ced-1359-4339-e407-499028d7baaa"
      },
      "source": [
        "import seaborn as sns\r\n",
        "sns.set_theme(style=\"darkgrid\")\r\n",
        "ax = sns.countplot(x=\"cat4\", data=train_df)"
      ],
      "execution_count": null,
      "outputs": [
        {
          "output_type": "display_data",
          "data": {
            "image/png": "[encoded data removed]",
            "text/plain": [
              "<Figure size 432x288 with 1 Axes>"
            ]
          },
          "metadata": {
            "tags": []
          }
        }
      ]
    },
    {
      "cell_type": "code",
      "metadata": {
        "colab": {
          "base_uri": "https://localhost:8080/",
          "height": 288
        },
        "id": "oasYzr3iyC0V",
        "outputId": "33f5be54-85bf-411d-9a56-ae87616bf666"
      },
      "source": [
        "import seaborn as sns\r\n",
        "sns.set_theme(style=\"darkgrid\")\r\n",
        "ax = sns.countplot(x=\"cat5\", data=train_df)"
      ],
      "execution_count": null,
      "outputs": [
        {
          "output_type": "display_data",
          "data": {
            "image/png": "[encoded data removed]",
            "text/plain": [
              "<Figure size 432x288 with 1 Axes>"
            ]
          },
          "metadata": {
            "tags": []
          }
        }
      ]
    },
    {
      "cell_type": "code",
      "metadata": {
        "colab": {
          "base_uri": "https://localhost:8080/",
          "height": 285
        },
        "id": "XGCTuadpyFjl",
        "outputId": "2899b3d8-7697-4fb5-cac8-d76f830f11f2"
      },
      "source": [
        "import seaborn as sns\r\n",
        "sns.set_theme(style=\"darkgrid\")\r\n",
        "ax = sns.countplot(x=\"cat6\", data=train_df)"
      ],
      "execution_count": null,
      "outputs": [
        {
          "output_type": "display_data",
          "data": {
            "image/png": "[encoded data removed]",
            "text/plain": [
              "<Figure size 432x288 with 1 Axes>"
            ]
          },
          "metadata": {
            "tags": []
          }
        }
      ]
    },
    {
      "cell_type": "code",
      "metadata": {
        "colab": {
          "base_uri": "https://localhost:8080/",
          "height": 285
        },
        "id": "1CvtJJh6yHwq",
        "outputId": "a0925f51-cd13-477c-c99e-619078b2eea8"
      },
      "source": [
        "import seaborn as sns\r\n",
        "sns.set_theme(style=\"darkgrid\")\r\n",
        "ax = sns.countplot(x=\"cat7\", data=train_df)"
      ],
      "execution_count": null,
      "outputs": [
        {
          "output_type": "display_data",
          "data": {
            "image/png": "[encoded data removed]",
            "text/plain": [
              "<Figure size 432x288 with 1 Axes>"
            ]
          },
          "metadata": {
            "tags": []
          }
        }
      ]
    },
    {
      "cell_type": "code",
      "metadata": {
        "colab": {
          "base_uri": "https://localhost:8080/",
          "height": 285
        },
        "id": "Au1GovcPyJsE",
        "outputId": "2f4c2db7-6f14-4073-c126-7071cc11d334"
      },
      "source": [
        "import seaborn as sns\r\n",
        "sns.set_theme(style=\"darkgrid\")\r\n",
        "ax = sns.countplot(x=\"cat8\", data=train_df)"
      ],
      "execution_count": null,
      "outputs": [
        {
          "output_type": "display_data",
          "data": {
            "image/png": "[encoded data removed]",
            "text/plain": [
              "<Figure size 432x288 with 1 Axes>"
            ]
          },
          "metadata": {
            "tags": []
          }
        }
      ]
    },
    {
      "cell_type": "code",
      "metadata": {
        "colab": {
          "base_uri": "https://localhost:8080/",
          "height": 285
        },
        "id": "yLcf_J95yLgb",
        "outputId": "8c32efe9-634e-4008-d632-49579602bdcd"
      },
      "source": [
        "import seaborn as sns\r\n",
        "sns.set_theme(style=\"darkgrid\")\r\n",
        "ax = sns.countplot(x=\"cat9\", data=train_df)"
      ],
      "execution_count": null,
      "outputs": [
        {
          "output_type": "display_data",
          "data": {
            "image/png": "[encoded data removed]",
            "text/plain": [
              "<Figure size 432x288 with 1 Axes>"
            ]
          },
          "metadata": {
            "tags": []
          }
        }
      ]
    },
    {
      "cell_type": "code",
      "metadata": {
        "colab": {
          "base_uri": "https://localhost:8080/",
          "height": 285
        },
        "id": "KMSpqPxXyNI9",
        "outputId": "0adc8b92-859a-401a-8b35-87ce869a60a4"
      },
      "source": [
        "import seaborn as sns\r\n",
        "sns.set_theme(style=\"darkgrid\")\r\n",
        "ax = sns.countplot(x=\"cat10\", data=train_df)"
      ],
      "execution_count": null,
      "outputs": [
        {
          "output_type": "display_data",
          "data": {
            "image/png": "[encoded data removed]",
            "text/plain": [
              "<Figure size 432x288 with 1 Axes>"
            ]
          },
          "metadata": {
            "tags": []
          }
        }
      ]
    },
    {
      "cell_type": "code",
      "metadata": {
        "colab": {
          "base_uri": "https://localhost:8080/"
        },
        "id": "y_Gex2e1xeiQ",
        "outputId": "b990b9c9-2adb-4a08-feb9-0ff98fe2439c"
      },
      "source": [
        "train_df.cat10.unique()"
      ],
      "execution_count": null,
      "outputs": [
        {
          "output_type": "execute_result",
          "data": {
            "text/plain": [
              "array(['LO', 'HJ', 'DJ', 'KV', 'DP', 'GE', 'HQ', 'HC', 'EK', 'GS', 'HG',\n",
              "       'BY', 'HX', 'JK', 'FJ', 'LM', 'HK', 'MD', 'IG', 'JG', 'AN', 'AD',\n",
              "       'MC', 'KW', 'CK', 'LF', 'CS', 'GK', 'DC', 'LB', 'FM', 'IH', 'LN',\n",
              "       'IK', 'DF', 'IB', 'CB', 'LY', 'JW', 'FI', 'CR', 'IE', 'LE', 'HB',\n",
              "       'HV', 'LG', 'BG', 'KP', 'LI', 'HL', 'BF', 'LU', 'O', 'GI', 'DQ',\n",
              "       'IR', 'DV', 'HA', 'KB', 'FP', 'AT', 'IF', 'HN', 'GC', 'C', 'KC',\n",
              "       'G', 'JA', 'CU', 'BC', 'AB', 'KF', 'MB', 'HE', 'BL', 'FQ', 'IA',\n",
              "       'MJ', 'FO', 'V', 'JT', 'AU', 'IO', 'GQ', 'CC', 'JR', 'BM', 'HH',\n",
              "       'AV', 'GT', 'I', 'IU', 'JN', 'EV', 'MV', 'EQ', 'LW', 'FN', 'IT',\n",
              "       'AA', 'DK', 'IJ', 'GU', 'P', 'JH', 'CM', 'GA', 'R', 'LX', 'IX',\n",
              "       'DY', 'D', 'FL', 'CP', 'GL', 'DI', 'CD', 'IV', 'FS', 'FR', 'J',\n",
              "       'MP', 'MH', 'EL', 'JD', 'AP', 'AE', 'F', 'LC', 'BP', 'BI', 'MF',\n",
              "       'DO', 'MG', 'MT', 'LD', 'CW', 'KS', 'BV', 'JV', 'BB', 'AM', 'KX',\n",
              "       'FK', 'AH', 'LV', 'W', 'DU', 'FB', 'JX', 'KA', 'CO', 'AR', 'KR',\n",
              "       'JI', 'T', 'JP', 'LQ', 'FX', 'FD', 'EY', 'Y', 'JO', 'EC', 'HM',\n",
              "       'AC', 'DW', 'HU', 'FH', 'AY', 'AL', 'GD', 'GB', 'DS', 'FT', 'KH',\n",
              "       'CG', 'JB', 'E', 'CN', 'BT', 'X', 'BX', 'HW', 'EI', 'ID', 'KT',\n",
              "       'GR', 'L', 'KG', 'EA', 'HO', 'GX', 'K', 'AS', 'DM', 'AK', 'FC',\n",
              "       'MS', 'HR', 'EU', 'ES', 'JY', 'HP', 'KL', 'FE', 'CY', 'EO', 'KJ',\n",
              "       'CJ', 'CI', 'JL', 'IC', 'S', 'DH', 'GN', 'BS', 'AG', 'M', 'EW',\n",
              "       'FA', 'LJ', 'GJ', 'KQ', 'HF', 'MR', 'BQ', 'ED', 'FG', 'LL', 'EG',\n",
              "       'HY', 'EH', 'GW', 'BD', 'IQ', 'Q', 'DA', 'DD', 'GM', 'KN', 'MQ',\n",
              "       'GY', 'KD', 'JJ', 'CL', 'IY', 'KU', 'CT', 'KK', 'DN', 'BO', 'IP',\n",
              "       'LH', 'IM', 'DE', 'ME', 'EE', 'LT', 'LR', 'MI', 'CF', 'DR', 'EB',\n",
              "       'KI', 'DX', 'DL', 'MW', 'FF', 'EF', 'EP', 'MU', 'MA', 'GG', 'CQ',\n",
              "       'DT', 'FV', 'CH', 'AF', 'AJ', 'IN', 'JC', 'EN', 'JU', 'JE', 'ML',\n",
              "       'AW', 'HI', 'MO', 'GF', 'MK', 'GH', 'FW', 'GV', 'JF', 'BA', 'LK',\n",
              "       'IL', 'CX'], dtype=object)"
            ]
          },
          "metadata": {
            "tags": []
          },
          "execution_count": 23
        }
      ]
    },
    {
      "cell_type": "code",
      "metadata": {
        "colab": {
          "base_uri": "https://localhost:8080/",
          "height": 540
        },
        "id": "mK-f8_l3ykPc",
        "outputId": "507f8a92-d6fa-4ccf-fc5a-da0792f57f8b"
      },
      "source": [
        "import matplotlib.pyplot as plt\r\n",
        "\r\n",
        "corr = train_df.corr()\r\n",
        "\r\n",
        "#삼각형 마스크를 만든다.(위쪽 삼각형에 True, 아래 삼각형에 False)\r\n",
        "mask = np.zeros_like(corr, dtype = np.bool)\r\n",
        "mask[np.triu_indices_from(mask)] = True\r\n",
        "\r\n",
        "#Set up the matplotlib figure\r\n",
        "f, ax = plt.subplots(figsize=(11, 9))\r\n",
        "\r\n",
        "# Generate a custom diverging colormap\r\n",
        "cmap = sns.diverging_palette(220, 10, as_cmap=True)\r\n",
        "\r\n",
        "#Heatmap 그리기 - mask and correct aspect ratio  사용\r\n",
        "sns.heatmap(corr, mask = mask, cmap = cmap, center = 0, square=True, linewidths=.5, cbar_kws={\"shrink\":.5})\r\n",
        "\r\n",
        "plt.show()"
      ],
      "execution_count": null,
      "outputs": [
        {
          "output_type": "display_data",
          "data": {
            "image/png": "[encoded data removed]",
            "text/plain": [
              "<Figure size 792x648 with 2 Axes>"
            ]
          },
          "metadata": {
            "tags": []
          }
        }
      ]
    },
    {
      "cell_type": "code",
      "metadata": {
        "id": "6G8dIgLby0_W"
      },
      "source": [
        "from sklearn.preprocessing import LabelEncoder\r\n",
        "le = LabelEncoder()\r\n",
        "\r\n",
        "le_list = ['cat0', 'cat1', 'cat2', 'cat3', 'cat4', 'cat5', 'cat6', 'cat7', 'cat8', 'cat9', 'cat10', 'cat11',\t'cat12',\t'cat13',\t'cat14',\t'cat15'\t,'cat16'\t,'cat17'\t,'cat18']\r\n",
        "\r\n",
        "for col in le_list:\r\n",
        "  train_df[col] = le.fit_transform(train_df[col])\r\n",
        "  test_le = list(le.classes_) + list(set(test_df[col].unique()) - set(train_df[col].unique()))\r\n",
        "  le.fit(test_le)\r\n",
        "  test_df[col] = le.transform(test_df[col])\r\n"
      ],
      "execution_count": 7,
      "outputs": []
    },
    {
      "cell_type": "code",
      "metadata": {
        "colab": {
          "base_uri": "https://localhost:8080/"
        },
        "id": "rNbMsr3U0z6X",
        "outputId": "fa6d608b-aba3-41b6-a85c-70fa6c1226e9"
      },
      "source": [
        "train_df.cat10.unique().size"
      ],
      "execution_count": null,
      "outputs": [
        {
          "output_type": "execute_result",
          "data": {
            "text/plain": [
              "299"
            ]
          },
          "metadata": {
            "tags": []
          },
          "execution_count": 41
        }
      ]
    },
    {
      "cell_type": "code",
      "metadata": {
        "colab": {
          "base_uri": "https://localhost:8080/",
          "height": 422
        },
        "id": "sNq6SXMz0ev3",
        "outputId": "9f9775a7-4774-43e9-8e51-3caacb5fd4cc"
      },
      "source": [
        "train_df"
      ],
      "execution_count": 8,
      "outputs": [
        {
          "output_type": "execute_result",
          "data": {
            "text/html": [
              "<div>\n",
              "<style scoped>\n",
              "    .dataframe tbody tr th:only-of-type {\n",
              "        vertical-align: middle;\n",
              "    }\n",
              "\n",
              "    .dataframe tbody tr th {\n",
              "        vertical-align: top;\n",
              "    }\n",
              "\n",
              "    .dataframe thead th {\n",
              "        text-align: right;\n",
              "    }\n",
              "</style>\n",
              "<table border=\"1\" class=\"dataframe\">\n",
              "  <thead>\n",
              "    <tr style=\"text-align: right;\">\n",
              "      <th></th>\n",
              "      <th>id</th>\n",
              "      <th>cat0</th>\n",
              "      <th>cat1</th>\n",
              "      <th>cat2</th>\n",
              "      <th>cat3</th>\n",
              "      <th>cat4</th>\n",
              "      <th>cat5</th>\n",
              "      <th>cat6</th>\n",
              "      <th>cat7</th>\n",
              "      <th>cat8</th>\n",
              "      <th>cat9</th>\n",
              "      <th>cat10</th>\n",
              "      <th>cat11</th>\n",
              "      <th>cat12</th>\n",
              "      <th>cat13</th>\n",
              "      <th>cat14</th>\n",
              "      <th>cat15</th>\n",
              "      <th>cat16</th>\n",
              "      <th>cat17</th>\n",
              "      <th>cat18</th>\n",
              "      <th>cont0</th>\n",
              "      <th>cont1</th>\n",
              "      <th>cont2</th>\n",
              "      <th>cont3</th>\n",
              "      <th>cont4</th>\n",
              "      <th>cont5</th>\n",
              "      <th>cont6</th>\n",
              "      <th>cont7</th>\n",
              "      <th>cont8</th>\n",
              "      <th>cont9</th>\n",
              "      <th>cont10</th>\n",
              "      <th>target</th>\n",
              "    </tr>\n",
              "  </thead>\n",
              "  <tbody>\n",
              "    <tr>\n",
              "      <th>0</th>\n",
              "      <td>0</td>\n",
              "      <td>0</td>\n",
              "      <td>8</td>\n",
              "      <td>0</td>\n",
              "      <td>1</td>\n",
              "      <td>1</td>\n",
              "      <td>33</td>\n",
              "      <td>0</td>\n",
              "      <td>44</td>\n",
              "      <td>54</td>\n",
              "      <td>0</td>\n",
              "      <td>258</td>\n",
              "      <td>0</td>\n",
              "      <td>0</td>\n",
              "      <td>0</td>\n",
              "      <td>0</td>\n",
              "      <td>1</td>\n",
              "      <td>3</td>\n",
              "      <td>3</td>\n",
              "      <td>1</td>\n",
              "      <td>0.629858</td>\n",
              "      <td>0.855349</td>\n",
              "      <td>0.759439</td>\n",
              "      <td>0.795549</td>\n",
              "      <td>0.681917</td>\n",
              "      <td>0.621672</td>\n",
              "      <td>0.592184</td>\n",
              "      <td>0.791921</td>\n",
              "      <td>0.815254</td>\n",
              "      <td>0.965006</td>\n",
              "      <td>0.665915</td>\n",
              "      <td>0</td>\n",
              "    </tr>\n",
              "    <tr>\n",
              "      <th>1</th>\n",
              "      <td>1</td>\n",
              "      <td>0</td>\n",
              "      <td>8</td>\n",
              "      <td>0</td>\n",
              "      <td>0</td>\n",
              "      <td>4</td>\n",
              "      <td>33</td>\n",
              "      <td>8</td>\n",
              "      <td>48</td>\n",
              "      <td>3</td>\n",
              "      <td>5</td>\n",
              "      <td>162</td>\n",
              "      <td>0</td>\n",
              "      <td>1</td>\n",
              "      <td>0</td>\n",
              "      <td>1</td>\n",
              "      <td>3</td>\n",
              "      <td>1</td>\n",
              "      <td>3</td>\n",
              "      <td>1</td>\n",
              "      <td>0.370727</td>\n",
              "      <td>0.328929</td>\n",
              "      <td>0.386385</td>\n",
              "      <td>0.541366</td>\n",
              "      <td>0.388982</td>\n",
              "      <td>0.357778</td>\n",
              "      <td>0.600044</td>\n",
              "      <td>0.408701</td>\n",
              "      <td>0.399353</td>\n",
              "      <td>0.927406</td>\n",
              "      <td>0.493729</td>\n",
              "      <td>0</td>\n",
              "    </tr>\n",
              "    <tr>\n",
              "      <th>2</th>\n",
              "      <td>2</td>\n",
              "      <td>0</td>\n",
              "      <td>10</td>\n",
              "      <td>0</td>\n",
              "      <td>0</td>\n",
              "      <td>4</td>\n",
              "      <td>33</td>\n",
              "      <td>0</td>\n",
              "      <td>30</td>\n",
              "      <td>38</td>\n",
              "      <td>9</td>\n",
              "      <td>69</td>\n",
              "      <td>0</td>\n",
              "      <td>1</td>\n",
              "      <td>0</td>\n",
              "      <td>0</td>\n",
              "      <td>1</td>\n",
              "      <td>3</td>\n",
              "      <td>3</td>\n",
              "      <td>1</td>\n",
              "      <td>0.502272</td>\n",
              "      <td>0.322749</td>\n",
              "      <td>0.343255</td>\n",
              "      <td>0.616352</td>\n",
              "      <td>0.793687</td>\n",
              "      <td>0.552877</td>\n",
              "      <td>0.352113</td>\n",
              "      <td>0.388835</td>\n",
              "      <td>0.412303</td>\n",
              "      <td>0.292696</td>\n",
              "      <td>0.549452</td>\n",
              "      <td>0</td>\n",
              "    </tr>\n",
              "    <tr>\n",
              "      <th>3</th>\n",
              "      <td>3</td>\n",
              "      <td>0</td>\n",
              "      <td>10</td>\n",
              "      <td>0</td>\n",
              "      <td>2</td>\n",
              "      <td>4</td>\n",
              "      <td>33</td>\n",
              "      <td>0</td>\n",
              "      <td>50</td>\n",
              "      <td>3</td>\n",
              "      <td>5</td>\n",
              "      <td>241</td>\n",
              "      <td>0</td>\n",
              "      <td>0</td>\n",
              "      <td>0</td>\n",
              "      <td>0</td>\n",
              "      <td>1</td>\n",
              "      <td>3</td>\n",
              "      <td>3</td>\n",
              "      <td>1</td>\n",
              "      <td>0.934242</td>\n",
              "      <td>0.707663</td>\n",
              "      <td>0.831147</td>\n",
              "      <td>0.807807</td>\n",
              "      <td>0.800032</td>\n",
              "      <td>0.619147</td>\n",
              "      <td>0.221789</td>\n",
              "      <td>0.897617</td>\n",
              "      <td>0.633669</td>\n",
              "      <td>0.760318</td>\n",
              "      <td>0.934242</td>\n",
              "      <td>0</td>\n",
              "    </tr>\n",
              "    <tr>\n",
              "      <th>4</th>\n",
              "      <td>4</td>\n",
              "      <td>0</td>\n",
              "      <td>8</td>\n",
              "      <td>6</td>\n",
              "      <td>1</td>\n",
              "      <td>4</td>\n",
              "      <td>33</td>\n",
              "      <td>2</td>\n",
              "      <td>32</td>\n",
              "      <td>54</td>\n",
              "      <td>0</td>\n",
              "      <td>75</td>\n",
              "      <td>0</td>\n",
              "      <td>0</td>\n",
              "      <td>0</td>\n",
              "      <td>1</td>\n",
              "      <td>1</td>\n",
              "      <td>1</td>\n",
              "      <td>3</td>\n",
              "      <td>1</td>\n",
              "      <td>0.254427</td>\n",
              "      <td>0.274514</td>\n",
              "      <td>0.338818</td>\n",
              "      <td>0.277308</td>\n",
              "      <td>0.610578</td>\n",
              "      <td>0.128291</td>\n",
              "      <td>0.578764</td>\n",
              "      <td>0.279167</td>\n",
              "      <td>0.351103</td>\n",
              "      <td>0.357084</td>\n",
              "      <td>0.328960</td>\n",
              "      <td>1</td>\n",
              "    </tr>\n",
              "    <tr>\n",
              "      <th>...</th>\n",
              "      <td>...</td>\n",
              "      <td>...</td>\n",
              "      <td>...</td>\n",
              "      <td>...</td>\n",
              "      <td>...</td>\n",
              "      <td>...</td>\n",
              "      <td>...</td>\n",
              "      <td>...</td>\n",
              "      <td>...</td>\n",
              "      <td>...</td>\n",
              "      <td>...</td>\n",
              "      <td>...</td>\n",
              "      <td>...</td>\n",
              "      <td>...</td>\n",
              "      <td>...</td>\n",
              "      <td>...</td>\n",
              "      <td>...</td>\n",
              "      <td>...</td>\n",
              "      <td>...</td>\n",
              "      <td>...</td>\n",
              "      <td>...</td>\n",
              "      <td>...</td>\n",
              "      <td>...</td>\n",
              "      <td>...</td>\n",
              "      <td>...</td>\n",
              "      <td>...</td>\n",
              "      <td>...</td>\n",
              "      <td>...</td>\n",
              "      <td>...</td>\n",
              "      <td>...</td>\n",
              "      <td>...</td>\n",
              "      <td>...</td>\n",
              "    </tr>\n",
              "    <tr>\n",
              "      <th>299995</th>\n",
              "      <td>499993</td>\n",
              "      <td>0</td>\n",
              "      <td>13</td>\n",
              "      <td>5</td>\n",
              "      <td>0</td>\n",
              "      <td>4</td>\n",
              "      <td>45</td>\n",
              "      <td>0</td>\n",
              "      <td>19</td>\n",
              "      <td>48</td>\n",
              "      <td>0</td>\n",
              "      <td>159</td>\n",
              "      <td>0</td>\n",
              "      <td>0</td>\n",
              "      <td>0</td>\n",
              "      <td>1</td>\n",
              "      <td>3</td>\n",
              "      <td>1</td>\n",
              "      <td>3</td>\n",
              "      <td>1</td>\n",
              "      <td>0.681700</td>\n",
              "      <td>0.500730</td>\n",
              "      <td>0.662428</td>\n",
              "      <td>0.671927</td>\n",
              "      <td>0.390566</td>\n",
              "      <td>0.145840</td>\n",
              "      <td>0.262767</td>\n",
              "      <td>0.514248</td>\n",
              "      <td>0.519340</td>\n",
              "      <td>0.617436</td>\n",
              "      <td>0.688007</td>\n",
              "      <td>0</td>\n",
              "    </tr>\n",
              "    <tr>\n",
              "      <th>299996</th>\n",
              "      <td>499995</td>\n",
              "      <td>0</td>\n",
              "      <td>10</td>\n",
              "      <td>0</td>\n",
              "      <td>0</td>\n",
              "      <td>6</td>\n",
              "      <td>33</td>\n",
              "      <td>0</td>\n",
              "      <td>36</td>\n",
              "      <td>4</td>\n",
              "      <td>4</td>\n",
              "      <td>163</td>\n",
              "      <td>0</td>\n",
              "      <td>1</td>\n",
              "      <td>0</td>\n",
              "      <td>1</td>\n",
              "      <td>1</td>\n",
              "      <td>3</td>\n",
              "      <td>3</td>\n",
              "      <td>1</td>\n",
              "      <td>0.489226</td>\n",
              "      <td>0.790664</td>\n",
              "      <td>0.821657</td>\n",
              "      <td>0.620356</td>\n",
              "      <td>0.384891</td>\n",
              "      <td>0.735879</td>\n",
              "      <td>0.547731</td>\n",
              "      <td>0.726653</td>\n",
              "      <td>0.470575</td>\n",
              "      <td>0.275743</td>\n",
              "      <td>0.638939</td>\n",
              "      <td>0</td>\n",
              "    </tr>\n",
              "    <tr>\n",
              "      <th>299997</th>\n",
              "      <td>499996</td>\n",
              "      <td>0</td>\n",
              "      <td>6</td>\n",
              "      <td>12</td>\n",
              "      <td>0</td>\n",
              "      <td>7</td>\n",
              "      <td>33</td>\n",
              "      <td>2</td>\n",
              "      <td>37</td>\n",
              "      <td>43</td>\n",
              "      <td>0</td>\n",
              "      <td>156</td>\n",
              "      <td>1</td>\n",
              "      <td>0</td>\n",
              "      <td>0</td>\n",
              "      <td>1</td>\n",
              "      <td>3</td>\n",
              "      <td>1</td>\n",
              "      <td>3</td>\n",
              "      <td>3</td>\n",
              "      <td>0.487882</td>\n",
              "      <td>0.522347</td>\n",
              "      <td>0.407037</td>\n",
              "      <td>0.232436</td>\n",
              "      <td>0.832482</td>\n",
              "      <td>0.810663</td>\n",
              "      <td>0.596939</td>\n",
              "      <td>0.308821</td>\n",
              "      <td>0.373997</td>\n",
              "      <td>0.518024</td>\n",
              "      <td>0.452144</td>\n",
              "      <td>1</td>\n",
              "    </tr>\n",
              "    <tr>\n",
              "      <th>299998</th>\n",
              "      <td>499997</td>\n",
              "      <td>1</td>\n",
              "      <td>7</td>\n",
              "      <td>0</td>\n",
              "      <td>3</td>\n",
              "      <td>1</td>\n",
              "      <td>33</td>\n",
              "      <td>0</td>\n",
              "      <td>1</td>\n",
              "      <td>23</td>\n",
              "      <td>0</td>\n",
              "      <td>25</td>\n",
              "      <td>0</td>\n",
              "      <td>0</td>\n",
              "      <td>0</td>\n",
              "      <td>0</td>\n",
              "      <td>1</td>\n",
              "      <td>0</td>\n",
              "      <td>3</td>\n",
              "      <td>0</td>\n",
              "      <td>0.331900</td>\n",
              "      <td>0.812891</td>\n",
              "      <td>0.808045</td>\n",
              "      <td>0.630708</td>\n",
              "      <td>0.346898</td>\n",
              "      <td>0.735147</td>\n",
              "      <td>0.563488</td>\n",
              "      <td>0.609836</td>\n",
              "      <td>0.680430</td>\n",
              "      <td>0.318453</td>\n",
              "      <td>0.335822</td>\n",
              "      <td>0</td>\n",
              "    </tr>\n",
              "    <tr>\n",
              "      <th>299999</th>\n",
              "      <td>499999</td>\n",
              "      <td>0</td>\n",
              "      <td>5</td>\n",
              "      <td>2</td>\n",
              "      <td>0</td>\n",
              "      <td>4</td>\n",
              "      <td>33</td>\n",
              "      <td>2</td>\n",
              "      <td>22</td>\n",
              "      <td>55</td>\n",
              "      <td>0</td>\n",
              "      <td>256</td>\n",
              "      <td>0</td>\n",
              "      <td>0</td>\n",
              "      <td>0</td>\n",
              "      <td>0</td>\n",
              "      <td>1</td>\n",
              "      <td>3</td>\n",
              "      <td>3</td>\n",
              "      <td>1</td>\n",
              "      <td>0.822600</td>\n",
              "      <td>0.819735</td>\n",
              "      <td>0.775451</td>\n",
              "      <td>0.848696</td>\n",
              "      <td>0.819377</td>\n",
              "      <td>0.355467</td>\n",
              "      <td>0.218153</td>\n",
              "      <td>0.968856</td>\n",
              "      <td>0.823655</td>\n",
              "      <td>0.330515</td>\n",
              "      <td>0.972569</td>\n",
              "      <td>0</td>\n",
              "    </tr>\n",
              "  </tbody>\n",
              "</table>\n",
              "<p>300000 rows × 32 columns</p>\n",
              "</div>"
            ],
            "text/plain": [
              "            id  cat0  cat1  cat2  ...     cont8     cont9    cont10  target\n",
              "0            0     0     8     0  ...  0.815254  0.965006  0.665915       0\n",
              "1            1     0     8     0  ...  0.399353  0.927406  0.493729       0\n",
              "2            2     0    10     0  ...  0.412303  0.292696  0.549452       0\n",
              "3            3     0    10     0  ...  0.633669  0.760318  0.934242       0\n",
              "4            4     0     8     6  ...  0.351103  0.357084  0.328960       1\n",
              "...        ...   ...   ...   ...  ...       ...       ...       ...     ...\n",
              "299995  499993     0    13     5  ...  0.519340  0.617436  0.688007       0\n",
              "299996  499995     0    10     0  ...  0.470575  0.275743  0.638939       0\n",
              "299997  499996     0     6    12  ...  0.373997  0.518024  0.452144       1\n",
              "299998  499997     1     7     0  ...  0.680430  0.318453  0.335822       0\n",
              "299999  499999     0     5     2  ...  0.823655  0.330515  0.972569       0\n",
              "\n",
              "[300000 rows x 32 columns]"
            ]
          },
          "metadata": {
            "tags": []
          },
          "execution_count": 8
        }
      ]
    },
    {
      "cell_type": "code",
      "metadata": {
        "id": "N9U1BrTf1C02"
      },
      "source": [
        "train_x = train_df.loc[:, \"cat0\":\"cont10\"]\r\n",
        "train_y = train_df['target']\r\n",
        "\r\n",
        "test_x = test_df.loc[:, \"cat0\":\"cont10\"]"
      ],
      "execution_count": 9,
      "outputs": []
    },
    {
      "cell_type": "code",
      "metadata": {
        "id": "mQavIZOk1OaB"
      },
      "source": [
        "#데이터 정규화\r\n",
        "from sklearn.preprocessing import StandardScaler\r\n",
        "scaler = StandardScaler()\r\n",
        "\r\n",
        "train_x = scaler.fit_transform(train_x)\r\n",
        "test_x = scaler.transform(test_x)"
      ],
      "execution_count": 10,
      "outputs": []
    },
    {
      "cell_type": "markdown",
      "metadata": {
        "id": "TH-hxlId2Jgp"
      },
      "source": [
        "## 모델 학습"
      ]
    },
    {
      "cell_type": "markdown",
      "metadata": {
        "id": "0G_Qy3_q2CY2"
      },
      "source": [
        "###SVM"
      ]
    },
    {
      "cell_type": "code",
      "metadata": {
        "id": "KrHoZ4Pp1aTv"
      },
      "source": [
        "#너무 계속 돌아가서 결과 값 확인 불가\r\n",
        "from sklearn.svm import SVC \r\n",
        "\r\n",
        "svm=SVC(kernel='linear',C=1.0,random_state=1)\r\n",
        "svm.fit(train_x,train_y) \r\n",
        "y_train_pred=svm.predict(train_x) \r\n",
        "y_test_pred=svm.predict(test_x) "
      ],
      "execution_count": null,
      "outputs": []
    },
    {
      "cell_type": "code",
      "metadata": {
        "id": "EtFHp71K1mDJ"
      },
      "source": [
        "from sklearn import metrics\r\n",
        "print(metrics.accuracy_score(y_train,y_train_pred))  # train set의 accuracy ratio"
      ],
      "execution_count": null,
      "outputs": []
    },
    {
      "cell_type": "markdown",
      "metadata": {
        "id": "yy1FZSmb2Ebf"
      },
      "source": [
        "###KNN"
      ]
    },
    {
      "cell_type": "code",
      "metadata": {
        "id": "wDuZgbcg2B7c"
      },
      "source": [
        "from sklearn.neighbors import KNeighborsClassifier\r\n",
        "knn = KNeighborsClassifier(n_neighbors = 7, weights = \"distance\")\r\n",
        "knn.fit(train_x, train_y)\r\n",
        "train_pred_y = knn.predict(train_x)\r\n",
        "test_pred_y = knn.predict(test_x)"
      ],
      "execution_count": null,
      "outputs": []
    },
    {
      "cell_type": "markdown",
      "metadata": {
        "id": "3IdFcZ8S3FLI"
      },
      "source": [
        "### lightgbm"
      ]
    },
    {
      "cell_type": "code",
      "metadata": {
        "colab": {
          "base_uri": "https://localhost:8080/"
        },
        "id": "RsHcJ7XQ5mAz",
        "outputId": "176ef252-8b5d-437f-a76c-e21349382381"
      },
      "source": [
        "train_y.unique()"
      ],
      "execution_count": 22,
      "outputs": [
        {
          "output_type": "execute_result",
          "data": {
            "text/plain": [
              "array([0, 1])"
            ]
          },
          "metadata": {
            "tags": []
          },
          "execution_count": 22
        }
      ]
    },
    {
      "cell_type": "code",
      "metadata": {
        "id": "Dro0AbGW3Er5"
      },
      "source": [
        "from lightgbm import LGBMClassifier\r\n",
        "\r\n",
        "lgb = LGBMClassifier(\r\n",
        "    objective='binary',\r\n",
        "    boosting='gbdt',\r\n",
        "    #learning_rate = 0.05,\r\n",
        "    #max_depth = 8,\r\n",
        "    num_leaves = 31,\r\n",
        "    #n_estimators = 400,\r\n",
        "    #bagging_fraction = 0.8,\r\n",
        "    #feature_fraction = 0.9)\r\n",
        "    #reg_alpha = 0.2,\r\n",
        "    #reg_lambda = 0.4\r\n",
        "    )\r\n",
        "\r\n",
        "lgb.fit(train_x, train_y)\r\n",
        "ypred = lgb.predict(train_x)"
      ],
      "execution_count": 24,
      "outputs": []
    },
    {
      "cell_type": "code",
      "metadata": {
        "colab": {
          "base_uri": "https://localhost:8080/"
        },
        "id": "FayRKBEc5Pbr",
        "outputId": "ed315922-778b-4d36-c782-98d9ef4b3ea2"
      },
      "source": [
        "ypred"
      ],
      "execution_count": 25,
      "outputs": [
        {
          "output_type": "execute_result",
          "data": {
            "text/plain": [
              "array([0, 0, 0, ..., 1, 0, 0])"
            ]
          },
          "metadata": {
            "tags": []
          },
          "execution_count": 25
        }
      ]
    },
    {
      "cell_type": "code",
      "metadata": {
        "colab": {
          "base_uri": "https://localhost:8080/"
        },
        "id": "5jctBkLf5GNO",
        "outputId": "ba891f79-b4a3-4b2f-9d90-5af9c200a1d8"
      },
      "source": [
        "from sklearn import metrics\r\n",
        "print(metrics.accuracy_score(train_y, ypred))  # train set의 accuracy ratio"
      ],
      "execution_count": 26,
      "outputs": [
        {
          "output_type": "stream",
          "text": [
            "0.85121\n"
          ],
          "name": "stdout"
        }
      ]
    },
    {
      "cell_type": "code",
      "metadata": {
        "id": "GS7QC2Sm60EZ"
      },
      "source": [
        "test_pred_y = lgb.predict(test_x)"
      ],
      "execution_count": 30,
      "outputs": []
    },
    {
      "cell_type": "markdown",
      "metadata": {
        "id": "qFCN47Q02UNV"
      },
      "source": [
        "## 모델 예측"
      ]
    },
    {
      "cell_type": "code",
      "metadata": {
        "id": "v3t9tisd2WYO",
        "colab": {
          "base_uri": "https://localhost:8080/"
        },
        "outputId": "556c773b-e8fb-41c9-dc88-b33deb68a79c"
      },
      "source": [
        "submit = pd.read_csv(\"sample_submission.csv\")\r\n",
        "submit\r\n",
        "\r\n",
        "for i in range(len(test_pred_y)):\r\n",
        "  submit[\"target\"][i] = test_pred_y[i]\r\n",
        "\r\n",
        "submit[\"target\"] = submit[\"target\"].astype(int)\r\n",
        "\r\n",
        "submit.to_csv(\"submission.csv\", index = False, header = True)"
      ],
      "execution_count": 31,
      "outputs": [
        {
          "output_type": "stream",
          "text": [
            "/usr/local/lib/python3.7/dist-packages/ipykernel_launcher.py:5: SettingWithCopyWarning: \n",
            "A value is trying to be set on a copy of a slice from a DataFrame\n",
            "\n",
            "See the caveats in the documentation: https://pandas.pydata.org/pandas-docs/stable/user_guide/indexing.html#returning-a-view-versus-a-copy\n",
            "  \"\"\"\n"
          ],
          "name": "stderr"
        }
      ]
    },
    {
      "cell_type": "code",
      "metadata": {
        "id": "Q7sTPsmx2Tob",
        "colab": {
          "base_uri": "https://localhost:8080/"
        },
        "outputId": "1bf8167a-2a83-47e7-df32-4ab28cc1fcd3"
      },
      "source": [
        "!kaggle competitions submit -c tabular-playground-series-mar-2021 -f submission.csv -m  \"LGBMClassifier\""
      ],
      "execution_count": 33,
      "outputs": [
        {
          "output_type": "stream",
          "text": [
            "Warning: Looks like you're using an outdated API Version, please consider updating (server 1.5.10 / client 1.5.6)\n",
            "100% 1.67M/1.67M [00:03<00:00, 579kB/s]\n",
            "Successfully submitted to Tabular Playground Series - Mar 2021"
          ],
          "name": "stdout"
        }
      ]
    }
  ]
}
