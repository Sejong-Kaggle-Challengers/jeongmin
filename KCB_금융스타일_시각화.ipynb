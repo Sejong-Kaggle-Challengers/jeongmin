{
  "nbformat": 4,
  "nbformat_minor": 0,
  "metadata": {
    "colab": {
      "name": "KCB 금융스타일 시각화 ",
      "provenance": [],
      "authorship_tag": "ABX9TyMT51989xnYoas0VXR0WS/g",
      "include_colab_link": true
    },
    "kernelspec": {
      "name": "python3",
      "display_name": "Python 3"
    }
  },
  "cells": [
    {
      "cell_type": "markdown",
      "metadata": {
        "id": "view-in-github",
        "colab_type": "text"
      },
      "source": [
        "<a href=\"https://colab.research.google.com/github/Sejong-Kaggle-Challengers/jeongmin/blob/main/KCB_%EA%B8%88%EC%9C%B5%EC%8A%A4%ED%83%80%EC%9D%BC_%EC%8B%9C%EA%B0%81%ED%99%94.ipynb\" target=\"_parent\"><img src=\"https://colab.research.google.com/assets/colab-badge.svg\" alt=\"Open In Colab\"/></a>"
      ]
    },
    {
      "cell_type": "markdown",
      "metadata": {
        "id": "FBWFRXSGCLgA"
      },
      "source": [
        "### KCB(올크레딧) - 신용평가사\r\n",
        "다양한 금융사로부터 여신거래 기록, 채무 정보, 연체정보 등  다양한 고객 금융 정보를 받아 전국민 85.4%인 4,400만 경제활동 인구의\r\n",
        "경제 활동 데이터를 보유하고 있으며, 이를 통해 개인 신용 등급 책정 및 솔루션/컨설팅 서비스를 제공\r\n",
        "<br><br>\r\n",
        "대회 목적 :\r\n",
        "1. KCB 전국민 금융 데이터의 새로운 인사이트 발굴\r\n",
        "2. 활용도 높은 결과물로 금융친화적 콘텐츠 발전에 기여\r\n",
        "<br><br>\r\n",
        "credit_card_data.csv : 전국민 카드 및 대출 이용통계 데이터\r\n",
        "연령대/거주지/성별 구분에 따른 카드 및 대출 이용통계 데이터로, 구분 값 별 카드이용금액 비교, 대출금액 및 대출 특이사항 비교 등이 가능하다."
      ]
    },
    {
      "cell_type": "code",
      "metadata": {
        "colab": {
          "base_uri": "https://localhost:8080/"
        },
        "id": "y6MZCHjkEs64",
        "outputId": "39a9fae9-5e43-4b2e-d118-1d57157cd2c1"
      },
      "source": [
        "!unzip data08.zip"
      ],
      "execution_count": 1,
      "outputs": [
        {
          "output_type": "stream",
          "text": [
            "Archive:  data08.zip\n",
            "  inflating: KCB 대회 약관.pdf  \n",
            "  inflating: credit_card_data.csv    \n",
            "  inflating: jeju_financial_life_data.csv  \n"
          ],
          "name": "stdout"
        }
      ]
    },
    {
      "cell_type": "code",
      "metadata": {
        "colab": {
          "base_uri": "https://localhost:8080/"
        },
        "id": "lQUpPQb7NjOt",
        "outputId": "9b220ed9-13f4-4faa-d8d4-5b6804638cce"
      },
      "source": [
        "!pip install eli5"
      ],
      "execution_count": 11,
      "outputs": [
        {
          "output_type": "stream",
          "text": [
            "Collecting eli5\n",
            "\u001b[?25l  Downloading https://files.pythonhosted.org/packages/d1/54/04cab6e1c0ae535bec93f795d8403fdf6caf66fa5a6512263202dbb14ea6/eli5-0.11.0-py2.py3-none-any.whl (106kB)\n",
            "\r\u001b[K     |███                             | 10kB 15.8MB/s eta 0:00:01\r\u001b[K     |██████▏                         | 20kB 12.0MB/s eta 0:00:01\r\u001b[K     |█████████▎                      | 30kB 8.6MB/s eta 0:00:01\r\u001b[K     |████████████▍                   | 40kB 7.0MB/s eta 0:00:01\r\u001b[K     |███████████████▌                | 51kB 4.2MB/s eta 0:00:01\r\u001b[K     |██████████████████▌             | 61kB 4.7MB/s eta 0:00:01\r\u001b[K     |█████████████████████▋          | 71kB 4.9MB/s eta 0:00:01\r\u001b[K     |████████████████████████▊       | 81kB 5.0MB/s eta 0:00:01\r\u001b[K     |███████████████████████████▉    | 92kB 5.4MB/s eta 0:00:01\r\u001b[K     |███████████████████████████████ | 102kB 5.4MB/s eta 0:00:01\r\u001b[K     |████████████████████████████████| 112kB 5.4MB/s \n",
            "\u001b[?25hRequirement already satisfied: scipy in /usr/local/lib/python3.6/dist-packages (from eli5) (1.4.1)\n",
            "Requirement already satisfied: tabulate>=0.7.7 in /usr/local/lib/python3.6/dist-packages (from eli5) (0.8.7)\n",
            "Requirement already satisfied: jinja2 in /usr/local/lib/python3.6/dist-packages (from eli5) (2.11.2)\n",
            "Requirement already satisfied: six in /usr/local/lib/python3.6/dist-packages (from eli5) (1.15.0)\n",
            "Requirement already satisfied: graphviz in /usr/local/lib/python3.6/dist-packages (from eli5) (0.10.1)\n",
            "Requirement already satisfied: numpy>=1.9.0 in /usr/local/lib/python3.6/dist-packages (from eli5) (1.19.5)\n",
            "Requirement already satisfied: scikit-learn>=0.20 in /usr/local/lib/python3.6/dist-packages (from eli5) (0.22.2.post1)\n",
            "Requirement already satisfied: attrs>16.0.0 in /usr/local/lib/python3.6/dist-packages (from eli5) (20.3.0)\n",
            "Requirement already satisfied: MarkupSafe>=0.23 in /usr/local/lib/python3.6/dist-packages (from jinja2->eli5) (1.1.1)\n",
            "Requirement already satisfied: joblib>=0.11 in /usr/local/lib/python3.6/dist-packages (from scikit-learn>=0.20->eli5) (1.0.0)\n",
            "Installing collected packages: eli5\n",
            "Successfully installed eli5-0.11.0\n"
          ],
          "name": "stdout"
        }
      ]
    },
    {
      "cell_type": "code",
      "metadata": {
        "colab": {
          "base_uri": "https://localhost:8080/"
        },
        "id": "a4mB5GNLNwdr",
        "outputId": "2ac42601-7e40-4de0-8c4f-71d5cb6bb949"
      },
      "source": [
        "!pip install shap"
      ],
      "execution_count": 13,
      "outputs": [
        {
          "output_type": "stream",
          "text": [
            "Collecting shap\n",
            "\u001b[?25l  Downloading https://files.pythonhosted.org/packages/44/20/54381999efe3000f70a7f68af79ba857cfa3f82278ab0e02e6ba1c06b002/shap-0.38.1.tar.gz (352kB)\n",
            "\r\u001b[K     |█                               | 10kB 16.8MB/s eta 0:00:01\r\u001b[K     |█▉                              | 20kB 21.7MB/s eta 0:00:01\r\u001b[K     |██▉                             | 30kB 10.9MB/s eta 0:00:01\r\u001b[K     |███▊                            | 40kB 8.3MB/s eta 0:00:01\r\u001b[K     |████▋                           | 51kB 4.3MB/s eta 0:00:01\r\u001b[K     |█████▋                          | 61kB 4.3MB/s eta 0:00:01\r\u001b[K     |██████▌                         | 71kB 4.7MB/s eta 0:00:01\r\u001b[K     |███████▍                        | 81kB 5.1MB/s eta 0:00:01\r\u001b[K     |████████▍                       | 92kB 5.4MB/s eta 0:00:01\r\u001b[K     |█████████▎                      | 102kB 5.7MB/s eta 0:00:01\r\u001b[K     |██████████▎                     | 112kB 5.7MB/s eta 0:00:01\r\u001b[K     |███████████▏                    | 122kB 5.7MB/s eta 0:00:01\r\u001b[K     |████████████                    | 133kB 5.7MB/s eta 0:00:01\r\u001b[K     |█████████████                   | 143kB 5.7MB/s eta 0:00:01\r\u001b[K     |██████████████                  | 153kB 5.7MB/s eta 0:00:01\r\u001b[K     |██████████████▉                 | 163kB 5.7MB/s eta 0:00:01\r\u001b[K     |███████████████▉                | 174kB 5.7MB/s eta 0:00:01\r\u001b[K     |████████████████▊               | 184kB 5.7MB/s eta 0:00:01\r\u001b[K     |█████████████████▊              | 194kB 5.7MB/s eta 0:00:01\r\u001b[K     |██████████████████▋             | 204kB 5.7MB/s eta 0:00:01\r\u001b[K     |███████████████████▌            | 215kB 5.7MB/s eta 0:00:01\r\u001b[K     |████████████████████▌           | 225kB 5.7MB/s eta 0:00:01\r\u001b[K     |█████████████████████▍          | 235kB 5.7MB/s eta 0:00:01\r\u001b[K     |██████████████████████▎         | 245kB 5.7MB/s eta 0:00:01\r\u001b[K     |███████████████████████▎        | 256kB 5.7MB/s eta 0:00:01\r\u001b[K     |████████████████████████▏       | 266kB 5.7MB/s eta 0:00:01\r\u001b[K     |█████████████████████████       | 276kB 5.7MB/s eta 0:00:01\r\u001b[K     |██████████████████████████      | 286kB 5.7MB/s eta 0:00:01\r\u001b[K     |███████████████████████████     | 296kB 5.7MB/s eta 0:00:01\r\u001b[K     |████████████████████████████    | 307kB 5.7MB/s eta 0:00:01\r\u001b[K     |████████████████████████████▉   | 317kB 5.7MB/s eta 0:00:01\r\u001b[K     |█████████████████████████████▊  | 327kB 5.7MB/s eta 0:00:01\r\u001b[K     |██████████████████████████████▊ | 337kB 5.7MB/s eta 0:00:01\r\u001b[K     |███████████████████████████████▋| 348kB 5.7MB/s eta 0:00:01\r\u001b[K     |████████████████████████████████| 358kB 5.7MB/s \n",
            "\u001b[?25hRequirement already satisfied: numpy in /usr/local/lib/python3.6/dist-packages (from shap) (1.19.5)\n",
            "Requirement already satisfied: scipy in /usr/local/lib/python3.6/dist-packages (from shap) (1.4.1)\n",
            "Requirement already satisfied: scikit-learn in /usr/local/lib/python3.6/dist-packages (from shap) (0.22.2.post1)\n",
            "Requirement already satisfied: pandas in /usr/local/lib/python3.6/dist-packages (from shap) (1.1.5)\n",
            "Requirement already satisfied: tqdm>4.25.0 in /usr/local/lib/python3.6/dist-packages (from shap) (4.41.1)\n",
            "Collecting slicer==0.0.7\n",
            "  Downloading https://files.pythonhosted.org/packages/78/c2/b3f55dfdb8af9812fdb9baf70cacf3b9e82e505b2bd4324d588888b81202/slicer-0.0.7-py3-none-any.whl\n",
            "Requirement already satisfied: numba in /usr/local/lib/python3.6/dist-packages (from shap) (0.48.0)\n",
            "Requirement already satisfied: cloudpickle in /usr/local/lib/python3.6/dist-packages (from shap) (1.3.0)\n",
            "Requirement already satisfied: joblib>=0.11 in /usr/local/lib/python3.6/dist-packages (from scikit-learn->shap) (1.0.0)\n",
            "Requirement already satisfied: python-dateutil>=2.7.3 in /usr/local/lib/python3.6/dist-packages (from pandas->shap) (2.8.1)\n",
            "Requirement already satisfied: pytz>=2017.2 in /usr/local/lib/python3.6/dist-packages (from pandas->shap) (2018.9)\n",
            "Requirement already satisfied: setuptools in /usr/local/lib/python3.6/dist-packages (from numba->shap) (51.3.3)\n",
            "Requirement already satisfied: llvmlite<0.32.0,>=0.31.0dev0 in /usr/local/lib/python3.6/dist-packages (from numba->shap) (0.31.0)\n",
            "Requirement already satisfied: six>=1.5 in /usr/local/lib/python3.6/dist-packages (from python-dateutil>=2.7.3->pandas->shap) (1.15.0)\n",
            "Building wheels for collected packages: shap\n",
            "  Building wheel for shap (setup.py) ... \u001b[?25l\u001b[?25hdone\n",
            "  Created wheel for shap: filename=shap-0.38.1-cp36-cp36m-linux_x86_64.whl size=489404 sha256=be0e193532db602e1eb7842f70e2a1f6312c4d770b32bf4aca4d39790337cc25\n",
            "  Stored in directory: /root/.cache/pip/wheels/a8/fb/e4/88012be41842b9be62ae18d82d1b1e880daf8539d1fef1fa00\n",
            "Successfully built shap\n",
            "Installing collected packages: slicer, shap\n",
            "Successfully installed shap-0.38.1 slicer-0.0.7\n"
          ],
          "name": "stdout"
        }
      ]
    },
    {
      "cell_type": "code",
      "metadata": {
        "id": "fwSMUPqmCCyM"
      },
      "source": [
        "import pandas as pd #분석\r\n",
        "import matplotlib.pyplot as plt #시각화\r\n",
        "import seaborn as sns #시각화\r\n",
        "import numpy as np#분석\r\n",
        "\r\n",
        "#경고메세지 무시\r\n",
        "import warnings\r\n",
        "warnings.filterwarnings('ignore')\r\n",
        "\r\n",
        "#%matplotlib inline --> Rich output 를 바로 볼 수 있도록 (colab 에서는 굳이 쓰지 않아도 되는 것 같다)\r\n",
        "color = sns.color_palette() #팔레트\r\n",
        "\r\n",
        "#모델\r\n",
        "from lightgbm import LGBMRegressor\r\n",
        "from xgboost import XGBRegressor\r\n",
        "\r\n",
        "#Permutation Importance를 통해 변수의 중요도를 알아볼 수 있다.\r\n",
        "import eli5\r\n",
        "from eli5.sklearn import PermutationImportance\r\n",
        "\r\n",
        "#Shap Value는 실제값과 예측치의 차이를 설명하는 것\r\n",
        "import shap"
      ],
      "execution_count": 37,
      "outputs": []
    },
    {
      "cell_type": "code",
      "metadata": {
        "id": "tmWj8kD8Oeuu"
      },
      "source": [
        "plt.rcParams[\"figure.facecolor\"] = 'w' # background color = white\r\n",
        "plt.rcParams[\"font.family\"] = 'NanumBarunGothic' #글꼴 설정 = 나눔고딕\r\n",
        "plt.rcParams['axes.unicode_minus'] = False #그래프에서 마이너스 기호가 깨지지 않고 표시되도록"
      ],
      "execution_count": 38,
      "outputs": []
    },
    {
      "cell_type": "code",
      "metadata": {
        "colab": {
          "base_uri": "https://localhost:8080/"
        },
        "id": "VDqMdZoIGOgz",
        "outputId": "104abbd9-9523-4653-b5ec-b002002f12cb"
      },
      "source": [
        "train = pd.read_csv(\"credit_card_data.csv\")\r\n",
        "train.shape"
      ],
      "execution_count": 49,
      "outputs": [
        {
          "output_type": "execute_result",
          "data": {
            "text/plain": [
              "(3888, 26)"
            ]
          },
          "metadata": {
            "tags": []
          },
          "execution_count": 49
        }
      ]
    },
    {
      "cell_type": "code",
      "metadata": {
        "colab": {
          "base_uri": "https://localhost:8080/",
          "height": 298
        },
        "id": "NCUjKP9BE5jZ",
        "outputId": "898dafd8-f042-40e2-ec2c-04d8f3ef239c"
      },
      "source": [
        "train.head()"
      ],
      "execution_count": 40,
      "outputs": [
        {
          "output_type": "execute_result",
          "data": {
            "text/html": [
              "<div>\n",
              "<style scoped>\n",
              "    .dataframe tbody tr th:only-of-type {\n",
              "        vertical-align: middle;\n",
              "    }\n",
              "\n",
              "    .dataframe tbody tr th {\n",
              "        vertical-align: top;\n",
              "    }\n",
              "\n",
              "    .dataframe thead th {\n",
              "        text-align: right;\n",
              "    }\n",
              "</style>\n",
              "<table border=\"1\" class=\"dataframe\">\n",
              "  <thead>\n",
              "    <tr style=\"text-align: right;\">\n",
              "      <th></th>\n",
              "      <th>pop_cd</th>\n",
              "      <th>year</th>\n",
              "      <th>month</th>\n",
              "      <th>avg_score</th>\n",
              "      <th>avg_rat</th>\n",
              "      <th>city</th>\n",
              "      <th>sex</th>\n",
              "      <th>ages</th>\n",
              "      <th>population</th>\n",
              "      <th>num_opencard</th>\n",
              "      <th>num_usecard</th>\n",
              "      <th>monthly_card_spend</th>\n",
              "      <th>monthly_lc</th>\n",
              "      <th>monthly_loan</th>\n",
              "      <th>monthly_bk_loan</th>\n",
              "      <th>monthly_cd_loan</th>\n",
              "      <th>monthly_installments_loan</th>\n",
              "      <th>monthly_insurance_loan</th>\n",
              "      <th>monthly_sbk_loan</th>\n",
              "      <th>loan_commitment</th>\n",
              "      <th>inst_rep_loanb</th>\n",
              "      <th>ls_rep_loanb</th>\n",
              "      <th>credit_loan</th>\n",
              "      <th>mortgage_loan</th>\n",
              "      <th>credit_card_payment</th>\n",
              "      <th>credit_card_installments_payment</th>\n",
              "    </tr>\n",
              "  </thead>\n",
              "  <tbody>\n",
              "    <tr>\n",
              "      <th>0</th>\n",
              "      <td>L011</td>\n",
              "      <td>2016</td>\n",
              "      <td>1</td>\n",
              "      <td>812</td>\n",
              "      <td>2</td>\n",
              "      <td>서울</td>\n",
              "      <td>NaN</td>\n",
              "      <td>10대</td>\n",
              "      <td>55000</td>\n",
              "      <td>1.44</td>\n",
              "      <td>1.13</td>\n",
              "      <td>70000</td>\n",
              "      <td>92630000</td>\n",
              "      <td>87350000</td>\n",
              "      <td>85790000</td>\n",
              "      <td>0</td>\n",
              "      <td>0</td>\n",
              "      <td>0</td>\n",
              "      <td>0</td>\n",
              "      <td>1120000</td>\n",
              "      <td>8210000</td>\n",
              "      <td>78020000</td>\n",
              "      <td>92170000</td>\n",
              "      <td>87260000</td>\n",
              "      <td>0</td>\n",
              "      <td>0</td>\n",
              "    </tr>\n",
              "    <tr>\n",
              "      <th>1</th>\n",
              "      <td>L011</td>\n",
              "      <td>2016</td>\n",
              "      <td>2</td>\n",
              "      <td>773</td>\n",
              "      <td>4</td>\n",
              "      <td>서울</td>\n",
              "      <td>NaN</td>\n",
              "      <td>10대</td>\n",
              "      <td>380000</td>\n",
              "      <td>1.71</td>\n",
              "      <td>0.96</td>\n",
              "      <td>170000</td>\n",
              "      <td>31140000</td>\n",
              "      <td>28910000</td>\n",
              "      <td>25850000</td>\n",
              "      <td>190000</td>\n",
              "      <td>510000</td>\n",
              "      <td>220000</td>\n",
              "      <td>1020000</td>\n",
              "      <td>680000</td>\n",
              "      <td>4660000</td>\n",
              "      <td>23300000</td>\n",
              "      <td>8260000</td>\n",
              "      <td>42410000</td>\n",
              "      <td>4000</td>\n",
              "      <td>1000</td>\n",
              "    </tr>\n",
              "    <tr>\n",
              "      <th>2</th>\n",
              "      <td>L011</td>\n",
              "      <td>2016</td>\n",
              "      <td>3</td>\n",
              "      <td>771</td>\n",
              "      <td>4</td>\n",
              "      <td>서울</td>\n",
              "      <td>NaN</td>\n",
              "      <td>10대</td>\n",
              "      <td>387000</td>\n",
              "      <td>1.75</td>\n",
              "      <td>0.95</td>\n",
              "      <td>190000</td>\n",
              "      <td>30230000</td>\n",
              "      <td>28180000</td>\n",
              "      <td>25110000</td>\n",
              "      <td>170000</td>\n",
              "      <td>490000</td>\n",
              "      <td>210000</td>\n",
              "      <td>1140000</td>\n",
              "      <td>640000</td>\n",
              "      <td>4370000</td>\n",
              "      <td>22930000</td>\n",
              "      <td>8300000</td>\n",
              "      <td>41710000</td>\n",
              "      <td>3000</td>\n",
              "      <td>1000</td>\n",
              "    </tr>\n",
              "    <tr>\n",
              "      <th>3</th>\n",
              "      <td>L011</td>\n",
              "      <td>2016</td>\n",
              "      <td>4</td>\n",
              "      <td>770</td>\n",
              "      <td>4</td>\n",
              "      <td>서울</td>\n",
              "      <td>NaN</td>\n",
              "      <td>10대</td>\n",
              "      <td>412000</td>\n",
              "      <td>1.76</td>\n",
              "      <td>0.92</td>\n",
              "      <td>200000</td>\n",
              "      <td>30430000</td>\n",
              "      <td>27710000</td>\n",
              "      <td>24630000</td>\n",
              "      <td>190000</td>\n",
              "      <td>510000</td>\n",
              "      <td>240000</td>\n",
              "      <td>1340000</td>\n",
              "      <td>510000</td>\n",
              "      <td>4770000</td>\n",
              "      <td>22160000</td>\n",
              "      <td>9460000</td>\n",
              "      <td>41040000</td>\n",
              "      <td>4000</td>\n",
              "      <td>1000</td>\n",
              "    </tr>\n",
              "    <tr>\n",
              "      <th>4</th>\n",
              "      <td>L011</td>\n",
              "      <td>2016</td>\n",
              "      <td>5</td>\n",
              "      <td>771</td>\n",
              "      <td>4</td>\n",
              "      <td>서울</td>\n",
              "      <td>NaN</td>\n",
              "      <td>10대</td>\n",
              "      <td>414000</td>\n",
              "      <td>1.75</td>\n",
              "      <td>0.94</td>\n",
              "      <td>170000</td>\n",
              "      <td>31210000</td>\n",
              "      <td>27620000</td>\n",
              "      <td>24390000</td>\n",
              "      <td>210000</td>\n",
              "      <td>490000</td>\n",
              "      <td>340000</td>\n",
              "      <td>1490000</td>\n",
              "      <td>640000</td>\n",
              "      <td>4740000</td>\n",
              "      <td>21960000</td>\n",
              "      <td>9660000</td>\n",
              "      <td>40850000</td>\n",
              "      <td>3000</td>\n",
              "      <td>1000</td>\n",
              "    </tr>\n",
              "  </tbody>\n",
              "</table>\n",
              "</div>"
            ],
            "text/plain": [
              "  pop_cd  year  ...  credit_card_payment  credit_card_installments_payment\n",
              "0   L011  2016  ...                    0                                 0\n",
              "1   L011  2016  ...                 4000                              1000\n",
              "2   L011  2016  ...                 3000                              1000\n",
              "3   L011  2016  ...                 4000                              1000\n",
              "4   L011  2016  ...                 3000                              1000\n",
              "\n",
              "[5 rows x 26 columns]"
            ]
          },
          "metadata": {
            "tags": []
          },
          "execution_count": 40
        }
      ]
    },
    {
      "cell_type": "markdown",
      "metadata": {
        "id": "on0p41riPzuS"
      },
      "source": [
        "Nan으로 표현된 부분\r\n",
        "- 지역별 통계 : city가 값이 있는 경우는 sex가 Nan --> sex = 전체\r\n",
        "- 성별 통계 : sex가 값이 있는 경우는 city가 Nan --> city = 전국\r\n",
        "\r\n"
      ]
    },
    {
      "cell_type": "code",
      "metadata": {
        "colab": {
          "base_uri": "https://localhost:8080/"
        },
        "id": "fEEldilnOKPx",
        "outputId": "84d4cfa6-3731-4787-a98c-7bf31916b309"
      },
      "source": [
        "#city와 sex에서 Nan값\r\n",
        "train.isnull().sum()"
      ],
      "execution_count": 50,
      "outputs": [
        {
          "output_type": "execute_result",
          "data": {
            "text/plain": [
              "pop_cd                                 0\n",
              "year                                   0\n",
              "month                                  0\n",
              "avg_score                              0\n",
              "avg_rat                                0\n",
              "city                                 432\n",
              "sex                                 3456\n",
              "ages                                   0\n",
              "population                             0\n",
              "num_opencard                           0\n",
              "num_usecard                            0\n",
              "monthly_card_spend                     0\n",
              "monthly_lc                             0\n",
              "monthly_loan                           0\n",
              "monthly_bk_loan                        0\n",
              "monthly_cd_loan                        0\n",
              "monthly_installments_loan              0\n",
              "monthly_insurance_loan                 0\n",
              "monthly_sbk_loan                       0\n",
              "loan_commitment                        0\n",
              "inst_rep_loanb                         0\n",
              "ls_rep_loanb                           0\n",
              "credit_loan                            0\n",
              "mortgage_loan                          0\n",
              "credit_card_payment                    0\n",
              "credit_card_installments_payment       0\n",
              "dtype: int64"
            ]
          },
          "metadata": {
            "tags": []
          },
          "execution_count": 50
        }
      ]
    },
    {
      "cell_type": "code",
      "metadata": {
        "id": "LwvmroyIQ293"
      },
      "source": [
        "train['city'] = train['city'].fillna('전국')\r\n",
        "train['sex'] = train['sex'].fillna('전체')"
      ],
      "execution_count": 51,
      "outputs": []
    },
    {
      "cell_type": "markdown",
      "metadata": {
        "id": "Wmkhat_QmoTA"
      },
      "source": [
        "- 나이별 통계 --> 연산의 용이성을 위해 숫자로 변환\r\n",
        "- 연도, 월 데이터는 python의 datatime 포맷으로 변환하여 새로운 열 year_month로 변환"
      ]
    },
    {
      "cell_type": "code",
      "metadata": {
        "colab": {
          "base_uri": "https://localhost:8080/",
          "height": 35
        },
        "id": "jThu1M8GQjyT",
        "outputId": "6af22942-bfec-4e26-a0d5-26d743052fe8"
      },
      "source": [
        "train['ages'][0][:-1]"
      ],
      "execution_count": 52,
      "outputs": [
        {
          "output_type": "execute_result",
          "data": {
            "application/vnd.google.colaboratory.intrinsic+json": {
              "type": "string"
            },
            "text/plain": [
              "'10'"
            ]
          },
          "metadata": {
            "tags": []
          },
          "execution_count": 52
        }
      ]
    },
    {
      "cell_type": "code",
      "metadata": {
        "id": "OvQEogfdmHQh"
      },
      "source": [
        "train['ages'] = train['ages'].apply(lambda x:int(x[:-1])).astype(float)\r\n",
        "train['year_month'] = pd.to_datetime((train.year*100+train.month).apply(str), format = '%Y%m')\r\n",
        "train.drop(['year','month'], axis=1, inplace=True) #원래 year, month 행 drop\r\n",
        "#year_month 행을 이전의 year과 month 자리인 행 2번째로 자리를 변경해 train을 완성한다.\r\n",
        "train = train[[train.columns[0], 'year_month'] + list(train.columns[1:-1])]"
      ],
      "execution_count": 54,
      "outputs": []
    },
    {
      "cell_type": "code",
      "metadata": {
        "colab": {
          "base_uri": "https://localhost:8080/",
          "height": 298
        },
        "id": "4fFs6J4LnxP1",
        "outputId": "447a14c6-9b64-4291-e787-700a21aebea8"
      },
      "source": [
        "train.head()"
      ],
      "execution_count": 55,
      "outputs": [
        {
          "output_type": "execute_result",
          "data": {
            "text/html": [
              "<div>\n",
              "<style scoped>\n",
              "    .dataframe tbody tr th:only-of-type {\n",
              "        vertical-align: middle;\n",
              "    }\n",
              "\n",
              "    .dataframe tbody tr th {\n",
              "        vertical-align: top;\n",
              "    }\n",
              "\n",
              "    .dataframe thead th {\n",
              "        text-align: right;\n",
              "    }\n",
              "</style>\n",
              "<table border=\"1\" class=\"dataframe\">\n",
              "  <thead>\n",
              "    <tr style=\"text-align: right;\">\n",
              "      <th></th>\n",
              "      <th>pop_cd</th>\n",
              "      <th>year_month</th>\n",
              "      <th>avg_score</th>\n",
              "      <th>avg_rat</th>\n",
              "      <th>city</th>\n",
              "      <th>sex</th>\n",
              "      <th>ages</th>\n",
              "      <th>population</th>\n",
              "      <th>num_opencard</th>\n",
              "      <th>num_usecard</th>\n",
              "      <th>monthly_card_spend</th>\n",
              "      <th>monthly_lc</th>\n",
              "      <th>monthly_loan</th>\n",
              "      <th>monthly_bk_loan</th>\n",
              "      <th>monthly_cd_loan</th>\n",
              "      <th>monthly_installments_loan</th>\n",
              "      <th>monthly_insurance_loan</th>\n",
              "      <th>monthly_sbk_loan</th>\n",
              "      <th>loan_commitment</th>\n",
              "      <th>inst_rep_loanb</th>\n",
              "      <th>ls_rep_loanb</th>\n",
              "      <th>credit_loan</th>\n",
              "      <th>mortgage_loan</th>\n",
              "      <th>credit_card_payment</th>\n",
              "      <th>credit_card_installments_payment</th>\n",
              "    </tr>\n",
              "  </thead>\n",
              "  <tbody>\n",
              "    <tr>\n",
              "      <th>0</th>\n",
              "      <td>L011</td>\n",
              "      <td>2016-01-01</td>\n",
              "      <td>812</td>\n",
              "      <td>2</td>\n",
              "      <td>서울</td>\n",
              "      <td>전체</td>\n",
              "      <td>10.0</td>\n",
              "      <td>55000</td>\n",
              "      <td>1.44</td>\n",
              "      <td>1.13</td>\n",
              "      <td>70000</td>\n",
              "      <td>92630000</td>\n",
              "      <td>87350000</td>\n",
              "      <td>85790000</td>\n",
              "      <td>0</td>\n",
              "      <td>0</td>\n",
              "      <td>0</td>\n",
              "      <td>0</td>\n",
              "      <td>1120000</td>\n",
              "      <td>8210000</td>\n",
              "      <td>78020000</td>\n",
              "      <td>92170000</td>\n",
              "      <td>87260000</td>\n",
              "      <td>0</td>\n",
              "      <td>0</td>\n",
              "    </tr>\n",
              "    <tr>\n",
              "      <th>1</th>\n",
              "      <td>L011</td>\n",
              "      <td>2016-02-01</td>\n",
              "      <td>773</td>\n",
              "      <td>4</td>\n",
              "      <td>서울</td>\n",
              "      <td>전체</td>\n",
              "      <td>10.0</td>\n",
              "      <td>380000</td>\n",
              "      <td>1.71</td>\n",
              "      <td>0.96</td>\n",
              "      <td>170000</td>\n",
              "      <td>31140000</td>\n",
              "      <td>28910000</td>\n",
              "      <td>25850000</td>\n",
              "      <td>190000</td>\n",
              "      <td>510000</td>\n",
              "      <td>220000</td>\n",
              "      <td>1020000</td>\n",
              "      <td>680000</td>\n",
              "      <td>4660000</td>\n",
              "      <td>23300000</td>\n",
              "      <td>8260000</td>\n",
              "      <td>42410000</td>\n",
              "      <td>4000</td>\n",
              "      <td>1000</td>\n",
              "    </tr>\n",
              "    <tr>\n",
              "      <th>2</th>\n",
              "      <td>L011</td>\n",
              "      <td>2016-03-01</td>\n",
              "      <td>771</td>\n",
              "      <td>4</td>\n",
              "      <td>서울</td>\n",
              "      <td>전체</td>\n",
              "      <td>10.0</td>\n",
              "      <td>387000</td>\n",
              "      <td>1.75</td>\n",
              "      <td>0.95</td>\n",
              "      <td>190000</td>\n",
              "      <td>30230000</td>\n",
              "      <td>28180000</td>\n",
              "      <td>25110000</td>\n",
              "      <td>170000</td>\n",
              "      <td>490000</td>\n",
              "      <td>210000</td>\n",
              "      <td>1140000</td>\n",
              "      <td>640000</td>\n",
              "      <td>4370000</td>\n",
              "      <td>22930000</td>\n",
              "      <td>8300000</td>\n",
              "      <td>41710000</td>\n",
              "      <td>3000</td>\n",
              "      <td>1000</td>\n",
              "    </tr>\n",
              "    <tr>\n",
              "      <th>3</th>\n",
              "      <td>L011</td>\n",
              "      <td>2016-04-01</td>\n",
              "      <td>770</td>\n",
              "      <td>4</td>\n",
              "      <td>서울</td>\n",
              "      <td>전체</td>\n",
              "      <td>10.0</td>\n",
              "      <td>412000</td>\n",
              "      <td>1.76</td>\n",
              "      <td>0.92</td>\n",
              "      <td>200000</td>\n",
              "      <td>30430000</td>\n",
              "      <td>27710000</td>\n",
              "      <td>24630000</td>\n",
              "      <td>190000</td>\n",
              "      <td>510000</td>\n",
              "      <td>240000</td>\n",
              "      <td>1340000</td>\n",
              "      <td>510000</td>\n",
              "      <td>4770000</td>\n",
              "      <td>22160000</td>\n",
              "      <td>9460000</td>\n",
              "      <td>41040000</td>\n",
              "      <td>4000</td>\n",
              "      <td>1000</td>\n",
              "    </tr>\n",
              "    <tr>\n",
              "      <th>4</th>\n",
              "      <td>L011</td>\n",
              "      <td>2016-05-01</td>\n",
              "      <td>771</td>\n",
              "      <td>4</td>\n",
              "      <td>서울</td>\n",
              "      <td>전체</td>\n",
              "      <td>10.0</td>\n",
              "      <td>414000</td>\n",
              "      <td>1.75</td>\n",
              "      <td>0.94</td>\n",
              "      <td>170000</td>\n",
              "      <td>31210000</td>\n",
              "      <td>27620000</td>\n",
              "      <td>24390000</td>\n",
              "      <td>210000</td>\n",
              "      <td>490000</td>\n",
              "      <td>340000</td>\n",
              "      <td>1490000</td>\n",
              "      <td>640000</td>\n",
              "      <td>4740000</td>\n",
              "      <td>21960000</td>\n",
              "      <td>9660000</td>\n",
              "      <td>40850000</td>\n",
              "      <td>3000</td>\n",
              "      <td>1000</td>\n",
              "    </tr>\n",
              "  </tbody>\n",
              "</table>\n",
              "</div>"
            ],
            "text/plain": [
              "  pop_cd year_month  ...  credit_card_payment  credit_card_installments_payment\n",
              "0   L011 2016-01-01  ...                    0                                 0\n",
              "1   L011 2016-02-01  ...                 4000                              1000\n",
              "2   L011 2016-03-01  ...                 3000                              1000\n",
              "3   L011 2016-04-01  ...                 4000                              1000\n",
              "4   L011 2016-05-01  ...                 3000                              1000\n",
              "\n",
              "[5 rows x 25 columns]"
            ]
          },
          "metadata": {
            "tags": []
          },
          "execution_count": 55
        }
      ]
    }
  ]
}