{
  "nbformat": 4,
  "nbformat_minor": 0,
  "metadata": {
    "colab": {
      "name": "퇴근시간 버스승차인원예측 1등 코드 분석",
      "provenance": [],
      "authorship_tag": "ABX9TyNaDlF/9GSMZgr07iOQt7xf",
      "include_colab_link": true
    },
    "kernelspec": {
      "name": "python3",
      "display_name": "Python 3"
    }
  },
  "cells": [
    {
      "cell_type": "markdown",
      "metadata": {
        "id": "view-in-github",
        "colab_type": "text"
      },
      "source": [
        "<a href=\"https://colab.research.google.com/github/Sejong-Kaggle-Challengers/jeongmin/blob/main/%ED%87%B4%EA%B7%BC%EC%8B%9C%EA%B0%84_%EB%B2%84%EC%8A%A4%EC%8A%B9%EC%B0%A8%EC%9D%B8%EC%9B%90%EC%98%88%EC%B8%A1_1%EB%93%B1_%EC%BD%94%EB%93%9C_%EB%B6%84%EC%84%9D.ipynb\" target=\"_parent\"><img src=\"https://colab.research.google.com/assets/colab-badge.svg\" alt=\"Open In Colab\"/></a>"
      ]
    },
    {
      "cell_type": "markdown",
      "metadata": {
        "id": "YtWuAOxrdbWv"
      },
      "source": [
        "#날씨데이터 크롤링\r\n",
        "- 2019년 9월 1일부터 2019년 10월 16일 \r\n",
        "- 오전 10시 관측 데이터\r\n",
        "- http://www.weather.go.kr/"
      ]
    },
    {
      "cell_type": "code",
      "metadata": {
        "colab": {
          "base_uri": "https://localhost:8080/"
        },
        "id": "xFI7B5uUCAPH",
        "outputId": "03b34eea-4882-436d-b58a-b4e3ddb1cc23"
      },
      "source": [
        "!pip install selenium"
      ],
      "execution_count": 1,
      "outputs": [
        {
          "output_type": "stream",
          "text": [
            "Collecting selenium\n",
            "\u001b[?25l  Downloading https://files.pythonhosted.org/packages/80/d6/4294f0b4bce4de0abf13e17190289f9d0613b0a44e5dd6a7f5ca98459853/selenium-3.141.0-py2.py3-none-any.whl (904kB)\n",
            "\r\u001b[K     |▍                               | 10kB 15.0MB/s eta 0:00:01\r\u001b[K     |▊                               | 20kB 10.6MB/s eta 0:00:01\r\u001b[K     |█                               | 30kB 6.5MB/s eta 0:00:01\r\u001b[K     |█▌                              | 40kB 3.1MB/s eta 0:00:01\r\u001b[K     |█▉                              | 51kB 3.8MB/s eta 0:00:01\r\u001b[K     |██▏                             | 61kB 4.2MB/s eta 0:00:01\r\u001b[K     |██▌                             | 71kB 4.5MB/s eta 0:00:01\r\u001b[K     |███                             | 81kB 4.6MB/s eta 0:00:01\r\u001b[K     |███▎                            | 92kB 5.0MB/s eta 0:00:01\r\u001b[K     |███▋                            | 102kB 5.3MB/s eta 0:00:01\r\u001b[K     |████                            | 112kB 5.3MB/s eta 0:00:01\r\u001b[K     |████▍                           | 122kB 5.3MB/s eta 0:00:01\r\u001b[K     |████▊                           | 133kB 5.3MB/s eta 0:00:01\r\u001b[K     |█████                           | 143kB 5.3MB/s eta 0:00:01\r\u001b[K     |█████▍                          | 153kB 5.3MB/s eta 0:00:01\r\u001b[K     |█████▉                          | 163kB 5.3MB/s eta 0:00:01\r\u001b[K     |██████▏                         | 174kB 5.3MB/s eta 0:00:01\r\u001b[K     |██████▌                         | 184kB 5.3MB/s eta 0:00:01\r\u001b[K     |██████▉                         | 194kB 5.3MB/s eta 0:00:01\r\u001b[K     |███████▎                        | 204kB 5.3MB/s eta 0:00:01\r\u001b[K     |███████▋                        | 215kB 5.3MB/s eta 0:00:01\r\u001b[K     |████████                        | 225kB 5.3MB/s eta 0:00:01\r\u001b[K     |████████▎                       | 235kB 5.3MB/s eta 0:00:01\r\u001b[K     |████████▊                       | 245kB 5.3MB/s eta 0:00:01\r\u001b[K     |█████████                       | 256kB 5.3MB/s eta 0:00:01\r\u001b[K     |█████████▍                      | 266kB 5.3MB/s eta 0:00:01\r\u001b[K     |█████████▉                      | 276kB 5.3MB/s eta 0:00:01\r\u001b[K     |██████████▏                     | 286kB 5.3MB/s eta 0:00:01\r\u001b[K     |██████████▌                     | 296kB 5.3MB/s eta 0:00:01\r\u001b[K     |██████████▉                     | 307kB 5.3MB/s eta 0:00:01\r\u001b[K     |███████████▎                    | 317kB 5.3MB/s eta 0:00:01\r\u001b[K     |███████████▋                    | 327kB 5.3MB/s eta 0:00:01\r\u001b[K     |████████████                    | 337kB 5.3MB/s eta 0:00:01\r\u001b[K     |████████████▎                   | 348kB 5.3MB/s eta 0:00:01\r\u001b[K     |████████████▊                   | 358kB 5.3MB/s eta 0:00:01\r\u001b[K     |█████████████                   | 368kB 5.3MB/s eta 0:00:01\r\u001b[K     |█████████████▍                  | 378kB 5.3MB/s eta 0:00:01\r\u001b[K     |█████████████▊                  | 389kB 5.3MB/s eta 0:00:01\r\u001b[K     |██████████████▏                 | 399kB 5.3MB/s eta 0:00:01\r\u001b[K     |██████████████▌                 | 409kB 5.3MB/s eta 0:00:01\r\u001b[K     |██████████████▉                 | 419kB 5.3MB/s eta 0:00:01\r\u001b[K     |███████████████▏                | 430kB 5.3MB/s eta 0:00:01\r\u001b[K     |███████████████▋                | 440kB 5.3MB/s eta 0:00:01\r\u001b[K     |████████████████                | 450kB 5.3MB/s eta 0:00:01\r\u001b[K     |████████████████▎               | 460kB 5.3MB/s eta 0:00:01\r\u001b[K     |████████████████▋               | 471kB 5.3MB/s eta 0:00:01\r\u001b[K     |█████████████████               | 481kB 5.3MB/s eta 0:00:01\r\u001b[K     |█████████████████▍              | 491kB 5.3MB/s eta 0:00:01\r\u001b[K     |█████████████████▊              | 501kB 5.3MB/s eta 0:00:01\r\u001b[K     |██████████████████▏             | 512kB 5.3MB/s eta 0:00:01\r\u001b[K     |██████████████████▌             | 522kB 5.3MB/s eta 0:00:01\r\u001b[K     |██████████████████▉             | 532kB 5.3MB/s eta 0:00:01\r\u001b[K     |███████████████████▏            | 542kB 5.3MB/s eta 0:00:01\r\u001b[K     |███████████████████▋            | 552kB 5.3MB/s eta 0:00:01\r\u001b[K     |████████████████████            | 563kB 5.3MB/s eta 0:00:01\r\u001b[K     |████████████████████▎           | 573kB 5.3MB/s eta 0:00:01\r\u001b[K     |████████████████████▋           | 583kB 5.3MB/s eta 0:00:01\r\u001b[K     |█████████████████████           | 593kB 5.3MB/s eta 0:00:01\r\u001b[K     |█████████████████████▍          | 604kB 5.3MB/s eta 0:00:01\r\u001b[K     |█████████████████████▊          | 614kB 5.3MB/s eta 0:00:01\r\u001b[K     |██████████████████████          | 624kB 5.3MB/s eta 0:00:01\r\u001b[K     |██████████████████████▌         | 634kB 5.3MB/s eta 0:00:01\r\u001b[K     |██████████████████████▉         | 645kB 5.3MB/s eta 0:00:01\r\u001b[K     |███████████████████████▏        | 655kB 5.3MB/s eta 0:00:01\r\u001b[K     |███████████████████████▌        | 665kB 5.3MB/s eta 0:00:01\r\u001b[K     |████████████████████████        | 675kB 5.3MB/s eta 0:00:01\r\u001b[K     |████████████████████████▎       | 686kB 5.3MB/s eta 0:00:01\r\u001b[K     |████████████████████████▋       | 696kB 5.3MB/s eta 0:00:01\r\u001b[K     |█████████████████████████       | 706kB 5.3MB/s eta 0:00:01\r\u001b[K     |█████████████████████████▍      | 716kB 5.3MB/s eta 0:00:01\r\u001b[K     |█████████████████████████▊      | 727kB 5.3MB/s eta 0:00:01\r\u001b[K     |██████████████████████████      | 737kB 5.3MB/s eta 0:00:01\r\u001b[K     |██████████████████████████▍     | 747kB 5.3MB/s eta 0:00:01\r\u001b[K     |██████████████████████████▉     | 757kB 5.3MB/s eta 0:00:01\r\u001b[K     |███████████████████████████▏    | 768kB 5.3MB/s eta 0:00:01\r\u001b[K     |███████████████████████████▌    | 778kB 5.3MB/s eta 0:00:01\r\u001b[K     |████████████████████████████    | 788kB 5.3MB/s eta 0:00:01\r\u001b[K     |████████████████████████████▎   | 798kB 5.3MB/s eta 0:00:01\r\u001b[K     |████████████████████████████▋   | 808kB 5.3MB/s eta 0:00:01\r\u001b[K     |█████████████████████████████   | 819kB 5.3MB/s eta 0:00:01\r\u001b[K     |█████████████████████████████▍  | 829kB 5.3MB/s eta 0:00:01\r\u001b[K     |█████████████████████████████▊  | 839kB 5.3MB/s eta 0:00:01\r\u001b[K     |██████████████████████████████  | 849kB 5.3MB/s eta 0:00:01\r\u001b[K     |██████████████████████████████▍ | 860kB 5.3MB/s eta 0:00:01\r\u001b[K     |██████████████████████████████▉ | 870kB 5.3MB/s eta 0:00:01\r\u001b[K     |███████████████████████████████▏| 880kB 5.3MB/s eta 0:00:01\r\u001b[K     |███████████████████████████████▌| 890kB 5.3MB/s eta 0:00:01\r\u001b[K     |███████████████████████████████▉| 901kB 5.3MB/s eta 0:00:01\r\u001b[K     |████████████████████████████████| 911kB 5.3MB/s \n",
            "\u001b[?25hRequirement already satisfied: urllib3 in /usr/local/lib/python3.6/dist-packages (from selenium) (1.24.3)\n",
            "Installing collected packages: selenium\n",
            "Successfully installed selenium-3.141.0\n"
          ],
          "name": "stdout"
        }
      ]
    },
    {
      "cell_type": "code",
      "metadata": {
        "colab": {
          "base_uri": "https://localhost:8080/"
        },
        "id": "sGewLXn_CGbp",
        "outputId": "0ce34c5e-4183-46db-f78a-5866bf489e13"
      },
      "source": [
        "!apt-get update # apt install을 정확히 실행하기 위해 설치된 패키지 업데이트\r\n",
        "!apt install chromium-chromedriver #패키지 설치\r\n",
        "!cp /usr/lib/chromium-browser/chromedriver /usr/bin\r\n",
        "\r\n",
        "#cp : 유닉스 셸에서 한 파일을 어떤 장소에서 다른 장소로 또는 다른 파일 시스템으로 옮길때 사용하는 명령어\r\n",
        "#/usr/lib/chromium-browser/chromedriver 파일을 /usr/bin로 복사한다."
      ],
      "execution_count": 2,
      "outputs": [
        {
          "output_type": "stream",
          "text": [
            "Get:1 https://cloud.r-project.org/bin/linux/ubuntu bionic-cran40/ InRelease [3,626 B]\n",
            "Ign:2 https://developer.download.nvidia.com/compute/cuda/repos/ubuntu1804/x86_64  InRelease\n",
            "Get:3 https://cloud.r-project.org/bin/linux/ubuntu bionic-cran40/ Packages [44.4 kB]\n",
            "Ign:4 https://developer.download.nvidia.com/compute/machine-learning/repos/ubuntu1804/x86_64  InRelease\n",
            "Get:5 https://developer.download.nvidia.com/compute/cuda/repos/ubuntu1804/x86_64  Release [697 B]\n",
            "Hit:6 https://developer.download.nvidia.com/compute/machine-learning/repos/ubuntu1804/x86_64  Release\n",
            "Hit:7 http://archive.ubuntu.com/ubuntu bionic InRelease\n",
            "Get:8 http://ppa.launchpad.net/c2d4u.team/c2d4u4.0+/ubuntu bionic InRelease [15.9 kB]\n",
            "Get:9 http://security.ubuntu.com/ubuntu bionic-security InRelease [88.7 kB]\n",
            "Get:10 https://developer.download.nvidia.com/compute/cuda/repos/ubuntu1804/x86_64  Release.gpg [836 B]\n",
            "Get:12 http://archive.ubuntu.com/ubuntu bionic-updates InRelease [88.7 kB]\n",
            "Hit:13 http://ppa.launchpad.net/cran/libgit2/ubuntu bionic InRelease\n",
            "Ign:14 https://developer.download.nvidia.com/compute/cuda/repos/ubuntu1804/x86_64  Packages\n",
            "Get:14 https://developer.download.nvidia.com/compute/cuda/repos/ubuntu1804/x86_64  Packages [549 kB]\n",
            "Get:15 http://archive.ubuntu.com/ubuntu bionic-backports InRelease [74.6 kB]\n",
            "Get:16 http://ppa.launchpad.net/graphics-drivers/ppa/ubuntu bionic InRelease [21.3 kB]\n",
            "Get:17 http://security.ubuntu.com/ubuntu bionic-security/restricted amd64 Packages [291 kB]\n",
            "Get:18 http://archive.ubuntu.com/ubuntu bionic-updates/universe amd64 Packages [2,156 kB]\n",
            "Get:19 http://ppa.launchpad.net/c2d4u.team/c2d4u4.0+/ubuntu bionic/main Sources [1,724 kB]\n",
            "Get:20 http://security.ubuntu.com/ubuntu bionic-security/main amd64 Packages [1,908 kB]\n",
            "Get:21 http://security.ubuntu.com/ubuntu bionic-security/universe amd64 Packages [1,383 kB]\n",
            "Get:22 http://archive.ubuntu.com/ubuntu bionic-updates/multiverse amd64 Packages [42.6 kB]\n",
            "Get:23 http://archive.ubuntu.com/ubuntu bionic-updates/main amd64 Packages [2,348 kB]\n",
            "Get:24 http://archive.ubuntu.com/ubuntu bionic-updates/restricted amd64 Packages [323 kB]\n",
            "Get:25 http://ppa.launchpad.net/c2d4u.team/c2d4u4.0+/ubuntu bionic/main amd64 Packages [882 kB]\n",
            "Get:26 http://ppa.launchpad.net/graphics-drivers/ppa/ubuntu bionic/main amd64 Packages [49.2 kB]\n",
            "Fetched 12.0 MB in 6s (1,863 kB/s)\n",
            "Reading package lists... Done\n",
            "Reading package lists... Done\n",
            "Building dependency tree       \n",
            "Reading state information... Done\n",
            "The following additional packages will be installed:\n",
            "  chromium-browser chromium-browser-l10n chromium-codecs-ffmpeg-extra\n",
            "Suggested packages:\n",
            "  webaccounts-chromium-extension unity-chromium-extension adobe-flashplugin\n",
            "The following NEW packages will be installed:\n",
            "  chromium-browser chromium-browser-l10n chromium-chromedriver\n",
            "  chromium-codecs-ffmpeg-extra\n",
            "0 upgraded, 4 newly installed, 0 to remove and 51 not upgraded.\n",
            "Need to get 81.0 MB of archives.\n",
            "After this operation, 273 MB of additional disk space will be used.\n",
            "Get:1 http://archive.ubuntu.com/ubuntu bionic-updates/universe amd64 chromium-codecs-ffmpeg-extra amd64 87.0.4280.66-0ubuntu0.18.04.1 [1,122 kB]\n",
            "Get:2 http://archive.ubuntu.com/ubuntu bionic-updates/universe amd64 chromium-browser amd64 87.0.4280.66-0ubuntu0.18.04.1 [71.7 MB]\n",
            "Get:3 http://archive.ubuntu.com/ubuntu bionic-updates/universe amd64 chromium-browser-l10n all 87.0.4280.66-0ubuntu0.18.04.1 [3,716 kB]\n",
            "Get:4 http://archive.ubuntu.com/ubuntu bionic-updates/universe amd64 chromium-chromedriver amd64 87.0.4280.66-0ubuntu0.18.04.1 [4,488 kB]\n",
            "Fetched 81.0 MB in 9s (8,942 kB/s)\n",
            "Selecting previously unselected package chromium-codecs-ffmpeg-extra.\n",
            "(Reading database ... 146374 files and directories currently installed.)\n",
            "Preparing to unpack .../chromium-codecs-ffmpeg-extra_87.0.4280.66-0ubuntu0.18.04.1_amd64.deb ...\n",
            "Unpacking chromium-codecs-ffmpeg-extra (87.0.4280.66-0ubuntu0.18.04.1) ...\n",
            "Selecting previously unselected package chromium-browser.\n",
            "Preparing to unpack .../chromium-browser_87.0.4280.66-0ubuntu0.18.04.1_amd64.deb ...\n",
            "Unpacking chromium-browser (87.0.4280.66-0ubuntu0.18.04.1) ...\n",
            "Selecting previously unselected package chromium-browser-l10n.\n",
            "Preparing to unpack .../chromium-browser-l10n_87.0.4280.66-0ubuntu0.18.04.1_all.deb ...\n",
            "Unpacking chromium-browser-l10n (87.0.4280.66-0ubuntu0.18.04.1) ...\n",
            "Selecting previously unselected package chromium-chromedriver.\n",
            "Preparing to unpack .../chromium-chromedriver_87.0.4280.66-0ubuntu0.18.04.1_amd64.deb ...\n",
            "Unpacking chromium-chromedriver (87.0.4280.66-0ubuntu0.18.04.1) ...\n",
            "Setting up chromium-codecs-ffmpeg-extra (87.0.4280.66-0ubuntu0.18.04.1) ...\n",
            "Setting up chromium-browser (87.0.4280.66-0ubuntu0.18.04.1) ...\n",
            "update-alternatives: using /usr/bin/chromium-browser to provide /usr/bin/x-www-browser (x-www-browser) in auto mode\n",
            "update-alternatives: using /usr/bin/chromium-browser to provide /usr/bin/gnome-www-browser (gnome-www-browser) in auto mode\n",
            "Setting up chromium-chromedriver (87.0.4280.66-0ubuntu0.18.04.1) ...\n",
            "Setting up chromium-browser-l10n (87.0.4280.66-0ubuntu0.18.04.1) ...\n",
            "Processing triggers for hicolor-icon-theme (0.17-2) ...\n",
            "Processing triggers for mime-support (3.60ubuntu1) ...\n",
            "Processing triggers for man-db (2.8.3-2ubuntu0.1) ...\n",
            "cp: '/usr/lib/chromium-browser/chromedriver' and '/usr/bin/chromedriver' are the same file\n"
          ],
          "name": "stdout"
        }
      ]
    },
    {
      "cell_type": "code",
      "metadata": {
        "colab": {
          "base_uri": "https://localhost:8080/"
        },
        "id": "3Uf_BB5ZCQaj",
        "outputId": "6512ae89-fc62-4fa5-953e-98cfe690fb51"
      },
      "source": [
        "'''\r\n",
        "다른 폴더(경로)에 있는 python 파일 import\r\n",
        "경로를 환경변수로 지정 --> 경로를 환경변수로 설정하게 해주면 그 경로 안의 프로그램을 실행시킬 때 마다\r\n",
        "경로를 매번 입력하지 않아도 된다.\r\n",
        "'''\r\n",
        "import sys\r\n",
        "sys.path.insert(0,'/usr/lib/chromium-browser/chromedriver')\r\n",
        "\r\n",
        "from selenium import webdriver\r\n",
        "#chrome의 option 설정\r\n",
        "'''\r\n",
        "Chrome Headless \r\n",
        ": Chrome 브라우저를 GUI 없이 사용할 수 있는 모드\r\n",
        "리눅스 서버와 같이 GUI를 제공하지 않는 환경에서 '--no-sandbox' 옵션 추가\r\n",
        "disable-dev-shm-usage도 마찬가지로 GUI를 사용할 수 없어서 추가하는 것 같다.\r\n",
        "참고 : https://go-madhat.github.io/chrome-headless/\r\n",
        "'''\r\n",
        "chrome_options = webdriver.ChromeOptions()\r\n",
        "chrome_options.add_argument('--headless') #chrome 창이 나오지 않게 해준다.\r\n",
        "chrome_options.add_argument('--no-sandbox')\r\n",
        "chrome_options.add_argument('--disable-dev-shm-usage')\r\n",
        "\r\n",
        "#1등 코드에서의 browser == driver\r\n",
        "driver = webdriver.Chrome('chromedriver', chrome_options=chrome_options)"
      ],
      "execution_count": 3,
      "outputs": [
        {
          "output_type": "stream",
          "text": [
            "/usr/local/lib/python3.6/dist-packages/ipykernel_launcher.py:24: DeprecationWarning: use options instead of chrome_options\n"
          ],
          "name": "stderr"
        }
      ]
    },
    {
      "cell_type": "code",
      "metadata": {
        "id": "inT0xJURBD0J"
      },
      "source": [
        "import pandas as pd\r\n",
        "import time\r\n",
        "\r\n",
        "def crawl_weather() :\r\n",
        "  weather_data_10 = pd.DataFrame(columns = ['현재일기_10','현재기온_10','체감온도_10','일강수_10'])\r\n",
        "  url = 'http://www.weather.go.kr/weather/observation/currentweather.jsp?auto_man=m&type=t99&reg=184&tm=2019.10.25.16%3A00&x=19&y=7'\r\n",
        "  driver.get(url)\r\n",
        "\r\n",
        "  for i in range(0, 46):\r\n",
        "    i+=1\r\n",
        "\r\n",
        "    #id를 찾고 그 공간을 비운 후 새로운 값을 넣어준다 (날짜값,10시)\r\n",
        "    elem = driver.find_element_by_id('observation_text')\r\n",
        "    elem.clear()\r\n",
        "    elem.send_keys(\"2019.9.{}.10:00\".format(i))\r\n",
        "\r\n",
        "    btn = driver.find_elements_by_class_name('btn')\r\n",
        "    btn[2].click()\r\n",
        "\r\n",
        "    time.sleep(1)\r\n",
        "    weathers = driver.find_elements_by_css_selector('td')\r\n",
        "    weather_data_10 = weather_data_10.append(pd.DataFrame([[weathers[40].text,weathers[44].text, weathers[46].text, weathers[47].text]],columns=['현재일기_10','현재기온_10','체감온도_10','일강수_10']))\r\n",
        "\r\n",
        "  print('success !')\r\n",
        "  driver.close()\r\n",
        "\r\n",
        "  return weather_data_10"
      ],
      "execution_count": 4,
      "outputs": []
    },
    {
      "cell_type": "code",
      "metadata": {
        "colab": {
          "base_uri": "https://localhost:8080/"
        },
        "id": "Ia4Mt6AOdaLP",
        "outputId": "22e8652d-b0ba-431e-ab6a-d7dd557161e4"
      },
      "source": [
        "weather_data = crawl_weather()\r\n",
        "weather_data.to_csv('weather.csv', index = False)\r\n",
        "\r\n",
        "print('save.. !')\r\n",
        "\r\n",
        "weather_data = pd.read_csv('weather.csv')"
      ],
      "execution_count": 5,
      "outputs": [
        {
          "output_type": "stream",
          "text": [
            "success !\n",
            "save.. !\n"
          ],
          "name": "stdout"
        }
      ]
    },
    {
      "cell_type": "markdown",
      "metadata": {
        "id": "KAWLOOLadfRm"
      },
      "source": [
        "# 라이브러리 및 데이터"
      ]
    },
    {
      "cell_type": "code",
      "metadata": {
        "colab": {
          "base_uri": "https://localhost:8080/"
        },
        "id": "HBTJBHAgdtHB",
        "outputId": "695973b1-2ea1-4643-af92-0f805cc9e42a"
      },
      "source": [
        "!unzip data13.zip"
      ],
      "execution_count": 6,
      "outputs": [
        {
          "output_type": "stream",
          "text": [
            "Archive:  data13.zip\n",
            "  inflating: 행정_법정동 중심좌표.xlsx  \n",
            "  inflating: test.csv                \n",
            "  inflating: train.csv               \n",
            "  inflating: submission_sample.csv   \n",
            "  inflating: bus_bts.csv             \n"
          ],
          "name": "stdout"
        }
      ]
    },
    {
      "cell_type": "code",
      "metadata": {
        "id": "1QNEfWvNdhKT"
      },
      "source": [
        "# base\r\n",
        "import os\r\n",
        "import shutil\r\n",
        "import random\r\n",
        "import numpy as np\r\n",
        "import time\r\n",
        "from collections import Counter\r\n",
        "from sklearn.metrics import mean_squared_error\r\n",
        "\r\n",
        "# data preprocessing\r\n",
        "import pandas as pd\r\n",
        "pd.set_option('max_columns', 130, 'max_rows', 30)\r\n",
        "\r\n",
        "# visualization\r\n",
        "import seaborn as sns\r\n",
        "import matplotlib.pyplot as plt\r\n",
        "%matplotlib inline\r\n",
        "plt.rc('font', family='Malgun Gothic')\r\n",
        "plt.rc('axes', unicode_minus=False)\r\n",
        "\r\n",
        "# ignore warining\r\n",
        "import warnings\r\n",
        "warnings.filterwarnings('ignore')\r\n",
        "\r\n",
        "\r\n",
        "import folium # 지도 관련 시각화\r\n",
        "from folium.plugins import MarkerCluster #지도 관련 시각화\r\n",
        "import geopy.distance #거리 계산해주는 패키지 사용\r\n",
        "\r\n",
        "\r\n",
        "# save\r\n",
        "from sklearn.externals import joblib \r\n",
        "import pickle\r\n",
        "\r\n",
        "# selenium\r\n",
        "from selenium.webdriver import Chrome\r\n",
        "\r\n",
        "import geopy.distance\r\n",
        "\r\n",
        "from sklearn.preprocessing import LabelEncoder\r\n",
        "from sklearn.preprocessing import StandardScaler\r\n",
        "from sklearn.model_selection import GridSearchCV\r\n",
        "from sklearn.ensemble import RandomForestRegressor\r\n",
        "\r\n",
        "import seaborn as sns\r\n",
        "import matplotlib.pyplot as plt\r\n",
        "%matplotlib inline\r\n",
        "from sklearn.externals import joblib \r\n",
        "import pickle\r\n",
        "\r\n",
        "import random\r\n",
        "random.seed(42)\r\n",
        "\r\n",
        "import lightgbm as lgb\r\n",
        "from keras import metrics\r\n",
        "from sklearn.metrics import r2_score"
      ],
      "execution_count": 7,
      "outputs": []
    },
    {
      "cell_type": "code",
      "metadata": {
        "colab": {
          "base_uri": "https://localhost:8080/"
        },
        "id": "i_E5xdbtg6gu",
        "outputId": "0fe0990b-fde5-48d6-9a72-a478df0a8dab"
      },
      "source": [
        "train = pd.read_csv(\"train.csv\")\r\n",
        "test = pd.read_csv(\"test.csv\")\r\n",
        "bts = pd.read_csv(\"bus_bts.csv\")\r\n",
        "\r\n",
        "train.shape, test.shape, bts.shape"
      ],
      "execution_count": 8,
      "outputs": [
        {
          "output_type": "execute_result",
          "data": {
            "text/plain": [
              "((415423, 21), (228170, 20), (2409414, 13))"
            ]
          },
          "metadata": {
            "tags": []
          },
          "execution_count": 8
        }
      ]
    },
    {
      "cell_type": "markdown",
      "metadata": {
        "id": "T-kurNOphRHw"
      },
      "source": [
        "#데이터 전처리"
      ]
    },
    {
      "cell_type": "code",
      "metadata": {
        "id": "aD59pcVnhTMS"
      },
      "source": [
        "#weekday(요일) 변환\r\n",
        "train['date'] = pd.to_datetime(train['date'])\r\n",
        "train['weekday'] = train['date'].dt.weekday\r\n",
        "\r\n",
        "test['date'] = pd.to_datetime(test['date'])\r\n",
        "test['weekday'] = test['date'].dt.weekday"
      ],
      "execution_count": 9,
      "outputs": []
    },
    {
      "cell_type": "code",
      "metadata": {
        "id": "4O1HWZFzh3BK"
      },
      "source": [
        "#route_station = bus_route_id(노선ID) + station_code(해당 승하차 정류소의 ID)\r\n",
        "train['bus_route_id'] = train['bus_route_id'].astype(str)\r\n",
        "train['station_code'] = train['station_code'].astype(str)\r\n",
        "train['route_station'] = train['bus_route_id'] + ',' + train['station_code']\r\n",
        "\r\n",
        "test['bus_route_id'] = test['bus_route_id'].astype(str)\r\n",
        "test['station_code'] = test['station_code'].astype(str)\r\n",
        "test['route_station'] = test['bus_route_id'] + ',' + test['station_code']"
      ],
      "execution_count": 10,
      "outputs": []
    },
    {
      "cell_type": "code",
      "metadata": {
        "id": "f-Z0NEMYiYbt"
      },
      "source": [
        "#bus_route_id_weekday = bus_route_id(노선ID) + weekday(요일)\r\n",
        "train['bus_route_id_weekday'] = train['bus_route_id'].astype(str) + ',' + train['weekday'].astype(str) \r\n",
        "test['bus_route_id_weekday'] = test['bus_route_id'].astype(str) + ',' + test['weekday'].astype(str) "
      ],
      "execution_count": 11,
      "outputs": []
    },
    {
      "cell_type": "code",
      "metadata": {
        "id": "-kUrI5x0invn"
      },
      "source": [
        "#station_code_weekday = station_code(해당 승하차 정류소의 ID) + weekday(요일)\r\n",
        "train['station_code_weekday'] = train['station_code'].astype(str) + ',' + train['weekday'].astype(str)\r\n",
        "test['station_code_weekday'] = test['station_code'].astype(str) + ',' + test['weekday'].astype(str)"
      ],
      "execution_count": 12,
      "outputs": []
    },
    {
      "cell_type": "code",
      "metadata": {
        "id": "EY99XAPZjKY_"
      },
      "source": [
        "#route_station_weekday = route_station(노선+정류소 ID) + weekday(요일) \r\n",
        "train['route_station_weekday'] = train['route_station'].astype(str) + ',' + train['weekday'].astype(str) \r\n",
        "test['route_station_weekday'] = test['route_station'].astype(str) + ',' + test['weekday'].astype(str)"
      ],
      "execution_count": 13,
      "outputs": []
    },
    {
      "cell_type": "code",
      "metadata": {
        "id": "swjUoZCLm1o7"
      },
      "source": [
        "#승하차 시간대 통합변수 ---> 1시간대 승/하차인원을 합하여 t~t+2 시간대 승/하차인원 변수를 만듬\r\n",
        "train['68a']=train['6~7_ride']+train['7~8_ride'] \r\n",
        "train['810a']=train['8~9_ride']+train['9~10_ride']\r\n",
        "train['1012a']=train['10~11_ride']+train['11~12_ride']\r\n",
        "\r\n",
        "train['68b']=train['6~7_takeoff']+train['7~8_takeoff'] \r\n",
        "train['810b']=train['8~9_takeoff']+train['9~10_takeoff']\r\n",
        "train['1012b']=train['10~11_takeoff']+train['11~12_takeoff']\r\n",
        "\r\n",
        "test['68a']=test['6~7_ride']+test['7~8_ride']\r\n",
        "test['810a']=test['8~9_ride']+test['9~10_ride']\r\n",
        "test['1012a']=test['10~11_ride']+test['11~12_ride']\r\n",
        "\r\n",
        "test['68b']=test['6~7_takeoff']+test['7~8_takeoff']\r\n",
        "test['810b']=test['8~9_takeoff']+test['9~10_takeoff']\r\n",
        "test['1012b']=test['10~11_takeoff']+test['11~12_takeoff']"
      ],
      "execution_count": 14,
      "outputs": []
    },
    {
      "cell_type": "markdown",
      "metadata": {
        "id": "qcPvZq1hkB5i"
      },
      "source": [
        "##on_time\r\n",
        "bts.csv 데이터에서 geton_time 열에서 시간대만 추출하여 bts.csv 안에 on_time 컬럼을 만듬"
      ]
    },
    {
      "cell_type": "code",
      "metadata": {
        "colab": {
          "base_uri": "https://localhost:8080/"
        },
        "id": "MKC7oTFtkGVI",
        "outputId": "fea49662-62db-43e4-9451-b1b762832213"
      },
      "source": [
        "bts['geton_time']"
      ],
      "execution_count": 15,
      "outputs": [
        {
          "output_type": "execute_result",
          "data": {
            "text/plain": [
              "0          06:34:45\n",
              "1          06:34:58\n",
              "2          07:19:07\n",
              "3          09:14:47\n",
              "4          09:28:53\n",
              "             ...   \n",
              "2409409    07:08:31\n",
              "2409410    07:16:31\n",
              "2409411    08:29:05\n",
              "2409412    08:40:32\n",
              "2409413    08:40:35\n",
              "Name: geton_time, Length: 2409414, dtype: object"
            ]
          },
          "metadata": {
            "tags": []
          },
          "execution_count": 15
        }
      ]
    },
    {
      "cell_type": "code",
      "metadata": {
        "id": "6SDCwlsTjXV8"
      },
      "source": [
        "bts['on_time']  = bts['geton_time'].apply(lambda x : x[:2])\r\n",
        "\r\n",
        "#13은 on_time 행\r\n",
        "bts.iloc[bts.query('on_time == \"06\"').index,13] = '6~7_ride'\r\n",
        "bts.iloc[bts.query('on_time == \"07\"').index,13] = '7~8_ride'\r\n",
        "bts.iloc[bts.query('on_time == \"08\"').index,13] = '8~9_ride'\r\n",
        "bts.iloc[bts.query('on_time == \"09\"').index,13] = '9~10_ride'\r\n",
        "bts.iloc[bts.query('on_time == \"10\"').index,13] = '10~11_ride'\r\n",
        "bts.iloc[bts.query('on_time == \"11\"').index,13] = '11~12_ride'"
      ],
      "execution_count": 16,
      "outputs": []
    },
    {
      "cell_type": "markdown",
      "metadata": {
        "id": "3uS5XUfDnmaj"
      },
      "source": [
        "##Make features by using target variable\r\n",
        "최종적으로 예측해야할 것은 각 일자별(date), 버스 노선(bus_route_id) 상의 정류장(station_name)의 퇴근시간 승차인원(18~20_ride)이다.\r\n",
        "- bus_route_id, station_name, weekday의 각 조합별 퇴근시간 하차인원(18~20_ride)의 여러 통계량을 구한 후 이를 train set, test set에 모두 적용한다.\r\n",
        "- target 변수를 train, test set에 적용할 수 있는 이유는 우리가 예측해야할 id는 date, bus_rout_id, station_name으로 구성되어있기 때문이다. 즉, 각각의 노선, 정류장별로 공통적인 패턴이 존재할 수 있다.\r\n",
        "- 이 과정에서 NA 값이 생기는 이유는 train set에 없는 bus_route_id, station_name이 존재하기 때문"
      ]
    },
    {
      "cell_type": "code",
      "metadata": {
        "id": "6VGUyImzmtQd"
      },
      "source": [
        "#각 행(ID)별 '18~20_ride'의 mean과 sum을 구하고 ID에 맞춰서 행에 추가해준다.\r\n",
        "def id_statistic(ID, col1, col2) :\r\n",
        "    \r\n",
        "    # mean, sum\r\n",
        "    rs_mean = train.groupby([ID])['18~20_ride'].agg([(col1, 'mean')]).reset_index()\r\n",
        "    rs_sum = train.groupby([ID])['18~20_ride'].agg([(col2, 'sum')]).reset_index()\r\n",
        "    rs_mean_sum = pd.merge(rs_mean, rs_sum, on=ID)\r\n",
        "\r\n",
        "    # merge\r\n",
        "    tr = pd.merge(train, rs_mean_sum, how='left', on=ID)\r\n",
        "    te = pd.merge(test, rs_mean_sum, how='left', on=ID)\r\n",
        "\r\n",
        "    #test의 nan값 mean으로 채워주기\r\n",
        "    # na -&gt; mean\r\n",
        "    te[col1] = te[col1].fillna(rs_mean.mean())\r\n",
        "    te[col1] = te[col1].fillna(rs_sum.mean())\r\n",
        "    \r\n",
        "    return tr, te"
      ],
      "execution_count": 17,
      "outputs": []
    },
    {
      "cell_type": "code",
      "metadata": {
        "colab": {
          "base_uri": "https://localhost:8080/"
        },
        "id": "FljAVln5vtzv",
        "outputId": "2bee5550-517a-49bb-a1a3-ce25e6cbc7e1"
      },
      "source": [
        "#route_station, bus_route_id, station_code, weekday에 대해서 실행\r\n",
        "train, test = id_statistic('route_station', '1820_rs_mean', '1820_rs_sum')\r\n",
        "train, test = id_statistic('bus_route_id', '1820_r_mean', '1820_r_sum')\r\n",
        "train, test = id_statistic('station_code', '1820_s_mean', '1820_s_sum')\r\n",
        "train, test = id_statistic('weekday', '1820_w_mean', '1820_w_sum')\r\n",
        "train.shape, test.shape"
      ],
      "execution_count": 18,
      "outputs": [
        {
          "output_type": "execute_result",
          "data": {
            "text/plain": [
              "((415423, 40), (228170, 39))"
            ]
          },
          "metadata": {
            "tags": []
          },
          "execution_count": 18
        }
      ]
    },
    {
      "cell_type": "code",
      "metadata": {
        "id": "ZAgumAzkwXY8"
      },
      "source": [
        "#위의 함수와 거의 동일한 것 같다. mean값만 구한다. Nan값 처리가 따로 없다.\r\n",
        "def mean_statistics() :\r\n",
        "\r\n",
        "    f = train.groupby(['bus_route_id_weekday'])['18~20_ride'].agg([('mean_bus_weekday_ride','mean')]).reset_index()\r\n",
        "    tr = pd.merge(train, f, how='left', on='bus_route_id_weekday')\r\n",
        "    te = pd.merge(test, f, how='left', on='bus_route_id_weekday').fillna(f['mean_bus_weekday_ride'].mean())\r\n",
        "    \r\n",
        "    f = train.groupby(['station_code_weekday'])['18~20_ride'].agg([('mean_station_weekday_ride','mean')]).reset_index()\r\n",
        "    tr = pd.merge(tr, f, how='left', on='station_code_weekday')\r\n",
        "    te = pd.merge(te, f, how='left', on='station_code_weekday').fillna(f['mean_station_weekday_ride'].mean())\r\n",
        "    \r\n",
        "    f = train.groupby(['route_station_weekday'])['18~20_ride'].agg([('mean_route_station_weekday_ride','mean')]).reset_index()\r\n",
        "    tr = pd.merge(tr, f, how='left', on='route_station_weekday')\r\n",
        "    te = pd.merge(te, f, how='left', on='route_station_weekday').fillna(f['mean_route_station_weekday_ride'].mean())\r\n",
        "    \r\n",
        "    return tr, te"
      ],
      "execution_count": 19,
      "outputs": []
    },
    {
      "cell_type": "code",
      "metadata": {
        "colab": {
          "base_uri": "https://localhost:8080/"
        },
        "id": "GU1skQVIw2QA",
        "outputId": "96c2a62b-4943-48ab-b996-2d3d7ac27a28"
      },
      "source": [
        "train, test = mean_statistics()\r\n",
        "train.shape, test.shape"
      ],
      "execution_count": 20,
      "outputs": [
        {
          "output_type": "execute_result",
          "data": {
            "text/plain": [
              "((415423, 43), (228170, 42))"
            ]
          },
          "metadata": {
            "tags": []
          },
          "execution_count": 20
        }
      ]
    },
    {
      "cell_type": "markdown",
      "metadata": {
        "id": "Gefv9om0xrF9"
      },
      "source": [
        "###혼잡도 계산"
      ]
    },
    {
      "cell_type": "code",
      "metadata": {
        "id": "7_O1nPPqxtOc"
      },
      "source": [
        "def congestion() :\r\n",
        "    df = train.groupby(['bus_route_id'])['18~20_ride'].agg([('passenger', 'sum')])\r\n",
        "    df = df.sort_values(by='passenger', ascending=False).reset_index()\r\n",
        "    \r\n",
        "    def f(x):\r\n",
        "        if x > 10000:\r\n",
        "            return 7\r\n",
        "        elif x > 5000:\r\n",
        "            return 6\r\n",
        "        elif x > 2000:\r\n",
        "            return 5\r\n",
        "        elif x > 700:\r\n",
        "            return 4\r\n",
        "        elif x > 200:\r\n",
        "            return 3\r\n",
        "        elif x > 50:\r\n",
        "            return 2\r\n",
        "        else:\r\n",
        "            return 1\r\n",
        "    \r\n",
        "    df['congestion']=df['passenger'].apply(f)\r\n",
        "    df = df[['bus_route_id','congestion']]\r\n",
        "    \r\n",
        "    tr = pd.merge(train, df, how='left', on='bus_route_id')\r\n",
        "    te = pd.merge(test, df, how='left', on='bus_route_id')\r\n",
        "    \r\n",
        "    # 결측치는 데이터 프레임 df의 'congestion'의 중간값인 '4'으로 대체\r\n",
        "    te = te.fillna(4)\r\n",
        "    \r\n",
        "    return tr, te"
      ],
      "execution_count": 21,
      "outputs": []
    },
    {
      "cell_type": "code",
      "metadata": {
        "id": "G8poSwLjyx-p"
      },
      "source": [
        "train, test = congestion()"
      ],
      "execution_count": 22,
      "outputs": []
    },
    {
      "cell_type": "markdown",
      "metadata": {
        "id": "HIhhqKLny0rR"
      },
      "source": [
        "#데이터 전처리 이어서"
      ]
    },
    {
      "cell_type": "code",
      "metadata": {
        "id": "gwh78KG7y0CJ"
      },
      "source": [
        "#location = latitude + longitude\r\n",
        "train['location'] = train['latitude'].astype(str) + ',' + train['longitude'].astype(str)\r\n",
        "test['location'] = test['latitude'].astype(str) + ',' + test['longitude'].astype(str)"
      ],
      "execution_count": 23,
      "outputs": []
    },
    {
      "cell_type": "code",
      "metadata": {
        "id": "xPhfaY_OzcMi"
      },
      "source": [
        "#merge key --> train과 test 두개를 합쳐서 하는 곳에서 구분 위해 만든 것 같다.\r\n",
        "# make cue column\r\n",
        "train['cue']=0\r\n",
        "test['cue']=1"
      ],
      "execution_count": 24,
      "outputs": []
    },
    {
      "cell_type": "markdown",
      "metadata": {
        "id": "WtjY1M-Ry76h"
      },
      "source": [
        "## 오전 시간 여러 데이터 활용 변수\r\n",
        "\r\n",
        "오전 시간의 탑승 및 하차 데이터를 활용하여 요약 통계량을 만든다."
      ]
    },
    {
      "cell_type": "code",
      "metadata": {
        "id": "acC5Z5hDyt0k"
      },
      "source": [
        "def morning() :\r\n",
        "    \r\n",
        "    # merge\r\n",
        "    data = pd.concat([train, test])\r\n",
        "    \r\n",
        "    a = data.groupby(['route_station'])['1012a'].agg({'sum', 'mean'}).reset_index()\r\n",
        "    a.columns = ['route_station', '1012a_sum','1012a_mean']\r\n",
        "\r\n",
        "    b = data.groupby(['route_station'])['1012b'].agg({'sum', 'mean'}).reset_index()\r\n",
        "    b.columns = ['route_station', '1012b_sum','1012b_mean']\r\n",
        "    b = b[['1012b_sum','1012b_mean']]\r\n",
        "\r\n",
        "    c = data.groupby(['route_station'])['10~11_ride'].agg({'sum', 'mean'}).reset_index()\r\n",
        "    c.columns = ['route_station', '10~11_ride_sum','10~11_ride_mean']\r\n",
        "    c = c[['10~11_ride_sum','10~11_ride_mean']]\r\n",
        "\r\n",
        "    d = data.groupby(['route_station'])['10~11_takeoff'].agg({'sum', 'mean'}).reset_index()\r\n",
        "    d.columns = ['route_station', '10~11_takeoff_sum','10~11_takeoff_mean']\r\n",
        "    d = d[['10~11_takeoff_sum','10~11_takeoff_mean']]\r\n",
        "\r\n",
        "    e = data.groupby(['route_station'])['11~12_ride'].agg({'sum', 'mean'}).reset_index()\r\n",
        "    e.columns = ['route_station', '11~12_ride_sum','11~12_ride_mean']\r\n",
        "    e = e[['11~12_ride_sum','11~12_ride_mean']]\r\n",
        "\r\n",
        "    f = data.groupby(['route_station'])['11~12_takeoff'].agg({'sum', 'mean'}).reset_index()\r\n",
        "    f.columns = ['route_station', '11~12_takeoff_sum','11~12_takeoff_mean']\r\n",
        "    f = f[['11~12_takeoff_sum','11~12_takeoff_mean']]\r\n",
        "\r\n",
        "    g = data.groupby(['route_station'])['1820_r_mean'].agg({'sum', 'mean'}).reset_index()\r\n",
        "    g.columns = ['route_station', '1820_r_mean_sum','1820_r_mean_mean']\r\n",
        "    g = g[['1820_r_mean_sum','1820_r_mean_mean']]\r\n",
        "\r\n",
        "    h = data.groupby(['route_station'])['1820_r_sum'].agg({'sum', 'mean'}).reset_index()\r\n",
        "    h.columns = ['route_station', '1820_r_sum_sum','1820_r_sum_mean']\r\n",
        "    h = h[['1820_r_sum_sum','1820_r_sum_mean']]\r\n",
        "\r\n",
        "    i = data.groupby(['route_station'])['1820_rs_mean'].agg({'sum', 'mean'}).reset_index()\r\n",
        "    i.columns = ['route_station', '1820_rs_mean_sum','1820_rs_mean_mean']\r\n",
        "    i = i[['1820_rs_mean_sum','1820_rs_mean_mean']]\r\n",
        "\r\n",
        "    j = data.groupby(['route_station'])['1820_rs_sum'].agg({'sum', 'mean'}).reset_index()\r\n",
        "    j.columns = ['route_station', '1820_rs_sum_sum','1820_rs_sum_mean']\r\n",
        "    j = j[['1820_rs_sum_sum','1820_rs_sum_mean']]\r\n",
        "\r\n",
        "    k = data.groupby(['route_station'])['1820_s_mean'].agg({'sum', 'mean'}).reset_index()\r\n",
        "    k.columns = ['route_station', '1820_s_mean_sum','1820_s_mean_mean']\r\n",
        "    k = k[['1820_s_mean_sum','1820_s_mean_mean']]\r\n",
        "\r\n",
        "    l = data.groupby(['route_station'])['1820_s_sum'].agg({'sum', 'mean'}).reset_index()\r\n",
        "    l.columns = ['route_station', '1820_s_sum_sum','1820_s_sum_mean']\r\n",
        "    l = l[['1820_s_sum_sum','1820_s_sum_mean']]\r\n",
        "\r\n",
        "    m = data.groupby(['route_station'])['1820_w_mean'].agg({'sum', 'mean'}).reset_index()\r\n",
        "    m.columns = ['route_station', '1820_w_mean_sum','1820_w_mean_mean']\r\n",
        "    m = m[['1820_w_mean_sum','1820_w_mean_mean']]\r\n",
        "\r\n",
        "    n = data.groupby(['route_station'])['1820_w_sum'].agg({'sum', 'mean'}).reset_index()\r\n",
        "    n.columns = ['route_station', '1820_w_sum_sum','1820_w_sum_mean']\r\n",
        "    n = n[['1820_w_sum_sum','1820_w_sum_mean']]\r\n",
        "\r\n",
        "    o = data.groupby(['route_station'])['68a'].agg({'sum', 'mean'}).reset_index()\r\n",
        "    o.columns = ['route_station', '68a_sum','68a_mean']\r\n",
        "    o = o[['68a_sum','68a_mean']]\r\n",
        "\r\n",
        "    p = data.groupby(['route_station'])['68b'].agg({'sum', 'mean'}).reset_index()\r\n",
        "    p.columns = ['route_station', '68b_sum','68b_mean']\r\n",
        "    p = p[['68b_sum','68b_mean']]\r\n",
        "\r\n",
        "    q = data.groupby(['route_station'])['6~7_ride'].agg({'sum', 'mean'}).reset_index()\r\n",
        "    q.columns = ['route_station', '6~7_ride_sum','6~7_ride_mean']\r\n",
        "    q = q[['6~7_ride_sum','6~7_ride_mean']]\r\n",
        "\r\n",
        "    r = data.groupby(['route_station'])['6~7_takeoff'].agg({'sum', 'mean'}).reset_index()\r\n",
        "    r.columns = ['route_station', '6~7_takeoff_sum','6~7_takeoff_mean']\r\n",
        "    r = r[['6~7_takeoff_sum','6~7_takeoff_mean']]\r\n",
        "\r\n",
        "    s = data.groupby(['route_station'])['7~8_ride'].agg({'sum', 'mean'}).reset_index()\r\n",
        "    s.columns = ['route_station', '7~8_ride_sum','7~8_ride_mean']\r\n",
        "    s = s[['7~8_ride_sum','7~8_ride_mean']]\r\n",
        "\r\n",
        "    t = data.groupby(['route_station'])['7~8_takeoff'].agg({'sum', 'mean'}).reset_index()\r\n",
        "    t.columns = ['route_station', '7~8_takeoff_sum','7~8_takeoff_mean']\r\n",
        "    t = t[['7~8_takeoff_sum','7~8_takeoff_mean']]\r\n",
        "\r\n",
        "    u = data.groupby(['route_station'])['810a'].agg({'sum', 'mean'}).reset_index()\r\n",
        "    u.columns = ['route_station', '810a_sum','810a_mean']\r\n",
        "    u = u[['810a_sum','810a_mean']]\r\n",
        "\r\n",
        "    v = data.groupby(['route_station'])['810b'].agg({'sum', 'mean'}).reset_index()\r\n",
        "    v.columns = ['route_station', '810b_sum','810b_mean']\r\n",
        "    v = v[['810b_sum','810b_mean']]\r\n",
        "\r\n",
        "    w = data.groupby(['route_station'])['8~9_ride'].agg({'sum', 'mean'}).reset_index()\r\n",
        "    w.columns = ['route_station', '8~9_ride_sum','8~9_ride_mean']\r\n",
        "    w = w[['8~9_ride_sum','8~9_ride_mean']]\r\n",
        "\r\n",
        "    x = data.groupby(['route_station'])['8~9_takeoff'].agg({'sum', 'mean'}).reset_index()\r\n",
        "    x.columns = ['route_station', '8~9_takeoff_sum','8~9_takeoff_mean']\r\n",
        "    x = x[['8~9_takeoff_sum','8~9_takeoff_mean']]\r\n",
        "\r\n",
        "    y = data.groupby(['route_station'])['9~10_ride'].agg({'sum', 'mean'}).reset_index()\r\n",
        "    y.columns = ['route_station', '9~10_ride_sum','9~10_ride_mean']\r\n",
        "    y = y[['9~10_ride_sum','9~10_ride_mean']]\r\n",
        "\r\n",
        "    z = data.groupby(['route_station'])['9~10_takeoff'].agg({'sum', 'mean'}).reset_index()\r\n",
        "    z.columns = ['route_station', '9~10_takeoff_sum','9~10_takeoff_mean']\r\n",
        "    z = z[['9~10_takeoff_sum','9~10_takeoff_mean']]\r\n",
        "    \r\n",
        "    df = pd.concat([a,b,c,d,e,f,g,h,i,j,k,l,m,n,o,p,q,r,s,t,u,v,w,x,y,z],axis=1)\r\n",
        "    df = pd.merge(data, df, how='left', on='route_station')\r\n",
        "    \r\n",
        "    return df"
      ],
      "execution_count": 25,
      "outputs": []
    },
    {
      "cell_type": "code",
      "metadata": {
        "colab": {
          "base_uri": "https://localhost:8080/"
        },
        "id": "2eAWcw3DzWod",
        "outputId": "ca53d54c-957e-4ded-ca8f-8ca8393228c5"
      },
      "source": [
        "data = morning()\r\n",
        "data.shape"
      ],
      "execution_count": 26,
      "outputs": [
        {
          "output_type": "execute_result",
          "data": {
            "text/plain": [
              "(643593, 98)"
            ]
          },
          "metadata": {
            "tags": []
          },
          "execution_count": 26
        }
      ]
    },
    {
      "cell_type": "markdown",
      "metadata": {
        "id": "GRs_FamQzenq"
      },
      "source": [
        "## 배차간격\r\n",
        "배차간격 변수 --> 많이 소요\r\n",
        "따로 파일 저장"
      ]
    },
    {
      "cell_type": "code",
      "metadata": {
        "id": "PA1AnndqzeAQ"
      },
      "source": [
        "train['bus_route_id'] = train['bus_route_id'].astype(np.int64)\r\n",
        "test['bus_route_id'] = test['bus_route_id'].astype(np.int64)"
      ],
      "execution_count": 27,
      "outputs": []
    },
    {
      "cell_type": "code",
      "metadata": {
        "colab": {
          "base_uri": "https://localhost:8080/",
          "height": 455
        },
        "id": "pkI1ZXV8zZyf",
        "outputId": "3ec8da08-b9ae-477b-ba53-6faee3dd0bb7"
      },
      "source": [
        "bts"
      ],
      "execution_count": 28,
      "outputs": [
        {
          "output_type": "execute_result",
          "data": {
            "text/html": [
              "<div>\n",
              "<style scoped>\n",
              "    .dataframe tbody tr th:only-of-type {\n",
              "        vertical-align: middle;\n",
              "    }\n",
              "\n",
              "    .dataframe tbody tr th {\n",
              "        vertical-align: top;\n",
              "    }\n",
              "\n",
              "    .dataframe thead th {\n",
              "        text-align: right;\n",
              "    }\n",
              "</style>\n",
              "<table border=\"1\" class=\"dataframe\">\n",
              "  <thead>\n",
              "    <tr style=\"text-align: right;\">\n",
              "      <th></th>\n",
              "      <th>user_card_id</th>\n",
              "      <th>bus_route_id</th>\n",
              "      <th>vhc_id</th>\n",
              "      <th>geton_date</th>\n",
              "      <th>geton_time</th>\n",
              "      <th>geton_station_code</th>\n",
              "      <th>geton_station_name</th>\n",
              "      <th>getoff_date</th>\n",
              "      <th>getoff_time</th>\n",
              "      <th>getoff_station_code</th>\n",
              "      <th>getoff_station_name</th>\n",
              "      <th>user_category</th>\n",
              "      <th>user_count</th>\n",
              "      <th>on_time</th>\n",
              "    </tr>\n",
              "  </thead>\n",
              "  <tbody>\n",
              "    <tr>\n",
              "      <th>0</th>\n",
              "      <td>1.010010e+15</td>\n",
              "      <td>23000000</td>\n",
              "      <td>149793674</td>\n",
              "      <td>2019-09-10</td>\n",
              "      <td>06:34:45</td>\n",
              "      <td>360</td>\n",
              "      <td>노형오거리</td>\n",
              "      <td>2019-09-10</td>\n",
              "      <td>07:10:31</td>\n",
              "      <td>592.0</td>\n",
              "      <td>화북초등학교</td>\n",
              "      <td>1</td>\n",
              "      <td>1</td>\n",
              "      <td>6~7_ride</td>\n",
              "    </tr>\n",
              "    <tr>\n",
              "      <th>1</th>\n",
              "      <td>1.010010e+15</td>\n",
              "      <td>23000000</td>\n",
              "      <td>149793674</td>\n",
              "      <td>2019-09-10</td>\n",
              "      <td>06:34:58</td>\n",
              "      <td>360</td>\n",
              "      <td>노형오거리</td>\n",
              "      <td>2019-09-10</td>\n",
              "      <td>06:56:27</td>\n",
              "      <td>3273.0</td>\n",
              "      <td>고산동산(광양방면)</td>\n",
              "      <td>1</td>\n",
              "      <td>1</td>\n",
              "      <td>6~7_ride</td>\n",
              "    </tr>\n",
              "    <tr>\n",
              "      <th>2</th>\n",
              "      <td>1.019160e+15</td>\n",
              "      <td>21420000</td>\n",
              "      <td>149793535</td>\n",
              "      <td>2019-09-10</td>\n",
              "      <td>07:19:07</td>\n",
              "      <td>2495</td>\n",
              "      <td>동광환승정류장4(제주방면)</td>\n",
              "      <td>2019-09-10</td>\n",
              "      <td>07:40:29</td>\n",
              "      <td>431.0</td>\n",
              "      <td>정존마을</td>\n",
              "      <td>4</td>\n",
              "      <td>1</td>\n",
              "      <td>7~8_ride</td>\n",
              "    </tr>\n",
              "    <tr>\n",
              "      <th>3</th>\n",
              "      <td>1.019150e+15</td>\n",
              "      <td>21420000</td>\n",
              "      <td>149793512</td>\n",
              "      <td>2019-09-09</td>\n",
              "      <td>09:14:47</td>\n",
              "      <td>3282</td>\n",
              "      <td>대정환승정류장(대정읍사무소)</td>\n",
              "      <td>2019-09-09</td>\n",
              "      <td>10:02:46</td>\n",
              "      <td>431.0</td>\n",
              "      <td>정존마을</td>\n",
              "      <td>1</td>\n",
              "      <td>1</td>\n",
              "      <td>9~10_ride</td>\n",
              "    </tr>\n",
              "    <tr>\n",
              "      <th>4</th>\n",
              "      <td>1.010010e+15</td>\n",
              "      <td>21420000</td>\n",
              "      <td>149793512</td>\n",
              "      <td>2019-09-09</td>\n",
              "      <td>09:28:53</td>\n",
              "      <td>2820</td>\n",
              "      <td>삼정지에듀</td>\n",
              "      <td>2019-09-09</td>\n",
              "      <td>10:21:37</td>\n",
              "      <td>2972.0</td>\n",
              "      <td>제주국제공항(종점)</td>\n",
              "      <td>4</td>\n",
              "      <td>1</td>\n",
              "      <td>9~10_ride</td>\n",
              "    </tr>\n",
              "    <tr>\n",
              "      <th>...</th>\n",
              "      <td>...</td>\n",
              "      <td>...</td>\n",
              "      <td>...</td>\n",
              "      <td>...</td>\n",
              "      <td>...</td>\n",
              "      <td>...</td>\n",
              "      <td>...</td>\n",
              "      <td>...</td>\n",
              "      <td>...</td>\n",
              "      <td>...</td>\n",
              "      <td>...</td>\n",
              "      <td>...</td>\n",
              "      <td>...</td>\n",
              "      <td>...</td>\n",
              "    </tr>\n",
              "    <tr>\n",
              "      <th>2409409</th>\n",
              "      <td>6.573162e+15</td>\n",
              "      <td>30420000</td>\n",
              "      <td>149797565</td>\n",
              "      <td>2019-10-16</td>\n",
              "      <td>07:08:31</td>\n",
              "      <td>1937</td>\n",
              "      <td>L마트</td>\n",
              "      <td>NaN</td>\n",
              "      <td>NaN</td>\n",
              "      <td>NaN</td>\n",
              "      <td>NaN</td>\n",
              "      <td>1</td>\n",
              "      <td>1</td>\n",
              "      <td>7~8_ride</td>\n",
              "    </tr>\n",
              "    <tr>\n",
              "      <th>2409410</th>\n",
              "      <td>9.441160e+15</td>\n",
              "      <td>30420000</td>\n",
              "      <td>149797565</td>\n",
              "      <td>2019-10-16</td>\n",
              "      <td>07:16:31</td>\n",
              "      <td>1908</td>\n",
              "      <td>한라산교회</td>\n",
              "      <td>NaN</td>\n",
              "      <td>NaN</td>\n",
              "      <td>NaN</td>\n",
              "      <td>NaN</td>\n",
              "      <td>1</td>\n",
              "      <td>1</td>\n",
              "      <td>7~8_ride</td>\n",
              "    </tr>\n",
              "    <tr>\n",
              "      <th>2409411</th>\n",
              "      <td>9.446038e+15</td>\n",
              "      <td>25070000</td>\n",
              "      <td>149797565</td>\n",
              "      <td>2019-10-16</td>\n",
              "      <td>08:29:05</td>\n",
              "      <td>1882</td>\n",
              "      <td>고도농원</td>\n",
              "      <td>NaN</td>\n",
              "      <td>NaN</td>\n",
              "      <td>NaN</td>\n",
              "      <td>NaN</td>\n",
              "      <td>1</td>\n",
              "      <td>1</td>\n",
              "      <td>8~9_ride</td>\n",
              "    </tr>\n",
              "    <tr>\n",
              "      <th>2409412</th>\n",
              "      <td>4.309690e+15</td>\n",
              "      <td>25070000</td>\n",
              "      <td>149797565</td>\n",
              "      <td>2019-10-16</td>\n",
              "      <td>08:40:32</td>\n",
              "      <td>1938</td>\n",
              "      <td>주공아파트5단지</td>\n",
              "      <td>NaN</td>\n",
              "      <td>NaN</td>\n",
              "      <td>NaN</td>\n",
              "      <td>NaN</td>\n",
              "      <td>1</td>\n",
              "      <td>1</td>\n",
              "      <td>8~9_ride</td>\n",
              "    </tr>\n",
              "    <tr>\n",
              "      <th>2409413</th>\n",
              "      <td>5.272898e+15</td>\n",
              "      <td>25070000</td>\n",
              "      <td>149797565</td>\n",
              "      <td>2019-10-16</td>\n",
              "      <td>08:40:35</td>\n",
              "      <td>1938</td>\n",
              "      <td>주공아파트5단지</td>\n",
              "      <td>NaN</td>\n",
              "      <td>NaN</td>\n",
              "      <td>NaN</td>\n",
              "      <td>NaN</td>\n",
              "      <td>1</td>\n",
              "      <td>1</td>\n",
              "      <td>8~9_ride</td>\n",
              "    </tr>\n",
              "  </tbody>\n",
              "</table>\n",
              "<p>2409414 rows × 14 columns</p>\n",
              "</div>"
            ],
            "text/plain": [
              "         user_card_id  bus_route_id     vhc_id  geton_date geton_time  \\\n",
              "0        1.010010e+15      23000000  149793674  2019-09-10   06:34:45   \n",
              "1        1.010010e+15      23000000  149793674  2019-09-10   06:34:58   \n",
              "2        1.019160e+15      21420000  149793535  2019-09-10   07:19:07   \n",
              "3        1.019150e+15      21420000  149793512  2019-09-09   09:14:47   \n",
              "4        1.010010e+15      21420000  149793512  2019-09-09   09:28:53   \n",
              "...               ...           ...        ...         ...        ...   \n",
              "2409409  6.573162e+15      30420000  149797565  2019-10-16   07:08:31   \n",
              "2409410  9.441160e+15      30420000  149797565  2019-10-16   07:16:31   \n",
              "2409411  9.446038e+15      25070000  149797565  2019-10-16   08:29:05   \n",
              "2409412  4.309690e+15      25070000  149797565  2019-10-16   08:40:32   \n",
              "2409413  5.272898e+15      25070000  149797565  2019-10-16   08:40:35   \n",
              "\n",
              "         geton_station_code geton_station_name getoff_date getoff_time  \\\n",
              "0                       360              노형오거리  2019-09-10    07:10:31   \n",
              "1                       360              노형오거리  2019-09-10    06:56:27   \n",
              "2                      2495     동광환승정류장4(제주방면)  2019-09-10    07:40:29   \n",
              "3                      3282    대정환승정류장(대정읍사무소)  2019-09-09    10:02:46   \n",
              "4                      2820              삼정지에듀  2019-09-09    10:21:37   \n",
              "...                     ...                ...         ...         ...   \n",
              "2409409                1937                L마트         NaN         NaN   \n",
              "2409410                1908              한라산교회         NaN         NaN   \n",
              "2409411                1882               고도농원         NaN         NaN   \n",
              "2409412                1938           주공아파트5단지         NaN         NaN   \n",
              "2409413                1938           주공아파트5단지         NaN         NaN   \n",
              "\n",
              "         getoff_station_code getoff_station_name  user_category  user_count  \\\n",
              "0                      592.0              화북초등학교              1           1   \n",
              "1                     3273.0          고산동산(광양방면)              1           1   \n",
              "2                      431.0                정존마을              4           1   \n",
              "3                      431.0                정존마을              1           1   \n",
              "4                     2972.0          제주국제공항(종점)              4           1   \n",
              "...                      ...                 ...            ...         ...   \n",
              "2409409                  NaN                 NaN              1           1   \n",
              "2409410                  NaN                 NaN              1           1   \n",
              "2409411                  NaN                 NaN              1           1   \n",
              "2409412                  NaN                 NaN              1           1   \n",
              "2409413                  NaN                 NaN              1           1   \n",
              "\n",
              "           on_time  \n",
              "0         6~7_ride  \n",
              "1         6~7_ride  \n",
              "2         7~8_ride  \n",
              "3        9~10_ride  \n",
              "4        9~10_ride  \n",
              "...            ...  \n",
              "2409409   7~8_ride  \n",
              "2409410   7~8_ride  \n",
              "2409411   8~9_ride  \n",
              "2409412   8~9_ride  \n",
              "2409413   8~9_ride  \n",
              "\n",
              "[2409414 rows x 14 columns]"
            ]
          },
          "metadata": {
            "tags": []
          },
          "execution_count": 28
        }
      ]
    },
    {
      "cell_type": "code",
      "metadata": {
        "id": "R9twwX4czvSi"
      },
      "source": [
        "# 탑승 시간 탑승 일자 버스정류소 ID 노선 ID로 묶은 것의 user_count의 sum을 구한다.\r\n",
        "bts['geton_time2'] = pd.to_datetime(bts['geton_time'])\r\n",
        "\r\n",
        "f = bts.groupby(['geton_date','geton_time2','geton_station_code','bus_route_id'])['user_count'].\\\r\n",
        "agg([('탑승객_수','sum')]).reset_index().\\\r\n",
        "sort_values(by=['geton_date','geton_station_code','bus_route_id','geton_time2'], ascending=True).reset_index()\r\n",
        "\r\n",
        "f['index'] = list(range(0,len(f)))"
      ],
      "execution_count": 30,
      "outputs": []
    },
    {
      "cell_type": "code",
      "metadata": {
        "colab": {
          "base_uri": "https://localhost:8080/"
        },
        "id": "fw-iqSXv099U",
        "outputId": "1b5cd7e1-1afa-42cf-add4-70657c2e21c3"
      },
      "source": [
        "f[\"탑승객_수\"].value_counts()"
      ],
      "execution_count": 32,
      "outputs": [
        {
          "output_type": "execute_result",
          "data": {
            "text/plain": [
              "1     2384037\n",
              "2       22612\n",
              "3        1812\n",
              "4         547\n",
              "5         128\n",
              "6          75\n",
              "10         44\n",
              "7          34\n",
              "8          14\n",
              "9           8\n",
              "Name: 탑승객_수, dtype: int64"
            ]
          },
          "metadata": {
            "tags": []
          },
          "execution_count": 32
        }
      ]
    },
    {
      "cell_type": "code",
      "metadata": {
        "id": "rvaijxFX1tt1"
      },
      "source": [
        "#배차간격 계산\r\n",
        "time = []\r\n",
        "\r\n",
        "for i in range(0,len(f)-1):\r\n",
        "\r\n",
        "    if ((f.iloc[i].geton_date == f.iloc[i+1].geton_date) &\\\r\n",
        "        (f.iloc[i].geton_station_code == f.iloc[i+1].geton_station_code) &\\\r\n",
        "        (f.iloc[i].bus_route_id == f.iloc[i+1].bus_route_id)):\r\n",
        "\r\n",
        "        time.append(f.iloc[i+1].geton_time2 - f.iloc[i].geton_time2)\r\n",
        "\r\n",
        "    else:\r\n",
        "        time.append(0)\r\n",
        "\r\n",
        "time.insert(0, '0')"
      ],
      "execution_count": 33,
      "outputs": []
    },
    {
      "cell_type": "code",
      "metadata": {
        "id": "vmTRWf6b12ub"
      },
      "source": [
        "#배차 간격을 초 단위로 모두 변환한 후 반환\r\n",
        "def get_sec(time_str):\r\n",
        "\r\n",
        "    h, m, s = time_str.split(':')\r\n",
        "\r\n",
        "    return int(h) * 3600 + int(m) * 60 + int(s)"
      ],
      "execution_count": 34,
      "outputs": []
    },
    {
      "cell_type": "code",
      "metadata": {
        "id": "LpZFnoPuAzTn"
      },
      "source": [
        "def bus_interval() :\r\n",
        "\r\n",
        "    f['time'] = time\r\n",
        "    f['time2'] = f['time'].astype(str).str[7:]\r\n",
        "\r\n",
        "\r\n",
        "    interval = f.copy()\r\n",
        "    interval['time2'] = interval['time2'].astype(str).replace('','00:00:00')\r\n",
        "    interval['bus_route_id'] = interval['bus_route_id'].astype(object)\r\n",
        "\r\n",
        "    time4 = []\r\n",
        "\r\n",
        "    for i in interval['time2'] :\r\n",
        "\r\n",
        "        time4.append(get_sec(i))\r\n",
        "\r\n",
        "    interval['time4'] = time4\r\n",
        "    interval['time4'] = (interval['time4'] / 60).astype(int)\r\n",
        "\r\n",
        "    interval = interval[interval['time4'] > 3] # 간격이 3분보다 작은 것 제외 \r\n",
        "    interval = interval[interval['time4'] < 180] # 간격이 3시간보다 큰 것 제외\r\n",
        "\r\n",
        "    interval = interval.groupby('bus_route_id')['time4'].agg([('bus_interval', 'mean')]).reset_index()\r\n",
        "    interval['bus_interval'] = interval['bus_interval'].astype(int)\r\n",
        "\r\n",
        "    # 나중에 시간을 절약하기 위해 csv 파일로 저장\r\n",
        "    interval.to_csv('bus_interval_final.csv', index = False)\r\n",
        "\r\n",
        "    print('success.. !')"
      ],
      "execution_count": 36,
      "outputs": []
    },
    {
      "cell_type": "code",
      "metadata": {
        "colab": {
          "base_uri": "https://localhost:8080/"
        },
        "id": "8nvdgzI7A32n",
        "outputId": "fba57108-fcdc-44c5-e6c4-491ea3ca36e3"
      },
      "source": [
        "bus_interval()"
      ],
      "execution_count": 37,
      "outputs": [
        {
          "output_type": "stream",
          "text": [
            "success.. !\n"
          ],
          "name": "stdout"
        }
      ]
    },
    {
      "cell_type": "markdown",
      "metadata": {
        "id": "sjztXiW-0HSn"
      },
      "source": [
        ""
      ]
    }
  ]
}