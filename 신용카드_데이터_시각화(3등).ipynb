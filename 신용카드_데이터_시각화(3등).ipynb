{
  "nbformat": 4,
  "nbformat_minor": 0,
  "metadata": {
    "colab": {
      "name": "신용카드_데이터 시각화(3등).ipynb",
      "provenance": [],
      "authorship_tag": "ABX9TyMEABNd6c7IG/r0Pdb608xi",
      "include_colab_link": true
    },
    "kernelspec": {
      "name": "python3",
      "display_name": "Python 3"
    }
  },
  "cells": [
    {
      "cell_type": "markdown",
      "metadata": {
        "id": "view-in-github",
        "colab_type": "text"
      },
      "source": [
        "<a href=\"https://colab.research.google.com/github/Sejong-Kaggle-Challengers/jeongmin/blob/main/%EC%8B%A0%EC%9A%A9%EC%B9%B4%EB%93%9C_%EB%8D%B0%EC%9D%B4%ED%84%B0_%EC%8B%9C%EA%B0%81%ED%99%94(3%EB%93%B1).ipynb\" target=\"_parent\"><img src=\"https://colab.research.google.com/assets/colab-badge.svg\" alt=\"Open In Colab\"/></a>"
      ]
    },
    {
      "cell_type": "code",
      "metadata": {
        "colab": {
          "base_uri": "https://localhost:8080/"
        },
        "id": "lKlxl9DXKRth",
        "outputId": "3ee306de-ab53-4b8f-e96c-4ecddc02f5d0"
      },
      "source": [
        "!unzip data04.zip"
      ],
      "execution_count": 42,
      "outputs": [
        {
          "output_type": "stream",
          "text": [
            "Archive:  data04.zip\n",
            "  inflating: submission.csv          \n",
            "  inflating: test.csv.zip            \n",
            "  inflating: train.csv.zip           \n"
          ],
          "name": "stdout"
        }
      ]
    },
    {
      "cell_type": "code",
      "metadata": {
        "colab": {
          "base_uri": "https://localhost:8080/"
        },
        "id": "D5Vzdwn7Kf_r",
        "outputId": "c0a3a757-5b40-4c25-d311-e3c1be731177"
      },
      "source": [
        "!unzip train.csv.zip\r\n",
        "!unzip test.csv.zip"
      ],
      "execution_count": 43,
      "outputs": [
        {
          "output_type": "stream",
          "text": [
            "Archive:  train.csv.zip\n",
            "  inflating: train.csv               \n",
            "   creating: __MACOSX/\n",
            "  inflating: __MACOSX/._train.csv    \n",
            "Archive:  test.csv.zip\n",
            "  inflating: test.csv                \n",
            "  inflating: __MACOSX/._test.csv     \n"
          ],
          "name": "stdout"
        }
      ]
    },
    {
      "cell_type": "markdown",
      "metadata": {
        "id": "Zg7Vc2ElLwEH"
      },
      "source": [
        "#1. Column 요약\r\n",
        "- store_id : 각 파일에서의 상점 고유 번호.\r\n",
        "- date : 거래 일자\r\n",
        "- time : 거래 시간\r\n",
        "- card_id : 카드 번호의 hash 값\r\n",
        "- amount : 매출액, 0보다 작은 음수는 거래 취소(환불), 단위 krw 아님, 할부개월수만큼 amount들어옴\r\n",
        "- installments : 할부개월수. 일시불은 빈 문자열\r\n",
        "- days_of_week : 요일, 월요일이 0, 일요일은 6\r\n",
        "- holyday : 1이면 공휴일, 0이면 공휴일 아님"
      ]
    },
    {
      "cell_type": "code",
      "metadata": {
        "id": "sXNIEJ11L5lf"
      },
      "source": [
        "import pandas as pd\r\n",
        "import matplotlib.pyplot as plt\r\n",
        "plt.rcParams['axes.unicode_minus'] = False #그래프에서 마이너스 기호가 깨지지 않고 표시되도록\r\n",
        "from matplotlib import rc\r\n",
        "import seaborn as sns\r\n",
        "import numpy as np\r\n",
        "from collections import Counter"
      ],
      "execution_count": 46,
      "outputs": []
    },
    {
      "cell_type": "markdown",
      "metadata": {
        "id": "dTGVyacSN23p"
      },
      "source": [
        "#2. Data Load & Check"
      ]
    },
    {
      "cell_type": "code",
      "metadata": {
        "colab": {
          "base_uri": "https://localhost:8080/",
          "height": 194
        },
        "id": "Dlkei_enKVcB",
        "outputId": "37e4f12b-4d02-42ca-b7a8-b87aba20c754"
      },
      "source": [
        "train = pd.read_csv(\"train.csv\")\r\n",
        "train.head()"
      ],
      "execution_count": 47,
      "outputs": [
        {
          "output_type": "execute_result",
          "data": {
            "text/html": [
              "<div>\n",
              "<style scoped>\n",
              "    .dataframe tbody tr th:only-of-type {\n",
              "        vertical-align: middle;\n",
              "    }\n",
              "\n",
              "    .dataframe tbody tr th {\n",
              "        vertical-align: top;\n",
              "    }\n",
              "\n",
              "    .dataframe thead th {\n",
              "        text-align: right;\n",
              "    }\n",
              "</style>\n",
              "<table border=\"1\" class=\"dataframe\">\n",
              "  <thead>\n",
              "    <tr style=\"text-align: right;\">\n",
              "      <th></th>\n",
              "      <th>store_id</th>\n",
              "      <th>date</th>\n",
              "      <th>time</th>\n",
              "      <th>card_id</th>\n",
              "      <th>amount</th>\n",
              "      <th>installments</th>\n",
              "      <th>days_of_week</th>\n",
              "      <th>holyday</th>\n",
              "    </tr>\n",
              "  </thead>\n",
              "  <tbody>\n",
              "    <tr>\n",
              "      <th>0</th>\n",
              "      <td>0</td>\n",
              "      <td>2016-12-14</td>\n",
              "      <td>18:05:31</td>\n",
              "      <td>d297bba73f</td>\n",
              "      <td>5</td>\n",
              "      <td>NaN</td>\n",
              "      <td>2</td>\n",
              "      <td>0</td>\n",
              "    </tr>\n",
              "    <tr>\n",
              "      <th>1</th>\n",
              "      <td>0</td>\n",
              "      <td>2016-12-14</td>\n",
              "      <td>18:05:54</td>\n",
              "      <td>d297bba73f</td>\n",
              "      <td>-5</td>\n",
              "      <td>NaN</td>\n",
              "      <td>2</td>\n",
              "      <td>0</td>\n",
              "    </tr>\n",
              "    <tr>\n",
              "      <th>2</th>\n",
              "      <td>0</td>\n",
              "      <td>2016-12-19</td>\n",
              "      <td>12:42:31</td>\n",
              "      <td>0880849c05</td>\n",
              "      <td>144</td>\n",
              "      <td>NaN</td>\n",
              "      <td>0</td>\n",
              "      <td>0</td>\n",
              "    </tr>\n",
              "    <tr>\n",
              "      <th>3</th>\n",
              "      <td>0</td>\n",
              "      <td>2016-12-19</td>\n",
              "      <td>12:48:08</td>\n",
              "      <td>8b4f9e0e95</td>\n",
              "      <td>66</td>\n",
              "      <td>NaN</td>\n",
              "      <td>0</td>\n",
              "      <td>0</td>\n",
              "    </tr>\n",
              "    <tr>\n",
              "      <th>4</th>\n",
              "      <td>0</td>\n",
              "      <td>2016-12-19</td>\n",
              "      <td>13:31:08</td>\n",
              "      <td>7ad237eed0</td>\n",
              "      <td>24</td>\n",
              "      <td>NaN</td>\n",
              "      <td>0</td>\n",
              "      <td>0</td>\n",
              "    </tr>\n",
              "  </tbody>\n",
              "</table>\n",
              "</div>"
            ],
            "text/plain": [
              "   store_id        date      time  ... installments  days_of_week  holyday\n",
              "0         0  2016-12-14  18:05:31  ...          NaN             2        0\n",
              "1         0  2016-12-14  18:05:54  ...          NaN             2        0\n",
              "2         0  2016-12-19  12:42:31  ...          NaN             0        0\n",
              "3         0  2016-12-19  12:48:08  ...          NaN             0        0\n",
              "4         0  2016-12-19  13:31:08  ...          NaN             0        0\n",
              "\n",
              "[5 rows x 8 columns]"
            ]
          },
          "metadata": {
            "tags": []
          },
          "execution_count": 47
        }
      ]
    },
    {
      "cell_type": "code",
      "metadata": {
        "colab": {
          "base_uri": "https://localhost:8080/"
        },
        "id": "Ysiz0V02MiAO",
        "outputId": "3ae795db-bdee-4b58-b54d-fbc43435e958"
      },
      "source": [
        "print(train.shape)"
      ],
      "execution_count": 48,
      "outputs": [
        {
          "output_type": "stream",
          "text": [
            "(3362796, 8)\n"
          ],
          "name": "stdout"
        }
      ]
    },
    {
      "cell_type": "code",
      "metadata": {
        "colab": {
          "base_uri": "https://localhost:8080/",
          "height": 282
        },
        "id": "8egYVwZmMlFG",
        "outputId": "85eceb2c-7890-4320-d919-014f117801e0"
      },
      "source": [
        "train.describe() #데이터 요약 (date/time/card_id는 정수형이 아니라서 제외된 것 같다.)"
      ],
      "execution_count": 49,
      "outputs": [
        {
          "output_type": "execute_result",
          "data": {
            "text/html": [
              "<div>\n",
              "<style scoped>\n",
              "    .dataframe tbody tr th:only-of-type {\n",
              "        vertical-align: middle;\n",
              "    }\n",
              "\n",
              "    .dataframe tbody tr th {\n",
              "        vertical-align: top;\n",
              "    }\n",
              "\n",
              "    .dataframe thead th {\n",
              "        text-align: right;\n",
              "    }\n",
              "</style>\n",
              "<table border=\"1\" class=\"dataframe\">\n",
              "  <thead>\n",
              "    <tr style=\"text-align: right;\">\n",
              "      <th></th>\n",
              "      <th>store_id</th>\n",
              "      <th>amount</th>\n",
              "      <th>installments</th>\n",
              "      <th>days_of_week</th>\n",
              "      <th>holyday</th>\n",
              "    </tr>\n",
              "  </thead>\n",
              "  <tbody>\n",
              "    <tr>\n",
              "      <th>count</th>\n",
              "      <td>3.362796e+06</td>\n",
              "      <td>3.362796e+06</td>\n",
              "      <td>16860.000000</td>\n",
              "      <td>3.362796e+06</td>\n",
              "      <td>3.362796e+06</td>\n",
              "    </tr>\n",
              "    <tr>\n",
              "      <th>mean</th>\n",
              "      <td>8.323770e+02</td>\n",
              "      <td>1.459623e+02</td>\n",
              "      <td>3.459490</td>\n",
              "      <td>3.066320e+00</td>\n",
              "      <td>4.431283e-02</td>\n",
              "    </tr>\n",
              "    <tr>\n",
              "      <th>std</th>\n",
              "      <td>5.468544e+02</td>\n",
              "      <td>6.017306e+02</td>\n",
              "      <td>2.382382</td>\n",
              "      <td>1.976153e+00</td>\n",
              "      <td>2.057892e-01</td>\n",
              "    </tr>\n",
              "    <tr>\n",
              "      <th>min</th>\n",
              "      <td>0.000000e+00</td>\n",
              "      <td>-2.500000e+05</td>\n",
              "      <td>2.000000</td>\n",
              "      <td>0.000000e+00</td>\n",
              "      <td>0.000000e+00</td>\n",
              "    </tr>\n",
              "    <tr>\n",
              "      <th>25%</th>\n",
              "      <td>3.350000e+02</td>\n",
              "      <td>3.200000e+01</td>\n",
              "      <td>3.000000</td>\n",
              "      <td>1.000000e+00</td>\n",
              "      <td>0.000000e+00</td>\n",
              "    </tr>\n",
              "    <tr>\n",
              "      <th>50%</th>\n",
              "      <td>8.220000e+02</td>\n",
              "      <td>7.500000e+01</td>\n",
              "      <td>3.000000</td>\n",
              "      <td>3.000000e+00</td>\n",
              "      <td>0.000000e+00</td>\n",
              "    </tr>\n",
              "    <tr>\n",
              "      <th>75%</th>\n",
              "      <td>1.342000e+03</td>\n",
              "      <td>1.500000e+02</td>\n",
              "      <td>3.000000</td>\n",
              "      <td>5.000000e+00</td>\n",
              "      <td>0.000000e+00</td>\n",
              "    </tr>\n",
              "    <tr>\n",
              "      <th>max</th>\n",
              "      <td>1.799000e+03</td>\n",
              "      <td>2.500000e+05</td>\n",
              "      <td>36.000000</td>\n",
              "      <td>6.000000e+00</td>\n",
              "      <td>1.000000e+00</td>\n",
              "    </tr>\n",
              "  </tbody>\n",
              "</table>\n",
              "</div>"
            ],
            "text/plain": [
              "           store_id        amount  installments  days_of_week       holyday\n",
              "count  3.362796e+06  3.362796e+06  16860.000000  3.362796e+06  3.362796e+06\n",
              "mean   8.323770e+02  1.459623e+02      3.459490  3.066320e+00  4.431283e-02\n",
              "std    5.468544e+02  6.017306e+02      2.382382  1.976153e+00  2.057892e-01\n",
              "min    0.000000e+00 -2.500000e+05      2.000000  0.000000e+00  0.000000e+00\n",
              "25%    3.350000e+02  3.200000e+01      3.000000  1.000000e+00  0.000000e+00\n",
              "50%    8.220000e+02  7.500000e+01      3.000000  3.000000e+00  0.000000e+00\n",
              "75%    1.342000e+03  1.500000e+02      3.000000  5.000000e+00  0.000000e+00\n",
              "max    1.799000e+03  2.500000e+05     36.000000  6.000000e+00  1.000000e+00"
            ]
          },
          "metadata": {
            "tags": []
          },
          "execution_count": 49
        }
      ]
    },
    {
      "cell_type": "markdown",
      "metadata": {
        "id": "r83NSfd5N94G"
      },
      "source": [
        "#3. Preprocess\r\n",
        "3.1 Remove Outliers\r\n",
        "outlier가 있을 수 있다고 판단되는 column을 선택\r\n",
        "--> amount --> outlier 제거"
      ]
    },
    {
      "cell_type": "code",
      "metadata": {
        "colab": {
          "base_uri": "https://localhost:8080/",
          "height": 400
        },
        "id": "AFeYklo7NsF4",
        "outputId": "6f82e939-25c3-46cc-98be-920ed762cf0a"
      },
      "source": [
        "#vilolinplot을 이용해 분포 범위 확인\r\n",
        "#: amount의 분포 범위는 넓은데 분포는 한쪽으로 편중되어 확인이 어려움\r\n",
        "train[\"temp\"] = 1\r\n",
        "sns.catplot(data=train, x = \"temp\", y = 'amount', kind = 'violin')"
      ],
      "execution_count": 50,
      "outputs": [
        {
          "output_type": "execute_result",
          "data": {
            "text/plain": [
              "<seaborn.axisgrid.FacetGrid at 0x7f1444b49748>"
            ]
          },
          "metadata": {
            "tags": []
          },
          "execution_count": 50
        },
        {
          "output_type": "display_data",
          "data": {
            "image/png": "[encoded data removed]",
            "text/plain": [
              "<Figure size 360x360 with 1 Axes>"
            ]
          },
          "metadata": {
            "tags": [],
            "needs_background": "light"
          }
        }
      ]
    },
    {
      "cell_type": "code",
      "metadata": {
        "colab": {
          "base_uri": "https://localhost:8080/"
        },
        "id": "Ot5yje5aOQWi",
        "outputId": "021da10f-101e-41ae-b694-f3572e4eb29c"
      },
      "source": [
        "#따라서 numpy의 percentile을 이용해 데이터가 차지하는 비율을 확인\r\n",
        "#percentile -> 백분위수\r\n",
        "percentage_99 = np.percentile(train[\"amount\"], 99)\r\n",
        "print(percentage_99)\r\n",
        "percentage_98 = np.percentile(train[\"amount\"], 98)\r\n",
        "print(percentage_98)"
      ],
      "execution_count": 52,
      "outputs": [
        {
          "output_type": "stream",
          "text": [
            "1335.0\n",
            "800.0\n"
          ],
          "name": "stdout"
        }
      ]
    },
    {
      "cell_type": "markdown",
      "metadata": {
        "id": "k5f7YGfNR1Ey"
      },
      "source": [
        "amount의 최대값은 250000, 최소값은 -250000<br>\r\n",
        "데이터의 약 99%가 차지하는 위치의 amount값 1335<br>데이터의 약 98%가 차지하는 위치의 amount값 800<br>대부분의 데이터가 1000 이하에 위치하고 있음을 의미한다. <br>따라서 1000이상, -1000이하의 값을 outlier로 간주한다."
      ]
    },
    {
      "cell_type": "code",
      "metadata": {
        "id": "5kOBZUZcSdtx"
      },
      "source": [
        "#train = train.loc[(train[\"amount\"]&gt;= -1000)&(train[\"amount\"]&lt;= 1000)] 오류뜸\r\n",
        "#a gt b --> a > b\r\n",
        "#a lt b --> a < b\r\n",
        "\r\n",
        "#outlier 제거\r\n",
        "train = train.loc[(train[\"amount\"] > -1000)&(train[\"amount\"]< 1000)]"
      ],
      "execution_count": 54,
      "outputs": []
    },
    {
      "cell_type": "code",
      "metadata": {
        "colab": {
          "base_uri": "https://localhost:8080/",
          "height": 400
        },
        "id": "fpXZ8E1LTeqM",
        "outputId": "172eb0fd-6798-43ae-fca9-e9a178213602"
      },
      "source": [
        "sns.catplot(data=train, x=\"temp\", y=\"amount\", kind=\"violin\")"
      ],
      "execution_count": 56,
      "outputs": [
        {
          "output_type": "execute_result",
          "data": {
            "text/plain": [
              "<seaborn.axisgrid.FacetGrid at 0x7f14406f32b0>"
            ]
          },
          "metadata": {
            "tags": []
          },
          "execution_count": 56
        },
        {
          "output_type": "display_data",
          "data": {
            "image/png": "[encoded data removed]",
            "text/plain": [
              "<Figure size 360x360 with 1 Axes>"
            ]
          },
          "metadata": {
            "tags": [],
            "needs_background": "light"
          }
        }
      ]
    }
  ]
}